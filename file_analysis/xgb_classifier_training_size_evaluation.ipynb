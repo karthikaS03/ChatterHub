{
 "cells": [
  {
   "cell_type": "code",
   "execution_count": 1,
   "metadata": {
    "scrolled": true
   },
   "outputs": [],
   "source": [
    "from sklearn.ensemble import RandomForestClassifier\n",
    "from xgboost import XGBClassifier\n",
    "from sklearn.multiclass import OneVsRestClassifier\n",
    "from xgboost import plot_tree\n",
    "from sklearn.preprocessing import MultiLabelBinarizer\n",
    "from sklearn.feature_extraction.text import CountVectorizer\n",
    "from sklearn.metrics import multilabel_confusion_matrix\n",
    "\n",
    "import json\n",
    "import glob\n",
    "import os\n",
    "import numpy as np\n",
    "from matplotlib import pyplot as plt"
   ]
  },
  {
   "cell_type": "code",
   "execution_count": 2,
   "metadata": {},
   "outputs": [],
   "source": [
    "loadFromMerged=True\n",
    "loadFromIndexes= False\n",
    "Mapper='S'\n",
    "IgnoreEmpty= True\n",
    "FoldID =\"1\"\n",
    "Epoch_count=100\n",
    "Batch_size=5000\n",
    "\n",
    "\n",
    "valid_event_values = set(['on','off','open','closed','locked','unlocked','XXX'])\n"
   ]
  },
  {
   "cell_type": "code",
   "execution_count": 3,
   "metadata": {},
   "outputs": [
    {
     "name": "stderr",
     "output_type": "stream",
     "text": [
      "Using TensorFlow backend.\n"
     ]
    }
   ],
   "source": [
    "%run './utils.ipynb'"
   ]
  },
  {
   "cell_type": "code",
   "execution_count": 4,
   "metadata": {},
   "outputs": [],
   "source": [
    "def print_info(y_test, pred , classes , confidance=0.5, print_skf1=False, size= 500):\n",
    "    \n",
    "    counts = np.sum( y_test.astype(int) , axis=0)\n",
    "    \n",
    "    pred[pred>=confidance] = 1\n",
    "    pred[pred<confidance] = 0\n",
    "    \n",
    "#     acc_wierd  =acc_match_wierd(y_test, pred)\n",
    "    \n",
    "    conf= multilabel_confusion_matrix( y_test , pred.astype(int), labels= range(len(classes)))\n",
    "    accs = [make_recall_shit(x) for x in conf]\n",
    "      \n",
    "    \n",
    "    unknonw_index =-1\n",
    "\n",
    "    tp = 0.00000001\n",
    "    tn = 0.00000001\n",
    "    fp =0.00000001\n",
    "    fn = 0.00000001\n",
    "    \n",
    "    for index in range(len(classes)):\n",
    "        if 'unknown' in classes[index]:\n",
    "            unknonw_index = index\n",
    "            continue\n",
    "            \n",
    "        tp += conf[index][1][1]\n",
    "        tn += conf[index][0][0]\n",
    "        fp += conf[index][0][1] \n",
    "        fn += conf[index][1][0]\n",
    "        \n",
    "    acc = (tp+tn)*1.0 / ( tp+tn+fp+fn)*1.0\n",
    "    recall = tp*1.0/ ( tp+fn ) *1.0\n",
    "    prec = tp*1.0 / ( tp+fp )*1.0\n",
    "    F= 2.0*( tp)/ (2*tp + fp + fn)\n",
    "    \n",
    "    knowns_accs= [acc, recall, prec, F]\n",
    "    print (\"------------------------------------------------------------------------\")\n",
    "    index = unknonw_index\n",
    "    tp += conf[index][1][1]\n",
    "    tn += conf[index][0][0]\n",
    "    fp += conf[index][0][1] \n",
    "    fn += conf[index][1][0]\n",
    "\n",
    "    acc = (tp+tn)*1.0 / ( tp+tn+fp+fn)*1.0\n",
    "    recall = tp*1.0/ ( tp+fn ) *1.0\n",
    "    prec = tp*1.0 / ( tp+fp )*1.0\n",
    "    F= 2.0*( tp)/ (2*tp + fp + fn)\n",
    "    \n",
    " \n",
    "    all_accs =  [acc, recall, prec, F]\n",
    " \n",
    "  \n",
    "    return size, all_accs, knowns_accs\n",
    "    \n",
    "    "
   ]
  },
  {
   "cell_type": "code",
   "execution_count": 5,
   "metadata": {},
   "outputs": [],
   "source": [
    "def clean_data( x_data, y_data , removeempty=True, Mapping='S'):\n",
    "\n",
    "    #  mapps the input records to a integer array for the input\n",
    "    def mapping_x( inp, includeDirection = False , TrimAt= 15 ):\n",
    "        includeDirection=True\n",
    "        if includeDirection:\n",
    "            return np.array([ x[\"frame_length\"] + \n",
    "            ('+' if x['packet_source']=='hub' else '-')  \n",
    "            for x in inp ])\n",
    "        else:\n",
    "            # return np.array([ int(int(x[\"frame_length\"])/10)*10  for x in inp ])\n",
    "            return np.array([ x[\"frame_length\"]  for x in inp ])\n",
    "\n",
    "    def mapping_y_service(inp):\n",
    "        return np.array(  list(set([x[\"event\"] for x in inp])) if (len(inp )>0) else [\"none\"] )\n",
    "\n",
    "    def mapping_y_service_event(inp):\n",
    "        return np.array(  list(set([ (\"%s-%s\"%( x[\"event\"] ,x[\"val\"] )).replace('unknown-','unknown') for x in inp])) if (len(inp )>0) else [\"none\"] )\n",
    "\n",
    "    def mapping_y_device_service(inp):\n",
    "        return np.array(  list(set([ \"%s & %s\"%( x[\"device\"] ,x[\"event\"] ) for x in inp])) if (len(inp )>0) else [\"none\"] )\n",
    "\n",
    "    def mapping_y_full(inp):\n",
    "        return np.array(  list(set([ \"%s & %s & %s\"%( x[\"device\"] ,x[\"event\"], x['val'] ) for x in inp])) if (len(inp )>0) else [\"none\"] )\n",
    "\n",
    "    # print(y_data)\n",
    "    cleans = [] \n",
    "    cleans = (sorted([ x for x in y_data if (removeempty and len(y_data[x]) > 0) or not removeempty  ] ))\n",
    "    \n",
    "    ret_x_data  = [x_data[x] for x in cleans]\n",
    "    ret_y_data  = [y_data[x] for x in cleans] \n",
    "    \n",
    "    # print( len(y_data), len(cleans) )\n",
    "    # Mapping='SE'\n",
    "    ret_x  = [ mapping_x(x) for x in ret_x_data ] \n",
    "    ret_y_s = [ mapping_y_service(y) for y in ret_y_data ]\n",
    "    if Mapping=='S':\n",
    "        ret_y  = [ mapping_y_service(y) for y in ret_y_data ]\n",
    "    elif Mapping=='SE':\n",
    "        ret_y  = [ mapping_y_service_event(y) for y in ret_y_data ]\n",
    "    elif Mapping=='DS':\n",
    "        ret_y  = [ mapping_y_device_service(y) for y in ret_y_data ]\n",
    "    elif Mapping=='F':\n",
    "        ret_y  = [ mapping_y_full(y) for y in ret_y_data ]\n",
    "    return ret_x, ret_y, ret_x_data\n"
   ]
  },
  {
   "cell_type": "code",
   "execution_count": 6,
   "metadata": {},
   "outputs": [],
   "source": [
    "\n",
    "def pre_process_raw( x_data,y_data, dim_size = 128, test = False, normalize = False ,classes=None, twoD= False, string =False ):\n",
    "    #  y data \n",
    "    # \"\"\"\n",
    "    # this functino is in charge of preprocessing the records , the sourc e json contains a lot of extra stuff, this function tailors\n",
    "    # the data and it fixes their lenghth\n",
    "    # \"\"\"\n",
    "    global terms_dic\n",
    "    # print(x_data)\n",
    "\n",
    "    if classes is None:\n",
    "        classes  = sorted(list(np.unique(  np.concatenate( y_data  ))))\n",
    "    else :\n",
    "        classes = sorted(classes)\n",
    "    if classes and 'unknown' not in classes:\n",
    "        classes.append('unknown') \n",
    "    classes = sorted(classes)  \n",
    "    services=classes\n",
    "    y_data_categorical = []  \n",
    "    x_data_temp = [] \n",
    "    y_class_data = []\n",
    "    print(classes)\n",
    "    classes_count={}\n",
    "    for i,labels in enumerate(y_data):\n",
    "        classFound=False\n",
    "        temp = np.zeros( len(classes) )\n",
    "        # print(x)\n",
    "        y_class=[]\n",
    "        \n",
    "        # if 'lock' in labels  and 'known' not in classes and test:\n",
    "        #     print(labels)\n",
    "        for label in labels :\n",
    "            if 'unknown' in label  and len(labels)>1:\n",
    "                continue\n",
    "                \n",
    "            if label in classes :#and (not test or classes_count.get(label,0)<1000):\n",
    "                y_class.append(label)\n",
    "                temp[ classes.index( label ) ] = 1\n",
    "#                 if label!='unknown' and label!='ping':\n",
    "#                     classes_count[label] = classes_count.get(label,0)+1\n",
    "                classFound=True #if not classFound else classFound\n",
    "                # if 'lock' in label and 'known' not in classes and test:\n",
    "                #     print(label,classFound)\n",
    "\n",
    "        \n",
    "        \n",
    "        if 'known' in classes and not classFound:\n",
    "            temp[classes.index( 'known')] = 1                                \n",
    "            y_class = labels\n",
    "                         \n",
    "        elif not classFound and not test:\n",
    "            temp[classes.index('unknown')] = 1\n",
    "            y_class.append('unknown')\n",
    "            # print(y_class)\n",
    "        \n",
    "        \n",
    "\n",
    "        if terms_dic and not test:          \n",
    "            x_data_valid = np.array([seq for seq in x_data[i] if any([seq.split()[0] in terms_dic[lbl]for lbl in labels])])\n",
    "        else:      \n",
    "            x_data_valid=x_data[i]   \n",
    "       \n",
    "        if len(x_data_valid)>0 and len(y_class)>0:\n",
    "            y_data_categorical.append( temp ) \n",
    "            # print(x_data_valid)\n",
    "            x_data_temp.append(x_data_valid)\n",
    "            y_class_data.append(' '.join(y_class))\n",
    "            # if 'known' not in classes and test and 'lock' in labels:\n",
    "            #     print(classFound,y_class,labels,x_data_valid)\n",
    "\n",
    "    # print(x_data_temp)\n",
    "    # print(y_data_categorical    )\n",
    "    y_data_categorical = np.vstack(y_data_categorical)\n",
    "    # print(y_data_categorical)\n",
    "    x_data=x_data_temp\n",
    "    # print(x_data)\n",
    "    x_data_temp=[]\n",
    "    temp = [] \n",
    "    \n",
    "    for x in x_data:\n",
    "        temp = [] #list(x)\n",
    "        lst = list(x)\n",
    "        temp = lst\n",
    "        while len(temp)<dim_size:\n",
    "            temp.extend(lst[:dim_size-len(lst)])\n",
    "        # while dim_size - len(temp )   > len(lst):\n",
    "        #     temp.extend(lst)\n",
    "\n",
    "        # while len(temp) < dim_size:\n",
    "        #     temp.append( 0 )\n",
    "        if not string:\n",
    "            x_data_temp.append(np.array(temp))\n",
    "        else:\n",
    "            x_data_temp.append(' '.join(list(map(str,temp))))\n",
    "    #     # print(temp)\n",
    "    # print(x_data)\n",
    "    \n",
    "    if normalize:\n",
    "        x_data_temp = np.array( x_data_temp) / (np.amax( x_data_temp) + 0.000000000001)\n",
    "    else :\n",
    "        x_data_temp = np.array(x_data_temp)\n",
    "    \n",
    "    print(x_data_temp.shape)\n",
    "   \n",
    "    return  x_data_temp ,y_data_categorical , y_class_data\n",
    "\n"
   ]
  },
  {
   "cell_type": "code",
   "execution_count": 7,
   "metadata": {},
   "outputs": [
    {
     "name": "stdout",
     "output_type": "stream",
     "text": [
      "in load from merged\n",
      "loading from test files\n",
      "found files :  5\n",
      "home_os_final.json\n",
      "home_sk_final.json\n",
      "test_data_light.json\n",
      "test_data_motion_2.json\n",
      "['button', 'colorTemperature', 'contact', 'level', 'lock', 'motion', 'ping', 'status', 'switch', 'temperature', 'unknown']\n",
      "(50,)\n",
      "len x_TEst before predict 32511\n",
      "predicting ['button', 'colorTemperature', 'contact', 'level', 'lock', 'motion', 'ping', 'status', 'switch', 'temperature', 'unknown']\n",
      "['button', 'colorTemperature', 'contact', 'level', 'lock', 'motion', 'ping', 'status', 'switch', 'temperature', 'unknown']\n",
      "(24440,)\n"
     ]
    },
    {
     "name": "stderr",
     "output_type": "stream",
     "text": [
      "/opt/anaconda3/envs/omid/lib/python3.6/site-packages/sklearn/multiclass.py:75: UserWarning: Label not 0 is present in all training examples.\n",
      "  str(classes[c]))\n",
      "/opt/anaconda3/envs/omid/lib/python3.6/site-packages/sklearn/multiclass.py:75: UserWarning: Label not 1 is present in all training examples.\n",
      "  str(classes[c]))\n",
      "/opt/anaconda3/envs/omid/lib/python3.6/site-packages/sklearn/multiclass.py:75: UserWarning: Label not 2 is present in all training examples.\n",
      "  str(classes[c]))\n",
      "/opt/anaconda3/envs/omid/lib/python3.6/site-packages/sklearn/multiclass.py:75: UserWarning: Label not 3 is present in all training examples.\n",
      "  str(classes[c]))\n",
      "/opt/anaconda3/envs/omid/lib/python3.6/site-packages/sklearn/multiclass.py:75: UserWarning: Label not 4 is present in all training examples.\n",
      "  str(classes[c]))\n",
      "/opt/anaconda3/envs/omid/lib/python3.6/site-packages/sklearn/multiclass.py:75: UserWarning: Label not 7 is present in all training examples.\n",
      "  str(classes[c]))\n",
      "/opt/anaconda3/envs/omid/lib/python3.6/site-packages/sklearn/multiclass.py:75: UserWarning: Label not 8 is present in all training examples.\n",
      "  str(classes[c]))\n",
      "/opt/anaconda3/envs/omid/lib/python3.6/site-packages/sklearn/multiclass.py:75: UserWarning: Label not 9 is present in all training examples.\n",
      "  str(classes[c]))\n"
     ]
    },
    {
     "name": "stdout",
     "output_type": "stream",
     "text": [
      "==================HOME Case : Omid =============\n"
     ]
    },
    {
     "name": "stderr",
     "output_type": "stream",
     "text": [
      "/opt/anaconda3/envs/omid/lib/python3.6/site-packages/ipykernel_launcher.py:10: RuntimeWarning: invalid value encountered in double_scalars\n",
      "  # Remove the CWD from sys.path while we load stuff.\n"
     ]
    },
    {
     "name": "stdout",
     "output_type": "stream",
     "text": [
      "------------------------------------------------------------------------\n",
      "in load from merged\n",
      "loading from test files\n",
      "found files :  5\n",
      "home_os_final.json\n",
      "home_sk_final.json\n",
      "test_data_light.json\n",
      "test_data_motion_2.json\n",
      "['button', 'colorTemperature', 'contact', 'level', 'lock', 'motion', 'ping', 'status', 'switch', 'temperature', 'unknown']\n",
      "(250,)\n",
      "len x_TEst before predict 32511\n",
      "predicting ['button', 'colorTemperature', 'contact', 'level', 'lock', 'motion', 'ping', 'status', 'switch', 'temperature', 'unknown']\n",
      "['button', 'colorTemperature', 'contact', 'level', 'lock', 'motion', 'ping', 'status', 'switch', 'temperature', 'unknown']\n",
      "(24440,)\n"
     ]
    },
    {
     "name": "stderr",
     "output_type": "stream",
     "text": [
      "/opt/anaconda3/envs/omid/lib/python3.6/site-packages/sklearn/multiclass.py:75: UserWarning: Label not 0 is present in all training examples.\n",
      "  str(classes[c]))\n",
      "/opt/anaconda3/envs/omid/lib/python3.6/site-packages/sklearn/multiclass.py:75: UserWarning: Label not 1 is present in all training examples.\n",
      "  str(classes[c]))\n",
      "/opt/anaconda3/envs/omid/lib/python3.6/site-packages/sklearn/multiclass.py:75: UserWarning: Label not 2 is present in all training examples.\n",
      "  str(classes[c]))\n",
      "/opt/anaconda3/envs/omid/lib/python3.6/site-packages/sklearn/multiclass.py:75: UserWarning: Label not 3 is present in all training examples.\n",
      "  str(classes[c]))\n",
      "/opt/anaconda3/envs/omid/lib/python3.6/site-packages/sklearn/multiclass.py:75: UserWarning: Label not 4 is present in all training examples.\n",
      "  str(classes[c]))\n",
      "/opt/anaconda3/envs/omid/lib/python3.6/site-packages/sklearn/multiclass.py:75: UserWarning: Label not 7 is present in all training examples.\n",
      "  str(classes[c]))\n",
      "/opt/anaconda3/envs/omid/lib/python3.6/site-packages/sklearn/multiclass.py:75: UserWarning: Label not 8 is present in all training examples.\n",
      "  str(classes[c]))\n"
     ]
    },
    {
     "name": "stdout",
     "output_type": "stream",
     "text": [
      "==================HOME Case : Omid =============\n"
     ]
    },
    {
     "name": "stderr",
     "output_type": "stream",
     "text": [
      "/opt/anaconda3/envs/omid/lib/python3.6/site-packages/ipykernel_launcher.py:10: RuntimeWarning: invalid value encountered in double_scalars\n",
      "  # Remove the CWD from sys.path while we load stuff.\n"
     ]
    },
    {
     "name": "stdout",
     "output_type": "stream",
     "text": [
      "------------------------------------------------------------------------\n",
      "in load from merged\n",
      "loading from test files\n",
      "found files :  5\n",
      "home_os_final.json\n",
      "home_sk_final.json\n",
      "test_data_light.json\n",
      "test_data_motion_2.json\n",
      "['button', 'colorTemperature', 'contact', 'level', 'lock', 'motion', 'ping', 'status', 'switch', 'temperature', 'unknown']\n",
      "(450,)\n",
      "len x_TEst before predict 32511\n",
      "predicting ['button', 'colorTemperature', 'contact', 'level', 'lock', 'motion', 'ping', 'status', 'switch', 'temperature', 'unknown']\n",
      "['button', 'colorTemperature', 'contact', 'level', 'lock', 'motion', 'ping', 'status', 'switch', 'temperature', 'unknown']\n",
      "(24440,)\n"
     ]
    },
    {
     "name": "stderr",
     "output_type": "stream",
     "text": [
      "/opt/anaconda3/envs/omid/lib/python3.6/site-packages/sklearn/multiclass.py:75: UserWarning: Label not 0 is present in all training examples.\n",
      "  str(classes[c]))\n",
      "/opt/anaconda3/envs/omid/lib/python3.6/site-packages/sklearn/multiclass.py:75: UserWarning: Label not 1 is present in all training examples.\n",
      "  str(classes[c]))\n",
      "/opt/anaconda3/envs/omid/lib/python3.6/site-packages/sklearn/multiclass.py:75: UserWarning: Label not 2 is present in all training examples.\n",
      "  str(classes[c]))\n",
      "/opt/anaconda3/envs/omid/lib/python3.6/site-packages/sklearn/multiclass.py:75: UserWarning: Label not 3 is present in all training examples.\n",
      "  str(classes[c]))\n",
      "/opt/anaconda3/envs/omid/lib/python3.6/site-packages/sklearn/multiclass.py:75: UserWarning: Label not 4 is present in all training examples.\n",
      "  str(classes[c]))\n",
      "/opt/anaconda3/envs/omid/lib/python3.6/site-packages/sklearn/multiclass.py:75: UserWarning: Label not 7 is present in all training examples.\n",
      "  str(classes[c]))\n",
      "/opt/anaconda3/envs/omid/lib/python3.6/site-packages/sklearn/multiclass.py:75: UserWarning: Label not 8 is present in all training examples.\n",
      "  str(classes[c]))\n"
     ]
    },
    {
     "name": "stdout",
     "output_type": "stream",
     "text": [
      "==================HOME Case : Omid =============\n"
     ]
    },
    {
     "name": "stderr",
     "output_type": "stream",
     "text": [
      "/opt/anaconda3/envs/omid/lib/python3.6/site-packages/ipykernel_launcher.py:10: RuntimeWarning: invalid value encountered in double_scalars\n",
      "  # Remove the CWD from sys.path while we load stuff.\n"
     ]
    },
    {
     "name": "stdout",
     "output_type": "stream",
     "text": [
      "------------------------------------------------------------------------\n",
      "in load from merged\n",
      "loading from test files\n",
      "found files :  5\n",
      "home_os_final.json\n",
      "home_sk_final.json\n",
      "test_data_light.json\n",
      "test_data_motion_2.json\n",
      "['button', 'colorTemperature', 'contact', 'level', 'lock', 'motion', 'ping', 'status', 'switch', 'temperature', 'unknown']\n",
      "(650,)\n",
      "len x_TEst before predict 32511\n",
      "predicting ['button', 'colorTemperature', 'contact', 'level', 'lock', 'motion', 'ping', 'status', 'switch', 'temperature', 'unknown']\n",
      "['button', 'colorTemperature', 'contact', 'level', 'lock', 'motion', 'ping', 'status', 'switch', 'temperature', 'unknown']\n",
      "(24440,)\n"
     ]
    },
    {
     "name": "stderr",
     "output_type": "stream",
     "text": [
      "/opt/anaconda3/envs/omid/lib/python3.6/site-packages/sklearn/multiclass.py:75: UserWarning: Label not 0 is present in all training examples.\n",
      "  str(classes[c]))\n",
      "/opt/anaconda3/envs/omid/lib/python3.6/site-packages/sklearn/multiclass.py:75: UserWarning: Label not 1 is present in all training examples.\n",
      "  str(classes[c]))\n",
      "/opt/anaconda3/envs/omid/lib/python3.6/site-packages/sklearn/multiclass.py:75: UserWarning: Label not 2 is present in all training examples.\n",
      "  str(classes[c]))\n",
      "/opt/anaconda3/envs/omid/lib/python3.6/site-packages/sklearn/multiclass.py:75: UserWarning: Label not 3 is present in all training examples.\n",
      "  str(classes[c]))\n",
      "/opt/anaconda3/envs/omid/lib/python3.6/site-packages/sklearn/multiclass.py:75: UserWarning: Label not 4 is present in all training examples.\n",
      "  str(classes[c]))\n",
      "/opt/anaconda3/envs/omid/lib/python3.6/site-packages/sklearn/multiclass.py:75: UserWarning: Label not 7 is present in all training examples.\n",
      "  str(classes[c]))\n",
      "/opt/anaconda3/envs/omid/lib/python3.6/site-packages/sklearn/multiclass.py:75: UserWarning: Label not 8 is present in all training examples.\n",
      "  str(classes[c]))\n"
     ]
    },
    {
     "name": "stdout",
     "output_type": "stream",
     "text": [
      "==================HOME Case : Omid =============\n"
     ]
    },
    {
     "name": "stderr",
     "output_type": "stream",
     "text": [
      "/opt/anaconda3/envs/omid/lib/python3.6/site-packages/ipykernel_launcher.py:10: RuntimeWarning: invalid value encountered in double_scalars\n",
      "  # Remove the CWD from sys.path while we load stuff.\n"
     ]
    },
    {
     "name": "stdout",
     "output_type": "stream",
     "text": [
      "------------------------------------------------------------------------\n",
      "in load from merged\n",
      "loading from test files\n",
      "found files :  5\n",
      "home_os_final.json\n",
      "home_sk_final.json\n",
      "test_data_light.json\n",
      "test_data_motion_2.json\n",
      "['button', 'colorTemperature', 'contact', 'level', 'lock', 'motion', 'ping', 'status', 'switch', 'temperature', 'unknown']\n",
      "(850,)\n",
      "len x_TEst before predict 32511\n",
      "predicting ['button', 'colorTemperature', 'contact', 'level', 'lock', 'motion', 'ping', 'status', 'switch', 'temperature', 'unknown']\n",
      "['button', 'colorTemperature', 'contact', 'level', 'lock', 'motion', 'ping', 'status', 'switch', 'temperature', 'unknown']\n",
      "(24440,)\n"
     ]
    },
    {
     "name": "stderr",
     "output_type": "stream",
     "text": [
      "/opt/anaconda3/envs/omid/lib/python3.6/site-packages/sklearn/multiclass.py:75: UserWarning: Label not 0 is present in all training examples.\n",
      "  str(classes[c]))\n",
      "/opt/anaconda3/envs/omid/lib/python3.6/site-packages/sklearn/multiclass.py:75: UserWarning: Label not 1 is present in all training examples.\n",
      "  str(classes[c]))\n",
      "/opt/anaconda3/envs/omid/lib/python3.6/site-packages/sklearn/multiclass.py:75: UserWarning: Label not 2 is present in all training examples.\n",
      "  str(classes[c]))\n",
      "/opt/anaconda3/envs/omid/lib/python3.6/site-packages/sklearn/multiclass.py:75: UserWarning: Label not 3 is present in all training examples.\n",
      "  str(classes[c]))\n",
      "/opt/anaconda3/envs/omid/lib/python3.6/site-packages/sklearn/multiclass.py:75: UserWarning: Label not 4 is present in all training examples.\n",
      "  str(classes[c]))\n",
      "/opt/anaconda3/envs/omid/lib/python3.6/site-packages/sklearn/multiclass.py:75: UserWarning: Label not 7 is present in all training examples.\n",
      "  str(classes[c]))\n",
      "/opt/anaconda3/envs/omid/lib/python3.6/site-packages/sklearn/multiclass.py:75: UserWarning: Label not 8 is present in all training examples.\n",
      "  str(classes[c]))\n"
     ]
    },
    {
     "name": "stdout",
     "output_type": "stream",
     "text": [
      "==================HOME Case : Omid =============\n"
     ]
    },
    {
     "name": "stderr",
     "output_type": "stream",
     "text": [
      "/opt/anaconda3/envs/omid/lib/python3.6/site-packages/ipykernel_launcher.py:10: RuntimeWarning: invalid value encountered in double_scalars\n",
      "  # Remove the CWD from sys.path while we load stuff.\n"
     ]
    },
    {
     "name": "stdout",
     "output_type": "stream",
     "text": [
      "------------------------------------------------------------------------\n",
      "in load from merged\n",
      "loading from test files\n",
      "found files :  5\n",
      "home_os_final.json\n",
      "home_sk_final.json\n",
      "test_data_light.json\n",
      "test_data_motion_2.json\n",
      "['button', 'colorTemperature', 'contact', 'level', 'lock', 'motion', 'ping', 'status', 'switch', 'temperature', 'unknown']\n",
      "(1050,)\n",
      "len x_TEst before predict 32511\n",
      "predicting ['button', 'colorTemperature', 'contact', 'level', 'lock', 'motion', 'ping', 'status', 'switch', 'temperature', 'unknown']\n",
      "['button', 'colorTemperature', 'contact', 'level', 'lock', 'motion', 'ping', 'status', 'switch', 'temperature', 'unknown']\n",
      "(24440,)\n"
     ]
    },
    {
     "name": "stderr",
     "output_type": "stream",
     "text": [
      "/opt/anaconda3/envs/omid/lib/python3.6/site-packages/sklearn/multiclass.py:75: UserWarning: Label not 0 is present in all training examples.\n",
      "  str(classes[c]))\n",
      "/opt/anaconda3/envs/omid/lib/python3.6/site-packages/sklearn/multiclass.py:75: UserWarning: Label not 1 is present in all training examples.\n",
      "  str(classes[c]))\n",
      "/opt/anaconda3/envs/omid/lib/python3.6/site-packages/sklearn/multiclass.py:75: UserWarning: Label not 2 is present in all training examples.\n",
      "  str(classes[c]))\n",
      "/opt/anaconda3/envs/omid/lib/python3.6/site-packages/sklearn/multiclass.py:75: UserWarning: Label not 3 is present in all training examples.\n",
      "  str(classes[c]))\n",
      "/opt/anaconda3/envs/omid/lib/python3.6/site-packages/sklearn/multiclass.py:75: UserWarning: Label not 4 is present in all training examples.\n",
      "  str(classes[c]))\n",
      "/opt/anaconda3/envs/omid/lib/python3.6/site-packages/sklearn/multiclass.py:75: UserWarning: Label not 7 is present in all training examples.\n",
      "  str(classes[c]))\n",
      "/opt/anaconda3/envs/omid/lib/python3.6/site-packages/sklearn/multiclass.py:75: UserWarning: Label not 8 is present in all training examples.\n",
      "  str(classes[c]))\n"
     ]
    },
    {
     "name": "stdout",
     "output_type": "stream",
     "text": [
      "==================HOME Case : Omid =============\n"
     ]
    },
    {
     "name": "stderr",
     "output_type": "stream",
     "text": [
      "/opt/anaconda3/envs/omid/lib/python3.6/site-packages/ipykernel_launcher.py:10: RuntimeWarning: invalid value encountered in double_scalars\n",
      "  # Remove the CWD from sys.path while we load stuff.\n"
     ]
    },
    {
     "name": "stdout",
     "output_type": "stream",
     "text": [
      "------------------------------------------------------------------------\n",
      "in load from merged\n",
      "loading from test files\n",
      "found files :  5\n",
      "home_os_final.json\n",
      "home_sk_final.json\n",
      "test_data_light.json\n",
      "test_data_motion_2.json\n",
      "['button', 'colorTemperature', 'contact', 'level', 'lock', 'motion', 'ping', 'status', 'switch', 'temperature', 'unknown']\n",
      "(1250,)\n",
      "len x_TEst before predict 32511\n",
      "predicting ['button', 'colorTemperature', 'contact', 'level', 'lock', 'motion', 'ping', 'status', 'switch', 'temperature', 'unknown']\n",
      "['button', 'colorTemperature', 'contact', 'level', 'lock', 'motion', 'ping', 'status', 'switch', 'temperature', 'unknown']\n",
      "(24440,)\n"
     ]
    },
    {
     "name": "stderr",
     "output_type": "stream",
     "text": [
      "/opt/anaconda3/envs/omid/lib/python3.6/site-packages/sklearn/multiclass.py:75: UserWarning: Label not 0 is present in all training examples.\n",
      "  str(classes[c]))\n",
      "/opt/anaconda3/envs/omid/lib/python3.6/site-packages/sklearn/multiclass.py:75: UserWarning: Label not 1 is present in all training examples.\n",
      "  str(classes[c]))\n",
      "/opt/anaconda3/envs/omid/lib/python3.6/site-packages/sklearn/multiclass.py:75: UserWarning: Label not 2 is present in all training examples.\n",
      "  str(classes[c]))\n",
      "/opt/anaconda3/envs/omid/lib/python3.6/site-packages/sklearn/multiclass.py:75: UserWarning: Label not 3 is present in all training examples.\n",
      "  str(classes[c]))\n",
      "/opt/anaconda3/envs/omid/lib/python3.6/site-packages/sklearn/multiclass.py:75: UserWarning: Label not 4 is present in all training examples.\n",
      "  str(classes[c]))\n",
      "/opt/anaconda3/envs/omid/lib/python3.6/site-packages/sklearn/multiclass.py:75: UserWarning: Label not 7 is present in all training examples.\n",
      "  str(classes[c]))\n",
      "/opt/anaconda3/envs/omid/lib/python3.6/site-packages/sklearn/multiclass.py:75: UserWarning: Label not 8 is present in all training examples.\n",
      "  str(classes[c]))\n"
     ]
    },
    {
     "name": "stdout",
     "output_type": "stream",
     "text": [
      "==================HOME Case : Omid =============\n"
     ]
    },
    {
     "name": "stderr",
     "output_type": "stream",
     "text": [
      "/opt/anaconda3/envs/omid/lib/python3.6/site-packages/ipykernel_launcher.py:10: RuntimeWarning: invalid value encountered in double_scalars\n",
      "  # Remove the CWD from sys.path while we load stuff.\n"
     ]
    },
    {
     "name": "stdout",
     "output_type": "stream",
     "text": [
      "------------------------------------------------------------------------\n",
      "in load from merged\n",
      "loading from test files\n",
      "found files :  5\n",
      "home_os_final.json\n",
      "home_sk_final.json\n",
      "test_data_light.json\n",
      "test_data_motion_2.json\n",
      "['button', 'colorTemperature', 'contact', 'level', 'lock', 'motion', 'ping', 'status', 'switch', 'temperature', 'unknown']\n",
      "(1450,)\n",
      "len x_TEst before predict 32511\n",
      "predicting ['button', 'colorTemperature', 'contact', 'level', 'lock', 'motion', 'ping', 'status', 'switch', 'temperature', 'unknown']\n",
      "['button', 'colorTemperature', 'contact', 'level', 'lock', 'motion', 'ping', 'status', 'switch', 'temperature', 'unknown']\n",
      "(24440,)\n"
     ]
    },
    {
     "name": "stderr",
     "output_type": "stream",
     "text": [
      "/opt/anaconda3/envs/omid/lib/python3.6/site-packages/sklearn/multiclass.py:75: UserWarning: Label not 0 is present in all training examples.\n",
      "  str(classes[c]))\n",
      "/opt/anaconda3/envs/omid/lib/python3.6/site-packages/sklearn/multiclass.py:75: UserWarning: Label not 1 is present in all training examples.\n",
      "  str(classes[c]))\n",
      "/opt/anaconda3/envs/omid/lib/python3.6/site-packages/sklearn/multiclass.py:75: UserWarning: Label not 2 is present in all training examples.\n",
      "  str(classes[c]))\n",
      "/opt/anaconda3/envs/omid/lib/python3.6/site-packages/sklearn/multiclass.py:75: UserWarning: Label not 3 is present in all training examples.\n",
      "  str(classes[c]))\n",
      "/opt/anaconda3/envs/omid/lib/python3.6/site-packages/sklearn/multiclass.py:75: UserWarning: Label not 4 is present in all training examples.\n",
      "  str(classes[c]))\n",
      "/opt/anaconda3/envs/omid/lib/python3.6/site-packages/sklearn/multiclass.py:75: UserWarning: Label not 7 is present in all training examples.\n",
      "  str(classes[c]))\n",
      "/opt/anaconda3/envs/omid/lib/python3.6/site-packages/sklearn/multiclass.py:75: UserWarning: Label not 8 is present in all training examples.\n",
      "  str(classes[c]))\n"
     ]
    },
    {
     "name": "stdout",
     "output_type": "stream",
     "text": [
      "==================HOME Case : Omid =============\n"
     ]
    },
    {
     "name": "stderr",
     "output_type": "stream",
     "text": [
      "/opt/anaconda3/envs/omid/lib/python3.6/site-packages/ipykernel_launcher.py:10: RuntimeWarning: invalid value encountered in double_scalars\n",
      "  # Remove the CWD from sys.path while we load stuff.\n"
     ]
    },
    {
     "name": "stdout",
     "output_type": "stream",
     "text": [
      "------------------------------------------------------------------------\n",
      "in load from merged\n",
      "loading from test files\n",
      "found files :  5\n",
      "home_os_final.json\n",
      "home_sk_final.json\n",
      "test_data_light.json\n",
      "test_data_motion_2.json\n",
      "['button', 'colorTemperature', 'contact', 'level', 'lock', 'motion', 'ping', 'status', 'switch', 'temperature', 'unknown']\n",
      "(1650,)\n",
      "len x_TEst before predict 32511\n",
      "predicting ['button', 'colorTemperature', 'contact', 'level', 'lock', 'motion', 'ping', 'status', 'switch', 'temperature', 'unknown']\n",
      "['button', 'colorTemperature', 'contact', 'level', 'lock', 'motion', 'ping', 'status', 'switch', 'temperature', 'unknown']\n",
      "(24440,)\n"
     ]
    },
    {
     "name": "stderr",
     "output_type": "stream",
     "text": [
      "/opt/anaconda3/envs/omid/lib/python3.6/site-packages/sklearn/multiclass.py:75: UserWarning: Label not 0 is present in all training examples.\n",
      "  str(classes[c]))\n",
      "/opt/anaconda3/envs/omid/lib/python3.6/site-packages/sklearn/multiclass.py:75: UserWarning: Label not 1 is present in all training examples.\n",
      "  str(classes[c]))\n",
      "/opt/anaconda3/envs/omid/lib/python3.6/site-packages/sklearn/multiclass.py:75: UserWarning: Label not 2 is present in all training examples.\n",
      "  str(classes[c]))\n",
      "/opt/anaconda3/envs/omid/lib/python3.6/site-packages/sklearn/multiclass.py:75: UserWarning: Label not 3 is present in all training examples.\n",
      "  str(classes[c]))\n",
      "/opt/anaconda3/envs/omid/lib/python3.6/site-packages/sklearn/multiclass.py:75: UserWarning: Label not 4 is present in all training examples.\n",
      "  str(classes[c]))\n",
      "/opt/anaconda3/envs/omid/lib/python3.6/site-packages/sklearn/multiclass.py:75: UserWarning: Label not 7 is present in all training examples.\n",
      "  str(classes[c]))\n",
      "/opt/anaconda3/envs/omid/lib/python3.6/site-packages/sklearn/multiclass.py:75: UserWarning: Label not 8 is present in all training examples.\n",
      "  str(classes[c]))\n"
     ]
    },
    {
     "name": "stdout",
     "output_type": "stream",
     "text": [
      "==================HOME Case : Omid =============\n"
     ]
    },
    {
     "name": "stderr",
     "output_type": "stream",
     "text": [
      "/opt/anaconda3/envs/omid/lib/python3.6/site-packages/ipykernel_launcher.py:10: RuntimeWarning: invalid value encountered in double_scalars\n",
      "  # Remove the CWD from sys.path while we load stuff.\n"
     ]
    },
    {
     "name": "stdout",
     "output_type": "stream",
     "text": [
      "------------------------------------------------------------------------\n",
      "in load from merged\n",
      "loading from test files\n",
      "found files :  5\n",
      "home_os_final.json\n",
      "home_sk_final.json\n",
      "test_data_light.json\n",
      "test_data_motion_2.json\n",
      "['button', 'colorTemperature', 'contact', 'level', 'lock', 'motion', 'ping', 'status', 'switch', 'temperature', 'unknown']\n",
      "(1850,)\n",
      "len x_TEst before predict 32511\n",
      "predicting ['button', 'colorTemperature', 'contact', 'level', 'lock', 'motion', 'ping', 'status', 'switch', 'temperature', 'unknown']\n",
      "['button', 'colorTemperature', 'contact', 'level', 'lock', 'motion', 'ping', 'status', 'switch', 'temperature', 'unknown']\n",
      "(24440,)\n"
     ]
    },
    {
     "name": "stderr",
     "output_type": "stream",
     "text": [
      "/opt/anaconda3/envs/omid/lib/python3.6/site-packages/sklearn/multiclass.py:75: UserWarning: Label not 0 is present in all training examples.\n",
      "  str(classes[c]))\n",
      "/opt/anaconda3/envs/omid/lib/python3.6/site-packages/sklearn/multiclass.py:75: UserWarning: Label not 1 is present in all training examples.\n",
      "  str(classes[c]))\n",
      "/opt/anaconda3/envs/omid/lib/python3.6/site-packages/sklearn/multiclass.py:75: UserWarning: Label not 2 is present in all training examples.\n",
      "  str(classes[c]))\n",
      "/opt/anaconda3/envs/omid/lib/python3.6/site-packages/sklearn/multiclass.py:75: UserWarning: Label not 3 is present in all training examples.\n",
      "  str(classes[c]))\n",
      "/opt/anaconda3/envs/omid/lib/python3.6/site-packages/sklearn/multiclass.py:75: UserWarning: Label not 4 is present in all training examples.\n",
      "  str(classes[c]))\n",
      "/opt/anaconda3/envs/omid/lib/python3.6/site-packages/sklearn/multiclass.py:75: UserWarning: Label not 7 is present in all training examples.\n",
      "  str(classes[c]))\n",
      "/opt/anaconda3/envs/omid/lib/python3.6/site-packages/sklearn/multiclass.py:75: UserWarning: Label not 8 is present in all training examples.\n",
      "  str(classes[c]))\n"
     ]
    },
    {
     "name": "stdout",
     "output_type": "stream",
     "text": [
      "==================HOME Case : Omid =============\n"
     ]
    },
    {
     "name": "stderr",
     "output_type": "stream",
     "text": [
      "/opt/anaconda3/envs/omid/lib/python3.6/site-packages/ipykernel_launcher.py:10: RuntimeWarning: invalid value encountered in double_scalars\n",
      "  # Remove the CWD from sys.path while we load stuff.\n"
     ]
    },
    {
     "name": "stdout",
     "output_type": "stream",
     "text": [
      "------------------------------------------------------------------------\n",
      "in load from merged\n",
      "loading from test files\n",
      "found files :  5\n",
      "home_os_final.json\n",
      "home_sk_final.json\n",
      "test_data_light.json\n",
      "test_data_motion_2.json\n",
      "['button', 'colorTemperature', 'contact', 'level', 'lock', 'motion', 'ping', 'status', 'switch', 'temperature', 'unknown']\n",
      "(2050,)\n",
      "len x_TEst before predict 32511\n",
      "predicting ['button', 'colorTemperature', 'contact', 'level', 'lock', 'motion', 'ping', 'status', 'switch', 'temperature', 'unknown']\n",
      "['button', 'colorTemperature', 'contact', 'level', 'lock', 'motion', 'ping', 'status', 'switch', 'temperature', 'unknown']\n",
      "(24440,)\n"
     ]
    },
    {
     "name": "stderr",
     "output_type": "stream",
     "text": [
      "/opt/anaconda3/envs/omid/lib/python3.6/site-packages/sklearn/multiclass.py:75: UserWarning: Label not 0 is present in all training examples.\n",
      "  str(classes[c]))\n",
      "/opt/anaconda3/envs/omid/lib/python3.6/site-packages/sklearn/multiclass.py:75: UserWarning: Label not 1 is present in all training examples.\n",
      "  str(classes[c]))\n",
      "/opt/anaconda3/envs/omid/lib/python3.6/site-packages/sklearn/multiclass.py:75: UserWarning: Label not 2 is present in all training examples.\n",
      "  str(classes[c]))\n",
      "/opt/anaconda3/envs/omid/lib/python3.6/site-packages/sklearn/multiclass.py:75: UserWarning: Label not 3 is present in all training examples.\n",
      "  str(classes[c]))\n",
      "/opt/anaconda3/envs/omid/lib/python3.6/site-packages/sklearn/multiclass.py:75: UserWarning: Label not 4 is present in all training examples.\n",
      "  str(classes[c]))\n",
      "/opt/anaconda3/envs/omid/lib/python3.6/site-packages/sklearn/multiclass.py:75: UserWarning: Label not 7 is present in all training examples.\n",
      "  str(classes[c]))\n",
      "/opt/anaconda3/envs/omid/lib/python3.6/site-packages/sklearn/multiclass.py:75: UserWarning: Label not 8 is present in all training examples.\n",
      "  str(classes[c]))\n"
     ]
    },
    {
     "name": "stdout",
     "output_type": "stream",
     "text": [
      "==================HOME Case : Omid =============\n"
     ]
    },
    {
     "name": "stderr",
     "output_type": "stream",
     "text": [
      "/opt/anaconda3/envs/omid/lib/python3.6/site-packages/ipykernel_launcher.py:10: RuntimeWarning: invalid value encountered in double_scalars\n",
      "  # Remove the CWD from sys.path while we load stuff.\n"
     ]
    },
    {
     "name": "stdout",
     "output_type": "stream",
     "text": [
      "------------------------------------------------------------------------\n",
      "in load from merged\n",
      "loading from test files\n",
      "found files :  5\n",
      "home_os_final.json\n",
      "home_sk_final.json\n",
      "test_data_light.json\n",
      "test_data_motion_2.json\n",
      "['button', 'colorTemperature', 'contact', 'level', 'lock', 'motion', 'ping', 'status', 'switch', 'temperature', 'unknown']\n",
      "(2250,)\n",
      "len x_TEst before predict 32511\n",
      "predicting ['button', 'colorTemperature', 'contact', 'level', 'lock', 'motion', 'ping', 'status', 'switch', 'temperature', 'unknown']\n",
      "['button', 'colorTemperature', 'contact', 'level', 'lock', 'motion', 'ping', 'status', 'switch', 'temperature', 'unknown']\n",
      "(24440,)\n"
     ]
    },
    {
     "name": "stderr",
     "output_type": "stream",
     "text": [
      "/opt/anaconda3/envs/omid/lib/python3.6/site-packages/sklearn/multiclass.py:75: UserWarning: Label not 0 is present in all training examples.\n",
      "  str(classes[c]))\n",
      "/opt/anaconda3/envs/omid/lib/python3.6/site-packages/sklearn/multiclass.py:75: UserWarning: Label not 1 is present in all training examples.\n",
      "  str(classes[c]))\n",
      "/opt/anaconda3/envs/omid/lib/python3.6/site-packages/sklearn/multiclass.py:75: UserWarning: Label not 2 is present in all training examples.\n",
      "  str(classes[c]))\n",
      "/opt/anaconda3/envs/omid/lib/python3.6/site-packages/sklearn/multiclass.py:75: UserWarning: Label not 3 is present in all training examples.\n",
      "  str(classes[c]))\n",
      "/opt/anaconda3/envs/omid/lib/python3.6/site-packages/sklearn/multiclass.py:75: UserWarning: Label not 4 is present in all training examples.\n",
      "  str(classes[c]))\n",
      "/opt/anaconda3/envs/omid/lib/python3.6/site-packages/sklearn/multiclass.py:75: UserWarning: Label not 7 is present in all training examples.\n",
      "  str(classes[c]))\n",
      "/opt/anaconda3/envs/omid/lib/python3.6/site-packages/sklearn/multiclass.py:75: UserWarning: Label not 8 is present in all training examples.\n",
      "  str(classes[c]))\n"
     ]
    },
    {
     "name": "stdout",
     "output_type": "stream",
     "text": [
      "==================HOME Case : Omid =============\n"
     ]
    },
    {
     "name": "stderr",
     "output_type": "stream",
     "text": [
      "/opt/anaconda3/envs/omid/lib/python3.6/site-packages/ipykernel_launcher.py:10: RuntimeWarning: invalid value encountered in double_scalars\n",
      "  # Remove the CWD from sys.path while we load stuff.\n"
     ]
    },
    {
     "name": "stdout",
     "output_type": "stream",
     "text": [
      "------------------------------------------------------------------------\n",
      "in load from merged\n",
      "loading from test files\n",
      "found files :  5\n",
      "home_os_final.json\n",
      "home_sk_final.json\n",
      "test_data_light.json\n",
      "test_data_motion_2.json\n",
      "['button', 'colorTemperature', 'contact', 'level', 'lock', 'motion', 'ping', 'status', 'switch', 'temperature', 'unknown']\n",
      "(2450,)\n",
      "len x_TEst before predict 32511\n",
      "predicting ['button', 'colorTemperature', 'contact', 'level', 'lock', 'motion', 'ping', 'status', 'switch', 'temperature', 'unknown']\n",
      "['button', 'colorTemperature', 'contact', 'level', 'lock', 'motion', 'ping', 'status', 'switch', 'temperature', 'unknown']\n",
      "(24440,)\n"
     ]
    },
    {
     "name": "stderr",
     "output_type": "stream",
     "text": [
      "/opt/anaconda3/envs/omid/lib/python3.6/site-packages/sklearn/multiclass.py:75: UserWarning: Label not 0 is present in all training examples.\n",
      "  str(classes[c]))\n",
      "/opt/anaconda3/envs/omid/lib/python3.6/site-packages/sklearn/multiclass.py:75: UserWarning: Label not 2 is present in all training examples.\n",
      "  str(classes[c]))\n",
      "/opt/anaconda3/envs/omid/lib/python3.6/site-packages/sklearn/multiclass.py:75: UserWarning: Label not 4 is present in all training examples.\n",
      "  str(classes[c]))\n",
      "/opt/anaconda3/envs/omid/lib/python3.6/site-packages/sklearn/multiclass.py:75: UserWarning: Label not 7 is present in all training examples.\n",
      "  str(classes[c]))\n"
     ]
    },
    {
     "name": "stdout",
     "output_type": "stream",
     "text": [
      "==================HOME Case : Omid =============\n"
     ]
    },
    {
     "name": "stderr",
     "output_type": "stream",
     "text": [
      "/opt/anaconda3/envs/omid/lib/python3.6/site-packages/ipykernel_launcher.py:10: RuntimeWarning: invalid value encountered in double_scalars\n",
      "  # Remove the CWD from sys.path while we load stuff.\n"
     ]
    },
    {
     "name": "stdout",
     "output_type": "stream",
     "text": [
      "------------------------------------------------------------------------\n",
      "in load from merged\n",
      "loading from test files\n",
      "found files :  5\n",
      "home_os_final.json\n",
      "home_sk_final.json\n",
      "test_data_light.json\n",
      "test_data_motion_2.json\n",
      "['button', 'colorTemperature', 'contact', 'level', 'lock', 'motion', 'ping', 'status', 'switch', 'temperature', 'unknown']\n",
      "(2650,)\n",
      "len x_TEst before predict 32511\n",
      "predicting ['button', 'colorTemperature', 'contact', 'level', 'lock', 'motion', 'ping', 'status', 'switch', 'temperature', 'unknown']\n",
      "['button', 'colorTemperature', 'contact', 'level', 'lock', 'motion', 'ping', 'status', 'switch', 'temperature', 'unknown']\n",
      "(24440,)\n"
     ]
    },
    {
     "name": "stderr",
     "output_type": "stream",
     "text": [
      "/opt/anaconda3/envs/omid/lib/python3.6/site-packages/sklearn/multiclass.py:75: UserWarning: Label not 0 is present in all training examples.\n",
      "  str(classes[c]))\n",
      "/opt/anaconda3/envs/omid/lib/python3.6/site-packages/sklearn/multiclass.py:75: UserWarning: Label not 2 is present in all training examples.\n",
      "  str(classes[c]))\n",
      "/opt/anaconda3/envs/omid/lib/python3.6/site-packages/sklearn/multiclass.py:75: UserWarning: Label not 4 is present in all training examples.\n",
      "  str(classes[c]))\n",
      "/opt/anaconda3/envs/omid/lib/python3.6/site-packages/sklearn/multiclass.py:75: UserWarning: Label not 7 is present in all training examples.\n",
      "  str(classes[c]))\n"
     ]
    },
    {
     "name": "stdout",
     "output_type": "stream",
     "text": [
      "==================HOME Case : Omid =============\n"
     ]
    },
    {
     "name": "stderr",
     "output_type": "stream",
     "text": [
      "/opt/anaconda3/envs/omid/lib/python3.6/site-packages/ipykernel_launcher.py:10: RuntimeWarning: invalid value encountered in double_scalars\n",
      "  # Remove the CWD from sys.path while we load stuff.\n"
     ]
    },
    {
     "name": "stdout",
     "output_type": "stream",
     "text": [
      "------------------------------------------------------------------------\n",
      "in load from merged\n",
      "loading from test files\n",
      "found files :  5\n",
      "home_os_final.json\n",
      "home_sk_final.json\n",
      "test_data_light.json\n",
      "test_data_motion_2.json\n",
      "['button', 'colorTemperature', 'contact', 'level', 'lock', 'motion', 'ping', 'status', 'switch', 'temperature', 'unknown']\n",
      "(2850,)\n",
      "len x_TEst before predict 32511\n",
      "predicting ['button', 'colorTemperature', 'contact', 'level', 'lock', 'motion', 'ping', 'status', 'switch', 'temperature', 'unknown']\n",
      "['button', 'colorTemperature', 'contact', 'level', 'lock', 'motion', 'ping', 'status', 'switch', 'temperature', 'unknown']\n",
      "(24440,)\n"
     ]
    },
    {
     "name": "stderr",
     "output_type": "stream",
     "text": [
      "/opt/anaconda3/envs/omid/lib/python3.6/site-packages/sklearn/multiclass.py:75: UserWarning: Label not 0 is present in all training examples.\n",
      "  str(classes[c]))\n",
      "/opt/anaconda3/envs/omid/lib/python3.6/site-packages/sklearn/multiclass.py:75: UserWarning: Label not 2 is present in all training examples.\n",
      "  str(classes[c]))\n",
      "/opt/anaconda3/envs/omid/lib/python3.6/site-packages/sklearn/multiclass.py:75: UserWarning: Label not 4 is present in all training examples.\n",
      "  str(classes[c]))\n",
      "/opt/anaconda3/envs/omid/lib/python3.6/site-packages/sklearn/multiclass.py:75: UserWarning: Label not 7 is present in all training examples.\n",
      "  str(classes[c]))\n"
     ]
    },
    {
     "name": "stdout",
     "output_type": "stream",
     "text": [
      "==================HOME Case : Omid =============\n"
     ]
    },
    {
     "name": "stderr",
     "output_type": "stream",
     "text": [
      "/opt/anaconda3/envs/omid/lib/python3.6/site-packages/ipykernel_launcher.py:10: RuntimeWarning: invalid value encountered in double_scalars\n",
      "  # Remove the CWD from sys.path while we load stuff.\n"
     ]
    },
    {
     "name": "stdout",
     "output_type": "stream",
     "text": [
      "------------------------------------------------------------------------\n",
      "in load from merged\n",
      "loading from test files\n",
      "found files :  5\n",
      "home_os_final.json\n",
      "home_sk_final.json\n",
      "test_data_light.json\n",
      "test_data_motion_2.json\n",
      "['button', 'colorTemperature', 'contact', 'level', 'lock', 'motion', 'ping', 'status', 'switch', 'temperature', 'unknown']\n",
      "(3050,)\n",
      "len x_TEst before predict 32511\n",
      "predicting ['button', 'colorTemperature', 'contact', 'level', 'lock', 'motion', 'ping', 'status', 'switch', 'temperature', 'unknown']\n",
      "['button', 'colorTemperature', 'contact', 'level', 'lock', 'motion', 'ping', 'status', 'switch', 'temperature', 'unknown']\n",
      "(24440,)\n"
     ]
    },
    {
     "name": "stderr",
     "output_type": "stream",
     "text": [
      "/opt/anaconda3/envs/omid/lib/python3.6/site-packages/sklearn/multiclass.py:75: UserWarning: Label not 0 is present in all training examples.\n",
      "  str(classes[c]))\n",
      "/opt/anaconda3/envs/omid/lib/python3.6/site-packages/sklearn/multiclass.py:75: UserWarning: Label not 2 is present in all training examples.\n",
      "  str(classes[c]))\n",
      "/opt/anaconda3/envs/omid/lib/python3.6/site-packages/sklearn/multiclass.py:75: UserWarning: Label not 4 is present in all training examples.\n",
      "  str(classes[c]))\n",
      "/opt/anaconda3/envs/omid/lib/python3.6/site-packages/sklearn/multiclass.py:75: UserWarning: Label not 7 is present in all training examples.\n",
      "  str(classes[c]))\n"
     ]
    },
    {
     "name": "stdout",
     "output_type": "stream",
     "text": [
      "==================HOME Case : Omid =============\n"
     ]
    },
    {
     "name": "stderr",
     "output_type": "stream",
     "text": [
      "/opt/anaconda3/envs/omid/lib/python3.6/site-packages/ipykernel_launcher.py:10: RuntimeWarning: invalid value encountered in double_scalars\n",
      "  # Remove the CWD from sys.path while we load stuff.\n"
     ]
    },
    {
     "name": "stdout",
     "output_type": "stream",
     "text": [
      "------------------------------------------------------------------------\n",
      "in load from merged\n",
      "loading from test files\n",
      "found files :  5\n",
      "home_os_final.json\n",
      "home_sk_final.json\n",
      "test_data_light.json\n",
      "test_data_motion_2.json\n",
      "['button', 'colorTemperature', 'contact', 'level', 'lock', 'motion', 'ping', 'status', 'switch', 'temperature', 'unknown']\n",
      "(3250,)\n",
      "len x_TEst before predict 32511\n",
      "predicting ['button', 'colorTemperature', 'contact', 'level', 'lock', 'motion', 'ping', 'status', 'switch', 'temperature', 'unknown']\n",
      "['button', 'colorTemperature', 'contact', 'level', 'lock', 'motion', 'ping', 'status', 'switch', 'temperature', 'unknown']\n",
      "(24440,)\n"
     ]
    },
    {
     "name": "stderr",
     "output_type": "stream",
     "text": [
      "/opt/anaconda3/envs/omid/lib/python3.6/site-packages/sklearn/multiclass.py:75: UserWarning: Label not 0 is present in all training examples.\n",
      "  str(classes[c]))\n",
      "/opt/anaconda3/envs/omid/lib/python3.6/site-packages/sklearn/multiclass.py:75: UserWarning: Label not 2 is present in all training examples.\n",
      "  str(classes[c]))\n",
      "/opt/anaconda3/envs/omid/lib/python3.6/site-packages/sklearn/multiclass.py:75: UserWarning: Label not 4 is present in all training examples.\n",
      "  str(classes[c]))\n",
      "/opt/anaconda3/envs/omid/lib/python3.6/site-packages/sklearn/multiclass.py:75: UserWarning: Label not 7 is present in all training examples.\n",
      "  str(classes[c]))\n"
     ]
    },
    {
     "name": "stdout",
     "output_type": "stream",
     "text": [
      "==================HOME Case : Omid =============\n"
     ]
    },
    {
     "name": "stderr",
     "output_type": "stream",
     "text": [
      "/opt/anaconda3/envs/omid/lib/python3.6/site-packages/ipykernel_launcher.py:10: RuntimeWarning: invalid value encountered in double_scalars\n",
      "  # Remove the CWD from sys.path while we load stuff.\n"
     ]
    },
    {
     "name": "stdout",
     "output_type": "stream",
     "text": [
      "------------------------------------------------------------------------\n",
      "in load from merged\n",
      "loading from test files\n",
      "found files :  5\n",
      "home_os_final.json\n",
      "home_sk_final.json\n",
      "test_data_light.json\n",
      "test_data_motion_2.json\n",
      "['button', 'colorTemperature', 'contact', 'level', 'lock', 'motion', 'ping', 'status', 'switch', 'temperature', 'unknown']\n",
      "(3450,)\n",
      "len x_TEst before predict 32511\n",
      "predicting ['button', 'colorTemperature', 'contact', 'level', 'lock', 'motion', 'ping', 'status', 'switch', 'temperature', 'unknown']\n",
      "['button', 'colorTemperature', 'contact', 'level', 'lock', 'motion', 'ping', 'status', 'switch', 'temperature', 'unknown']\n",
      "(24440,)\n"
     ]
    },
    {
     "name": "stderr",
     "output_type": "stream",
     "text": [
      "/opt/anaconda3/envs/omid/lib/python3.6/site-packages/sklearn/multiclass.py:75: UserWarning: Label not 0 is present in all training examples.\n",
      "  str(classes[c]))\n",
      "/opt/anaconda3/envs/omid/lib/python3.6/site-packages/sklearn/multiclass.py:75: UserWarning: Label not 2 is present in all training examples.\n",
      "  str(classes[c]))\n",
      "/opt/anaconda3/envs/omid/lib/python3.6/site-packages/sklearn/multiclass.py:75: UserWarning: Label not 4 is present in all training examples.\n",
      "  str(classes[c]))\n",
      "/opt/anaconda3/envs/omid/lib/python3.6/site-packages/sklearn/multiclass.py:75: UserWarning: Label not 7 is present in all training examples.\n",
      "  str(classes[c]))\n"
     ]
    },
    {
     "name": "stdout",
     "output_type": "stream",
     "text": [
      "==================HOME Case : Omid =============\n"
     ]
    },
    {
     "name": "stderr",
     "output_type": "stream",
     "text": [
      "/opt/anaconda3/envs/omid/lib/python3.6/site-packages/ipykernel_launcher.py:10: RuntimeWarning: invalid value encountered in double_scalars\n",
      "  # Remove the CWD from sys.path while we load stuff.\n"
     ]
    },
    {
     "name": "stdout",
     "output_type": "stream",
     "text": [
      "------------------------------------------------------------------------\n",
      "in load from merged\n",
      "loading from test files\n",
      "found files :  5\n",
      "home_os_final.json\n",
      "home_sk_final.json\n",
      "test_data_light.json\n",
      "test_data_motion_2.json\n",
      "['button', 'colorTemperature', 'contact', 'level', 'lock', 'motion', 'ping', 'status', 'switch', 'temperature', 'unknown']\n",
      "(3650,)\n",
      "len x_TEst before predict 32511\n",
      "predicting ['button', 'colorTemperature', 'contact', 'level', 'lock', 'motion', 'ping', 'status', 'switch', 'temperature', 'unknown']\n",
      "['button', 'colorTemperature', 'contact', 'level', 'lock', 'motion', 'ping', 'status', 'switch', 'temperature', 'unknown']\n",
      "(24440,)\n"
     ]
    },
    {
     "name": "stderr",
     "output_type": "stream",
     "text": [
      "/opt/anaconda3/envs/omid/lib/python3.6/site-packages/sklearn/multiclass.py:75: UserWarning: Label not 0 is present in all training examples.\n",
      "  str(classes[c]))\n",
      "/opt/anaconda3/envs/omid/lib/python3.6/site-packages/sklearn/multiclass.py:75: UserWarning: Label not 2 is present in all training examples.\n",
      "  str(classes[c]))\n",
      "/opt/anaconda3/envs/omid/lib/python3.6/site-packages/sklearn/multiclass.py:75: UserWarning: Label not 4 is present in all training examples.\n",
      "  str(classes[c]))\n",
      "/opt/anaconda3/envs/omid/lib/python3.6/site-packages/sklearn/multiclass.py:75: UserWarning: Label not 7 is present in all training examples.\n",
      "  str(classes[c]))\n"
     ]
    },
    {
     "name": "stdout",
     "output_type": "stream",
     "text": [
      "==================HOME Case : Omid =============\n"
     ]
    },
    {
     "name": "stderr",
     "output_type": "stream",
     "text": [
      "/opt/anaconda3/envs/omid/lib/python3.6/site-packages/ipykernel_launcher.py:10: RuntimeWarning: invalid value encountered in double_scalars\n",
      "  # Remove the CWD from sys.path while we load stuff.\n"
     ]
    },
    {
     "name": "stdout",
     "output_type": "stream",
     "text": [
      "------------------------------------------------------------------------\n",
      "in load from merged\n",
      "loading from test files\n",
      "found files :  5\n",
      "home_os_final.json\n",
      "home_sk_final.json\n",
      "test_data_light.json\n",
      "test_data_motion_2.json\n",
      "['button', 'colorTemperature', 'contact', 'level', 'lock', 'motion', 'ping', 'status', 'switch', 'temperature', 'unknown']\n",
      "(3850,)\n",
      "len x_TEst before predict 32511\n",
      "predicting ['button', 'colorTemperature', 'contact', 'level', 'lock', 'motion', 'ping', 'status', 'switch', 'temperature', 'unknown']\n",
      "['button', 'colorTemperature', 'contact', 'level', 'lock', 'motion', 'ping', 'status', 'switch', 'temperature', 'unknown']\n",
      "(24440,)\n"
     ]
    },
    {
     "name": "stderr",
     "output_type": "stream",
     "text": [
      "/opt/anaconda3/envs/omid/lib/python3.6/site-packages/sklearn/multiclass.py:75: UserWarning: Label not 0 is present in all training examples.\n",
      "  str(classes[c]))\n",
      "/opt/anaconda3/envs/omid/lib/python3.6/site-packages/sklearn/multiclass.py:75: UserWarning: Label not 2 is present in all training examples.\n",
      "  str(classes[c]))\n",
      "/opt/anaconda3/envs/omid/lib/python3.6/site-packages/sklearn/multiclass.py:75: UserWarning: Label not 4 is present in all training examples.\n",
      "  str(classes[c]))\n",
      "/opt/anaconda3/envs/omid/lib/python3.6/site-packages/sklearn/multiclass.py:75: UserWarning: Label not 7 is present in all training examples.\n",
      "  str(classes[c]))\n"
     ]
    },
    {
     "name": "stdout",
     "output_type": "stream",
     "text": [
      "==================HOME Case : Omid =============\n"
     ]
    },
    {
     "name": "stderr",
     "output_type": "stream",
     "text": [
      "/opt/anaconda3/envs/omid/lib/python3.6/site-packages/ipykernel_launcher.py:10: RuntimeWarning: invalid value encountered in double_scalars\n",
      "  # Remove the CWD from sys.path while we load stuff.\n"
     ]
    },
    {
     "name": "stdout",
     "output_type": "stream",
     "text": [
      "------------------------------------------------------------------------\n",
      "in load from merged\n",
      "loading from test files\n",
      "found files :  5\n",
      "home_os_final.json\n",
      "home_sk_final.json\n",
      "test_data_light.json\n",
      "test_data_motion_2.json\n",
      "['button', 'colorTemperature', 'contact', 'level', 'lock', 'motion', 'ping', 'status', 'switch', 'temperature', 'unknown']\n",
      "(4050,)\n",
      "len x_TEst before predict 32511\n",
      "predicting ['button', 'colorTemperature', 'contact', 'level', 'lock', 'motion', 'ping', 'status', 'switch', 'temperature', 'unknown']\n",
      "['button', 'colorTemperature', 'contact', 'level', 'lock', 'motion', 'ping', 'status', 'switch', 'temperature', 'unknown']\n",
      "(24440,)\n"
     ]
    },
    {
     "name": "stderr",
     "output_type": "stream",
     "text": [
      "/opt/anaconda3/envs/omid/lib/python3.6/site-packages/sklearn/multiclass.py:75: UserWarning: Label not 0 is present in all training examples.\n",
      "  str(classes[c]))\n",
      "/opt/anaconda3/envs/omid/lib/python3.6/site-packages/sklearn/multiclass.py:75: UserWarning: Label not 2 is present in all training examples.\n",
      "  str(classes[c]))\n",
      "/opt/anaconda3/envs/omid/lib/python3.6/site-packages/sklearn/multiclass.py:75: UserWarning: Label not 4 is present in all training examples.\n",
      "  str(classes[c]))\n",
      "/opt/anaconda3/envs/omid/lib/python3.6/site-packages/sklearn/multiclass.py:75: UserWarning: Label not 7 is present in all training examples.\n",
      "  str(classes[c]))\n"
     ]
    },
    {
     "name": "stdout",
     "output_type": "stream",
     "text": [
      "==================HOME Case : Omid =============\n"
     ]
    },
    {
     "name": "stderr",
     "output_type": "stream",
     "text": [
      "/opt/anaconda3/envs/omid/lib/python3.6/site-packages/ipykernel_launcher.py:10: RuntimeWarning: invalid value encountered in double_scalars\n",
      "  # Remove the CWD from sys.path while we load stuff.\n"
     ]
    },
    {
     "name": "stdout",
     "output_type": "stream",
     "text": [
      "------------------------------------------------------------------------\n",
      "in load from merged\n",
      "loading from test files\n",
      "found files :  5\n",
      "home_os_final.json\n",
      "home_sk_final.json\n",
      "test_data_light.json\n",
      "test_data_motion_2.json\n",
      "['button', 'colorTemperature', 'contact', 'level', 'lock', 'motion', 'ping', 'status', 'switch', 'temperature', 'unknown']\n",
      "(4250,)\n",
      "len x_TEst before predict 32511\n",
      "predicting ['button', 'colorTemperature', 'contact', 'level', 'lock', 'motion', 'ping', 'status', 'switch', 'temperature', 'unknown']\n",
      "['button', 'colorTemperature', 'contact', 'level', 'lock', 'motion', 'ping', 'status', 'switch', 'temperature', 'unknown']\n",
      "(24440,)\n"
     ]
    },
    {
     "name": "stderr",
     "output_type": "stream",
     "text": [
      "/opt/anaconda3/envs/omid/lib/python3.6/site-packages/sklearn/multiclass.py:75: UserWarning: Label not 0 is present in all training examples.\n",
      "  str(classes[c]))\n",
      "/opt/anaconda3/envs/omid/lib/python3.6/site-packages/sklearn/multiclass.py:75: UserWarning: Label not 2 is present in all training examples.\n",
      "  str(classes[c]))\n",
      "/opt/anaconda3/envs/omid/lib/python3.6/site-packages/sklearn/multiclass.py:75: UserWarning: Label not 4 is present in all training examples.\n",
      "  str(classes[c]))\n",
      "/opt/anaconda3/envs/omid/lib/python3.6/site-packages/sklearn/multiclass.py:75: UserWarning: Label not 7 is present in all training examples.\n",
      "  str(classes[c]))\n"
     ]
    },
    {
     "name": "stdout",
     "output_type": "stream",
     "text": [
      "==================HOME Case : Omid =============\n"
     ]
    },
    {
     "name": "stderr",
     "output_type": "stream",
     "text": [
      "/opt/anaconda3/envs/omid/lib/python3.6/site-packages/ipykernel_launcher.py:10: RuntimeWarning: invalid value encountered in double_scalars\n",
      "  # Remove the CWD from sys.path while we load stuff.\n"
     ]
    },
    {
     "name": "stdout",
     "output_type": "stream",
     "text": [
      "------------------------------------------------------------------------\n",
      "in load from merged\n",
      "loading from test files\n",
      "found files :  5\n",
      "home_os_final.json\n",
      "home_sk_final.json\n",
      "test_data_light.json\n",
      "test_data_motion_2.json\n",
      "['button', 'colorTemperature', 'contact', 'level', 'lock', 'motion', 'ping', 'status', 'switch', 'temperature', 'unknown']\n",
      "(4450,)\n",
      "len x_TEst before predict 32511\n",
      "predicting ['button', 'colorTemperature', 'contact', 'level', 'lock', 'motion', 'ping', 'status', 'switch', 'temperature', 'unknown']\n",
      "['button', 'colorTemperature', 'contact', 'level', 'lock', 'motion', 'ping', 'status', 'switch', 'temperature', 'unknown']\n",
      "(24440,)\n"
     ]
    },
    {
     "name": "stderr",
     "output_type": "stream",
     "text": [
      "/opt/anaconda3/envs/omid/lib/python3.6/site-packages/sklearn/multiclass.py:75: UserWarning: Label not 0 is present in all training examples.\n",
      "  str(classes[c]))\n",
      "/opt/anaconda3/envs/omid/lib/python3.6/site-packages/sklearn/multiclass.py:75: UserWarning: Label not 2 is present in all training examples.\n",
      "  str(classes[c]))\n",
      "/opt/anaconda3/envs/omid/lib/python3.6/site-packages/sklearn/multiclass.py:75: UserWarning: Label not 4 is present in all training examples.\n",
      "  str(classes[c]))\n",
      "/opt/anaconda3/envs/omid/lib/python3.6/site-packages/sklearn/multiclass.py:75: UserWarning: Label not 7 is present in all training examples.\n",
      "  str(classes[c]))\n"
     ]
    },
    {
     "name": "stdout",
     "output_type": "stream",
     "text": [
      "==================HOME Case : Omid =============\n"
     ]
    },
    {
     "name": "stderr",
     "output_type": "stream",
     "text": [
      "/opt/anaconda3/envs/omid/lib/python3.6/site-packages/ipykernel_launcher.py:10: RuntimeWarning: invalid value encountered in double_scalars\n",
      "  # Remove the CWD from sys.path while we load stuff.\n"
     ]
    },
    {
     "name": "stdout",
     "output_type": "stream",
     "text": [
      "------------------------------------------------------------------------\n",
      "in load from merged\n",
      "loading from test files\n",
      "found files :  5\n",
      "home_os_final.json\n",
      "home_sk_final.json\n",
      "test_data_light.json\n",
      "test_data_motion_2.json\n",
      "['button', 'colorTemperature', 'contact', 'level', 'lock', 'motion', 'ping', 'status', 'switch', 'temperature', 'unknown']\n",
      "(4650,)\n",
      "len x_TEst before predict 32511\n",
      "predicting ['button', 'colorTemperature', 'contact', 'level', 'lock', 'motion', 'ping', 'status', 'switch', 'temperature', 'unknown']\n",
      "['button', 'colorTemperature', 'contact', 'level', 'lock', 'motion', 'ping', 'status', 'switch', 'temperature', 'unknown']\n",
      "(24440,)\n"
     ]
    },
    {
     "name": "stderr",
     "output_type": "stream",
     "text": [
      "/opt/anaconda3/envs/omid/lib/python3.6/site-packages/sklearn/multiclass.py:75: UserWarning: Label not 0 is present in all training examples.\n",
      "  str(classes[c]))\n",
      "/opt/anaconda3/envs/omid/lib/python3.6/site-packages/sklearn/multiclass.py:75: UserWarning: Label not 2 is present in all training examples.\n",
      "  str(classes[c]))\n",
      "/opt/anaconda3/envs/omid/lib/python3.6/site-packages/sklearn/multiclass.py:75: UserWarning: Label not 4 is present in all training examples.\n",
      "  str(classes[c]))\n",
      "/opt/anaconda3/envs/omid/lib/python3.6/site-packages/sklearn/multiclass.py:75: UserWarning: Label not 7 is present in all training examples.\n",
      "  str(classes[c]))\n"
     ]
    },
    {
     "name": "stdout",
     "output_type": "stream",
     "text": [
      "==================HOME Case : Omid =============\n"
     ]
    },
    {
     "name": "stderr",
     "output_type": "stream",
     "text": [
      "/opt/anaconda3/envs/omid/lib/python3.6/site-packages/ipykernel_launcher.py:10: RuntimeWarning: invalid value encountered in double_scalars\n",
      "  # Remove the CWD from sys.path while we load stuff.\n"
     ]
    },
    {
     "name": "stdout",
     "output_type": "stream",
     "text": [
      "------------------------------------------------------------------------\n",
      "in load from merged\n",
      "loading from test files\n",
      "found files :  5\n",
      "home_os_final.json\n",
      "home_sk_final.json\n",
      "test_data_light.json\n",
      "test_data_motion_2.json\n",
      "['button', 'colorTemperature', 'contact', 'level', 'lock', 'motion', 'ping', 'status', 'switch', 'temperature', 'unknown']\n",
      "(4850,)\n",
      "len x_TEst before predict 32511\n",
      "predicting ['button', 'colorTemperature', 'contact', 'level', 'lock', 'motion', 'ping', 'status', 'switch', 'temperature', 'unknown']\n",
      "['button', 'colorTemperature', 'contact', 'level', 'lock', 'motion', 'ping', 'status', 'switch', 'temperature', 'unknown']\n",
      "(24440,)\n"
     ]
    },
    {
     "name": "stderr",
     "output_type": "stream",
     "text": [
      "/opt/anaconda3/envs/omid/lib/python3.6/site-packages/sklearn/multiclass.py:75: UserWarning: Label not 0 is present in all training examples.\n",
      "  str(classes[c]))\n",
      "/opt/anaconda3/envs/omid/lib/python3.6/site-packages/sklearn/multiclass.py:75: UserWarning: Label not 2 is present in all training examples.\n",
      "  str(classes[c]))\n",
      "/opt/anaconda3/envs/omid/lib/python3.6/site-packages/sklearn/multiclass.py:75: UserWarning: Label not 4 is present in all training examples.\n",
      "  str(classes[c]))\n",
      "/opt/anaconda3/envs/omid/lib/python3.6/site-packages/sklearn/multiclass.py:75: UserWarning: Label not 7 is present in all training examples.\n",
      "  str(classes[c]))\n"
     ]
    },
    {
     "name": "stdout",
     "output_type": "stream",
     "text": [
      "==================HOME Case : Omid =============\n"
     ]
    },
    {
     "name": "stderr",
     "output_type": "stream",
     "text": [
      "/opt/anaconda3/envs/omid/lib/python3.6/site-packages/ipykernel_launcher.py:10: RuntimeWarning: invalid value encountered in double_scalars\n",
      "  # Remove the CWD from sys.path while we load stuff.\n"
     ]
    },
    {
     "name": "stdout",
     "output_type": "stream",
     "text": [
      "------------------------------------------------------------------------\n",
      "in load from merged\n",
      "loading from test files\n",
      "found files :  5\n",
      "home_os_final.json\n",
      "home_sk_final.json\n",
      "test_data_light.json\n",
      "test_data_motion_2.json\n",
      "['button', 'colorTemperature', 'contact', 'level', 'lock', 'motion', 'ping', 'status', 'switch', 'temperature', 'unknown']\n",
      "(5050,)\n",
      "len x_TEst before predict 32511\n",
      "predicting ['button', 'colorTemperature', 'contact', 'level', 'lock', 'motion', 'ping', 'status', 'switch', 'temperature', 'unknown']\n",
      "['button', 'colorTemperature', 'contact', 'level', 'lock', 'motion', 'ping', 'status', 'switch', 'temperature', 'unknown']\n",
      "(24440,)\n"
     ]
    },
    {
     "name": "stderr",
     "output_type": "stream",
     "text": [
      "/opt/anaconda3/envs/omid/lib/python3.6/site-packages/sklearn/multiclass.py:75: UserWarning: Label not 0 is present in all training examples.\n",
      "  str(classes[c]))\n",
      "/opt/anaconda3/envs/omid/lib/python3.6/site-packages/sklearn/multiclass.py:75: UserWarning: Label not 2 is present in all training examples.\n",
      "  str(classes[c]))\n",
      "/opt/anaconda3/envs/omid/lib/python3.6/site-packages/sklearn/multiclass.py:75: UserWarning: Label not 4 is present in all training examples.\n",
      "  str(classes[c]))\n",
      "/opt/anaconda3/envs/omid/lib/python3.6/site-packages/sklearn/multiclass.py:75: UserWarning: Label not 7 is present in all training examples.\n",
      "  str(classes[c]))\n"
     ]
    },
    {
     "name": "stdout",
     "output_type": "stream",
     "text": [
      "==================HOME Case : Omid =============\n"
     ]
    },
    {
     "name": "stderr",
     "output_type": "stream",
     "text": [
      "/opt/anaconda3/envs/omid/lib/python3.6/site-packages/ipykernel_launcher.py:10: RuntimeWarning: invalid value encountered in double_scalars\n",
      "  # Remove the CWD from sys.path while we load stuff.\n"
     ]
    },
    {
     "name": "stdout",
     "output_type": "stream",
     "text": [
      "------------------------------------------------------------------------\n",
      "in load from merged\n",
      "loading from test files\n",
      "found files :  5\n",
      "home_os_final.json\n",
      "home_sk_final.json\n",
      "test_data_light.json\n",
      "test_data_motion_2.json\n",
      "['button', 'colorTemperature', 'contact', 'level', 'lock', 'motion', 'ping', 'status', 'switch', 'temperature', 'unknown']\n",
      "(5250,)\n",
      "len x_TEst before predict 32511\n",
      "predicting ['button', 'colorTemperature', 'contact', 'level', 'lock', 'motion', 'ping', 'status', 'switch', 'temperature', 'unknown']\n",
      "['button', 'colorTemperature', 'contact', 'level', 'lock', 'motion', 'ping', 'status', 'switch', 'temperature', 'unknown']\n",
      "(24440,)\n"
     ]
    },
    {
     "name": "stderr",
     "output_type": "stream",
     "text": [
      "/opt/anaconda3/envs/omid/lib/python3.6/site-packages/sklearn/multiclass.py:75: UserWarning: Label not 0 is present in all training examples.\n",
      "  str(classes[c]))\n",
      "/opt/anaconda3/envs/omid/lib/python3.6/site-packages/sklearn/multiclass.py:75: UserWarning: Label not 2 is present in all training examples.\n",
      "  str(classes[c]))\n",
      "/opt/anaconda3/envs/omid/lib/python3.6/site-packages/sklearn/multiclass.py:75: UserWarning: Label not 4 is present in all training examples.\n",
      "  str(classes[c]))\n",
      "/opt/anaconda3/envs/omid/lib/python3.6/site-packages/sklearn/multiclass.py:75: UserWarning: Label not 7 is present in all training examples.\n",
      "  str(classes[c]))\n"
     ]
    },
    {
     "name": "stdout",
     "output_type": "stream",
     "text": [
      "==================HOME Case : Omid =============\n"
     ]
    },
    {
     "name": "stderr",
     "output_type": "stream",
     "text": [
      "/opt/anaconda3/envs/omid/lib/python3.6/site-packages/ipykernel_launcher.py:10: RuntimeWarning: invalid value encountered in double_scalars\n",
      "  # Remove the CWD from sys.path while we load stuff.\n"
     ]
    },
    {
     "name": "stdout",
     "output_type": "stream",
     "text": [
      "------------------------------------------------------------------------\n",
      "in load from merged\n",
      "loading from test files\n",
      "found files :  5\n",
      "home_os_final.json\n",
      "home_sk_final.json\n",
      "test_data_light.json\n",
      "test_data_motion_2.json\n",
      "['button', 'colorTemperature', 'contact', 'level', 'lock', 'motion', 'ping', 'status', 'switch', 'temperature', 'unknown']\n",
      "(5450,)\n",
      "len x_TEst before predict 32511\n",
      "predicting ['button', 'colorTemperature', 'contact', 'level', 'lock', 'motion', 'ping', 'status', 'switch', 'temperature', 'unknown']\n",
      "['button', 'colorTemperature', 'contact', 'level', 'lock', 'motion', 'ping', 'status', 'switch', 'temperature', 'unknown']\n",
      "(24440,)\n"
     ]
    },
    {
     "name": "stderr",
     "output_type": "stream",
     "text": [
      "/opt/anaconda3/envs/omid/lib/python3.6/site-packages/sklearn/multiclass.py:75: UserWarning: Label not 0 is present in all training examples.\n",
      "  str(classes[c]))\n",
      "/opt/anaconda3/envs/omid/lib/python3.6/site-packages/sklearn/multiclass.py:75: UserWarning: Label not 2 is present in all training examples.\n",
      "  str(classes[c]))\n",
      "/opt/anaconda3/envs/omid/lib/python3.6/site-packages/sklearn/multiclass.py:75: UserWarning: Label not 7 is present in all training examples.\n",
      "  str(classes[c]))\n"
     ]
    },
    {
     "name": "stdout",
     "output_type": "stream",
     "text": [
      "==================HOME Case : Omid =============\n"
     ]
    },
    {
     "name": "stderr",
     "output_type": "stream",
     "text": [
      "/opt/anaconda3/envs/omid/lib/python3.6/site-packages/ipykernel_launcher.py:10: RuntimeWarning: invalid value encountered in double_scalars\n",
      "  # Remove the CWD from sys.path while we load stuff.\n"
     ]
    },
    {
     "name": "stdout",
     "output_type": "stream",
     "text": [
      "------------------------------------------------------------------------\n",
      "in load from merged\n",
      "loading from test files\n",
      "found files :  5\n",
      "home_os_final.json\n",
      "home_sk_final.json\n",
      "test_data_light.json\n",
      "test_data_motion_2.json\n",
      "['button', 'colorTemperature', 'contact', 'level', 'lock', 'motion', 'ping', 'status', 'switch', 'temperature', 'unknown']\n",
      "(5650,)\n",
      "len x_TEst before predict 32511\n",
      "predicting ['button', 'colorTemperature', 'contact', 'level', 'lock', 'motion', 'ping', 'status', 'switch', 'temperature', 'unknown']\n",
      "['button', 'colorTemperature', 'contact', 'level', 'lock', 'motion', 'ping', 'status', 'switch', 'temperature', 'unknown']\n",
      "(24440,)\n"
     ]
    },
    {
     "name": "stderr",
     "output_type": "stream",
     "text": [
      "/opt/anaconda3/envs/omid/lib/python3.6/site-packages/sklearn/multiclass.py:75: UserWarning: Label not 0 is present in all training examples.\n",
      "  str(classes[c]))\n",
      "/opt/anaconda3/envs/omid/lib/python3.6/site-packages/sklearn/multiclass.py:75: UserWarning: Label not 2 is present in all training examples.\n",
      "  str(classes[c]))\n",
      "/opt/anaconda3/envs/omid/lib/python3.6/site-packages/sklearn/multiclass.py:75: UserWarning: Label not 7 is present in all training examples.\n",
      "  str(classes[c]))\n"
     ]
    },
    {
     "name": "stdout",
     "output_type": "stream",
     "text": [
      "==================HOME Case : Omid =============\n"
     ]
    },
    {
     "name": "stderr",
     "output_type": "stream",
     "text": [
      "/opt/anaconda3/envs/omid/lib/python3.6/site-packages/ipykernel_launcher.py:10: RuntimeWarning: invalid value encountered in double_scalars\n",
      "  # Remove the CWD from sys.path while we load stuff.\n"
     ]
    },
    {
     "name": "stdout",
     "output_type": "stream",
     "text": [
      "------------------------------------------------------------------------\n",
      "in load from merged\n",
      "loading from test files\n",
      "found files :  5\n",
      "home_os_final.json\n",
      "home_sk_final.json\n",
      "test_data_light.json\n",
      "test_data_motion_2.json\n",
      "['button', 'colorTemperature', 'contact', 'level', 'lock', 'motion', 'ping', 'status', 'switch', 'temperature', 'unknown']\n",
      "(5850,)\n",
      "len x_TEst before predict 32511\n",
      "predicting ['button', 'colorTemperature', 'contact', 'level', 'lock', 'motion', 'ping', 'status', 'switch', 'temperature', 'unknown']\n",
      "['button', 'colorTemperature', 'contact', 'level', 'lock', 'motion', 'ping', 'status', 'switch', 'temperature', 'unknown']\n",
      "(24440,)\n"
     ]
    },
    {
     "name": "stderr",
     "output_type": "stream",
     "text": [
      "/opt/anaconda3/envs/omid/lib/python3.6/site-packages/sklearn/multiclass.py:75: UserWarning: Label not 0 is present in all training examples.\n",
      "  str(classes[c]))\n",
      "/opt/anaconda3/envs/omid/lib/python3.6/site-packages/sklearn/multiclass.py:75: UserWarning: Label not 2 is present in all training examples.\n",
      "  str(classes[c]))\n",
      "/opt/anaconda3/envs/omid/lib/python3.6/site-packages/sklearn/multiclass.py:75: UserWarning: Label not 7 is present in all training examples.\n",
      "  str(classes[c]))\n"
     ]
    },
    {
     "name": "stdout",
     "output_type": "stream",
     "text": [
      "==================HOME Case : Omid =============\n"
     ]
    },
    {
     "name": "stderr",
     "output_type": "stream",
     "text": [
      "/opt/anaconda3/envs/omid/lib/python3.6/site-packages/ipykernel_launcher.py:10: RuntimeWarning: invalid value encountered in double_scalars\n",
      "  # Remove the CWD from sys.path while we load stuff.\n"
     ]
    },
    {
     "name": "stdout",
     "output_type": "stream",
     "text": [
      "------------------------------------------------------------------------\n",
      "in load from merged\n",
      "loading from test files\n",
      "found files :  5\n",
      "home_os_final.json\n",
      "home_sk_final.json\n",
      "test_data_light.json\n",
      "test_data_motion_2.json\n",
      "['button', 'colorTemperature', 'contact', 'level', 'lock', 'motion', 'ping', 'status', 'switch', 'temperature', 'unknown']\n",
      "(6050,)\n",
      "len x_TEst before predict 32511\n",
      "predicting ['button', 'colorTemperature', 'contact', 'level', 'lock', 'motion', 'ping', 'status', 'switch', 'temperature', 'unknown']\n",
      "['button', 'colorTemperature', 'contact', 'level', 'lock', 'motion', 'ping', 'status', 'switch', 'temperature', 'unknown']\n",
      "(24440,)\n"
     ]
    },
    {
     "name": "stderr",
     "output_type": "stream",
     "text": [
      "/opt/anaconda3/envs/omid/lib/python3.6/site-packages/sklearn/multiclass.py:75: UserWarning: Label not 0 is present in all training examples.\n",
      "  str(classes[c]))\n",
      "/opt/anaconda3/envs/omid/lib/python3.6/site-packages/sklearn/multiclass.py:75: UserWarning: Label not 2 is present in all training examples.\n",
      "  str(classes[c]))\n",
      "/opt/anaconda3/envs/omid/lib/python3.6/site-packages/sklearn/multiclass.py:75: UserWarning: Label not 7 is present in all training examples.\n",
      "  str(classes[c]))\n"
     ]
    },
    {
     "name": "stdout",
     "output_type": "stream",
     "text": [
      "==================HOME Case : Omid =============\n"
     ]
    },
    {
     "name": "stderr",
     "output_type": "stream",
     "text": [
      "/opt/anaconda3/envs/omid/lib/python3.6/site-packages/ipykernel_launcher.py:10: RuntimeWarning: invalid value encountered in double_scalars\n",
      "  # Remove the CWD from sys.path while we load stuff.\n"
     ]
    },
    {
     "name": "stdout",
     "output_type": "stream",
     "text": [
      "------------------------------------------------------------------------\n",
      "in load from merged\n",
      "loading from test files\n",
      "found files :  5\n",
      "home_os_final.json\n",
      "home_sk_final.json\n",
      "test_data_light.json\n",
      "test_data_motion_2.json\n",
      "['button', 'colorTemperature', 'contact', 'level', 'lock', 'motion', 'ping', 'status', 'switch', 'temperature', 'unknown']\n",
      "(6250,)\n",
      "len x_TEst before predict 32511\n",
      "predicting ['button', 'colorTemperature', 'contact', 'level', 'lock', 'motion', 'ping', 'status', 'switch', 'temperature', 'unknown']\n",
      "['button', 'colorTemperature', 'contact', 'level', 'lock', 'motion', 'ping', 'status', 'switch', 'temperature', 'unknown']\n",
      "(24440,)\n"
     ]
    },
    {
     "name": "stderr",
     "output_type": "stream",
     "text": [
      "/opt/anaconda3/envs/omid/lib/python3.6/site-packages/sklearn/multiclass.py:75: UserWarning: Label not 0 is present in all training examples.\n",
      "  str(classes[c]))\n",
      "/opt/anaconda3/envs/omid/lib/python3.6/site-packages/sklearn/multiclass.py:75: UserWarning: Label not 2 is present in all training examples.\n",
      "  str(classes[c]))\n",
      "/opt/anaconda3/envs/omid/lib/python3.6/site-packages/sklearn/multiclass.py:75: UserWarning: Label not 7 is present in all training examples.\n",
      "  str(classes[c]))\n"
     ]
    },
    {
     "name": "stdout",
     "output_type": "stream",
     "text": [
      "==================HOME Case : Omid =============\n"
     ]
    },
    {
     "name": "stderr",
     "output_type": "stream",
     "text": [
      "/opt/anaconda3/envs/omid/lib/python3.6/site-packages/ipykernel_launcher.py:10: RuntimeWarning: invalid value encountered in double_scalars\n",
      "  # Remove the CWD from sys.path while we load stuff.\n"
     ]
    },
    {
     "name": "stdout",
     "output_type": "stream",
     "text": [
      "------------------------------------------------------------------------\n",
      "in load from merged\n",
      "loading from test files\n",
      "found files :  5\n",
      "home_os_final.json\n",
      "home_sk_final.json\n",
      "test_data_light.json\n",
      "test_data_motion_2.json\n",
      "['button', 'colorTemperature', 'contact', 'level', 'lock', 'motion', 'ping', 'status', 'switch', 'temperature', 'unknown']\n",
      "(6450,)\n",
      "len x_TEst before predict 32511\n",
      "predicting ['button', 'colorTemperature', 'contact', 'level', 'lock', 'motion', 'ping', 'status', 'switch', 'temperature', 'unknown']\n",
      "['button', 'colorTemperature', 'contact', 'level', 'lock', 'motion', 'ping', 'status', 'switch', 'temperature', 'unknown']\n",
      "(24440,)\n"
     ]
    },
    {
     "name": "stderr",
     "output_type": "stream",
     "text": [
      "/opt/anaconda3/envs/omid/lib/python3.6/site-packages/sklearn/multiclass.py:75: UserWarning: Label not 0 is present in all training examples.\n",
      "  str(classes[c]))\n",
      "/opt/anaconda3/envs/omid/lib/python3.6/site-packages/sklearn/multiclass.py:75: UserWarning: Label not 2 is present in all training examples.\n",
      "  str(classes[c]))\n",
      "/opt/anaconda3/envs/omid/lib/python3.6/site-packages/sklearn/multiclass.py:75: UserWarning: Label not 7 is present in all training examples.\n",
      "  str(classes[c]))\n"
     ]
    },
    {
     "name": "stdout",
     "output_type": "stream",
     "text": [
      "==================HOME Case : Omid =============\n"
     ]
    },
    {
     "name": "stderr",
     "output_type": "stream",
     "text": [
      "/opt/anaconda3/envs/omid/lib/python3.6/site-packages/ipykernel_launcher.py:10: RuntimeWarning: invalid value encountered in double_scalars\n",
      "  # Remove the CWD from sys.path while we load stuff.\n"
     ]
    },
    {
     "name": "stdout",
     "output_type": "stream",
     "text": [
      "------------------------------------------------------------------------\n",
      "in load from merged\n",
      "loading from test files\n",
      "found files :  5\n",
      "home_os_final.json\n",
      "home_sk_final.json\n",
      "test_data_light.json\n",
      "test_data_motion_2.json\n",
      "['button', 'colorTemperature', 'contact', 'level', 'lock', 'motion', 'ping', 'status', 'switch', 'temperature', 'unknown']\n",
      "(6650,)\n",
      "len x_TEst before predict 32511\n",
      "predicting ['button', 'colorTemperature', 'contact', 'level', 'lock', 'motion', 'ping', 'status', 'switch', 'temperature', 'unknown']\n",
      "['button', 'colorTemperature', 'contact', 'level', 'lock', 'motion', 'ping', 'status', 'switch', 'temperature', 'unknown']\n",
      "(24440,)\n"
     ]
    },
    {
     "name": "stderr",
     "output_type": "stream",
     "text": [
      "/opt/anaconda3/envs/omid/lib/python3.6/site-packages/sklearn/multiclass.py:75: UserWarning: Label not 0 is present in all training examples.\n",
      "  str(classes[c]))\n",
      "/opt/anaconda3/envs/omid/lib/python3.6/site-packages/sklearn/multiclass.py:75: UserWarning: Label not 2 is present in all training examples.\n",
      "  str(classes[c]))\n",
      "/opt/anaconda3/envs/omid/lib/python3.6/site-packages/sklearn/multiclass.py:75: UserWarning: Label not 7 is present in all training examples.\n",
      "  str(classes[c]))\n"
     ]
    },
    {
     "name": "stdout",
     "output_type": "stream",
     "text": [
      "==================HOME Case : Omid =============\n"
     ]
    },
    {
     "name": "stderr",
     "output_type": "stream",
     "text": [
      "/opt/anaconda3/envs/omid/lib/python3.6/site-packages/ipykernel_launcher.py:10: RuntimeWarning: invalid value encountered in double_scalars\n",
      "  # Remove the CWD from sys.path while we load stuff.\n"
     ]
    },
    {
     "name": "stdout",
     "output_type": "stream",
     "text": [
      "------------------------------------------------------------------------\n",
      "in load from merged\n",
      "loading from test files\n",
      "found files :  5\n",
      "home_os_final.json\n",
      "home_sk_final.json\n",
      "test_data_light.json\n",
      "test_data_motion_2.json\n",
      "['button', 'colorTemperature', 'contact', 'level', 'lock', 'motion', 'ping', 'status', 'switch', 'temperature', 'unknown']\n",
      "(6850,)\n",
      "len x_TEst before predict 32511\n",
      "predicting ['button', 'colorTemperature', 'contact', 'level', 'lock', 'motion', 'ping', 'status', 'switch', 'temperature', 'unknown']\n",
      "['button', 'colorTemperature', 'contact', 'level', 'lock', 'motion', 'ping', 'status', 'switch', 'temperature', 'unknown']\n",
      "(24440,)\n"
     ]
    },
    {
     "name": "stderr",
     "output_type": "stream",
     "text": [
      "/opt/anaconda3/envs/omid/lib/python3.6/site-packages/sklearn/multiclass.py:75: UserWarning: Label not 0 is present in all training examples.\n",
      "  str(classes[c]))\n",
      "/opt/anaconda3/envs/omid/lib/python3.6/site-packages/sklearn/multiclass.py:75: UserWarning: Label not 2 is present in all training examples.\n",
      "  str(classes[c]))\n",
      "/opt/anaconda3/envs/omid/lib/python3.6/site-packages/sklearn/multiclass.py:75: UserWarning: Label not 7 is present in all training examples.\n",
      "  str(classes[c]))\n"
     ]
    },
    {
     "name": "stdout",
     "output_type": "stream",
     "text": [
      "==================HOME Case : Omid =============\n"
     ]
    },
    {
     "name": "stderr",
     "output_type": "stream",
     "text": [
      "/opt/anaconda3/envs/omid/lib/python3.6/site-packages/ipykernel_launcher.py:10: RuntimeWarning: invalid value encountered in double_scalars\n",
      "  # Remove the CWD from sys.path while we load stuff.\n"
     ]
    },
    {
     "name": "stdout",
     "output_type": "stream",
     "text": [
      "------------------------------------------------------------------------\n",
      "in load from merged\n",
      "loading from test files\n",
      "found files :  5\n",
      "home_os_final.json\n",
      "home_sk_final.json\n",
      "test_data_light.json\n",
      "test_data_motion_2.json\n",
      "['button', 'colorTemperature', 'contact', 'level', 'lock', 'motion', 'ping', 'status', 'switch', 'temperature', 'unknown']\n",
      "(7050,)\n",
      "len x_TEst before predict 32511\n",
      "predicting ['button', 'colorTemperature', 'contact', 'level', 'lock', 'motion', 'ping', 'status', 'switch', 'temperature', 'unknown']\n",
      "['button', 'colorTemperature', 'contact', 'level', 'lock', 'motion', 'ping', 'status', 'switch', 'temperature', 'unknown']\n",
      "(24440,)\n"
     ]
    },
    {
     "name": "stderr",
     "output_type": "stream",
     "text": [
      "/opt/anaconda3/envs/omid/lib/python3.6/site-packages/sklearn/multiclass.py:75: UserWarning: Label not 0 is present in all training examples.\n",
      "  str(classes[c]))\n",
      "/opt/anaconda3/envs/omid/lib/python3.6/site-packages/sklearn/multiclass.py:75: UserWarning: Label not 2 is present in all training examples.\n",
      "  str(classes[c]))\n",
      "/opt/anaconda3/envs/omid/lib/python3.6/site-packages/sklearn/multiclass.py:75: UserWarning: Label not 7 is present in all training examples.\n",
      "  str(classes[c]))\n"
     ]
    },
    {
     "name": "stdout",
     "output_type": "stream",
     "text": [
      "==================HOME Case : Omid =============\n"
     ]
    },
    {
     "name": "stderr",
     "output_type": "stream",
     "text": [
      "/opt/anaconda3/envs/omid/lib/python3.6/site-packages/ipykernel_launcher.py:10: RuntimeWarning: invalid value encountered in double_scalars\n",
      "  # Remove the CWD from sys.path while we load stuff.\n"
     ]
    },
    {
     "name": "stdout",
     "output_type": "stream",
     "text": [
      "------------------------------------------------------------------------\n",
      "in load from merged\n",
      "loading from test files\n",
      "found files :  5\n",
      "home_os_final.json\n",
      "home_sk_final.json\n",
      "test_data_light.json\n",
      "test_data_motion_2.json\n",
      "['button', 'colorTemperature', 'contact', 'level', 'lock', 'motion', 'ping', 'status', 'switch', 'temperature', 'unknown']\n",
      "(7250,)\n",
      "len x_TEst before predict 32511\n",
      "predicting ['button', 'colorTemperature', 'contact', 'level', 'lock', 'motion', 'ping', 'status', 'switch', 'temperature', 'unknown']\n",
      "['button', 'colorTemperature', 'contact', 'level', 'lock', 'motion', 'ping', 'status', 'switch', 'temperature', 'unknown']\n",
      "(24440,)\n"
     ]
    },
    {
     "name": "stderr",
     "output_type": "stream",
     "text": [
      "/opt/anaconda3/envs/omid/lib/python3.6/site-packages/sklearn/multiclass.py:75: UserWarning: Label not 0 is present in all training examples.\n",
      "  str(classes[c]))\n",
      "/opt/anaconda3/envs/omid/lib/python3.6/site-packages/sklearn/multiclass.py:75: UserWarning: Label not 2 is present in all training examples.\n",
      "  str(classes[c]))\n",
      "/opt/anaconda3/envs/omid/lib/python3.6/site-packages/sklearn/multiclass.py:75: UserWarning: Label not 7 is present in all training examples.\n",
      "  str(classes[c]))\n"
     ]
    },
    {
     "name": "stdout",
     "output_type": "stream",
     "text": [
      "==================HOME Case : Omid =============\n"
     ]
    },
    {
     "name": "stderr",
     "output_type": "stream",
     "text": [
      "/opt/anaconda3/envs/omid/lib/python3.6/site-packages/ipykernel_launcher.py:10: RuntimeWarning: invalid value encountered in double_scalars\n",
      "  # Remove the CWD from sys.path while we load stuff.\n"
     ]
    },
    {
     "name": "stdout",
     "output_type": "stream",
     "text": [
      "------------------------------------------------------------------------\n",
      "in load from merged\n",
      "loading from test files\n",
      "found files :  5\n",
      "home_os_final.json\n",
      "home_sk_final.json\n",
      "test_data_light.json\n",
      "test_data_motion_2.json\n",
      "['button', 'colorTemperature', 'contact', 'level', 'lock', 'motion', 'ping', 'status', 'switch', 'temperature', 'unknown']\n",
      "(7450,)\n",
      "len x_TEst before predict 32511\n",
      "predicting ['button', 'colorTemperature', 'contact', 'level', 'lock', 'motion', 'ping', 'status', 'switch', 'temperature', 'unknown']\n",
      "['button', 'colorTemperature', 'contact', 'level', 'lock', 'motion', 'ping', 'status', 'switch', 'temperature', 'unknown']\n",
      "(24440,)\n"
     ]
    },
    {
     "name": "stderr",
     "output_type": "stream",
     "text": [
      "/opt/anaconda3/envs/omid/lib/python3.6/site-packages/sklearn/multiclass.py:75: UserWarning: Label not 0 is present in all training examples.\n",
      "  str(classes[c]))\n",
      "/opt/anaconda3/envs/omid/lib/python3.6/site-packages/sklearn/multiclass.py:75: UserWarning: Label not 2 is present in all training examples.\n",
      "  str(classes[c]))\n",
      "/opt/anaconda3/envs/omid/lib/python3.6/site-packages/sklearn/multiclass.py:75: UserWarning: Label not 7 is present in all training examples.\n",
      "  str(classes[c]))\n"
     ]
    },
    {
     "name": "stdout",
     "output_type": "stream",
     "text": [
      "==================HOME Case : Omid =============\n"
     ]
    },
    {
     "name": "stderr",
     "output_type": "stream",
     "text": [
      "/opt/anaconda3/envs/omid/lib/python3.6/site-packages/ipykernel_launcher.py:10: RuntimeWarning: invalid value encountered in double_scalars\n",
      "  # Remove the CWD from sys.path while we load stuff.\n"
     ]
    },
    {
     "name": "stdout",
     "output_type": "stream",
     "text": [
      "------------------------------------------------------------------------\n",
      "in load from merged\n",
      "loading from test files\n",
      "found files :  5\n",
      "home_os_final.json\n",
      "home_sk_final.json\n",
      "test_data_light.json\n",
      "test_data_motion_2.json\n",
      "['button', 'colorTemperature', 'contact', 'level', 'lock', 'motion', 'ping', 'status', 'switch', 'temperature', 'unknown']\n",
      "(7650,)\n",
      "len x_TEst before predict 32511\n",
      "predicting ['button', 'colorTemperature', 'contact', 'level', 'lock', 'motion', 'ping', 'status', 'switch', 'temperature', 'unknown']\n",
      "['button', 'colorTemperature', 'contact', 'level', 'lock', 'motion', 'ping', 'status', 'switch', 'temperature', 'unknown']\n",
      "(24440,)\n"
     ]
    },
    {
     "name": "stderr",
     "output_type": "stream",
     "text": [
      "/opt/anaconda3/envs/omid/lib/python3.6/site-packages/sklearn/multiclass.py:75: UserWarning: Label not 2 is present in all training examples.\n",
      "  str(classes[c]))\n",
      "/opt/anaconda3/envs/omid/lib/python3.6/site-packages/sklearn/multiclass.py:75: UserWarning: Label not 7 is present in all training examples.\n",
      "  str(classes[c]))\n"
     ]
    },
    {
     "name": "stdout",
     "output_type": "stream",
     "text": [
      "==================HOME Case : Omid =============\n"
     ]
    },
    {
     "name": "stderr",
     "output_type": "stream",
     "text": [
      "/opt/anaconda3/envs/omid/lib/python3.6/site-packages/ipykernel_launcher.py:10: RuntimeWarning: invalid value encountered in double_scalars\n",
      "  # Remove the CWD from sys.path while we load stuff.\n"
     ]
    },
    {
     "name": "stdout",
     "output_type": "stream",
     "text": [
      "------------------------------------------------------------------------\n",
      "in load from merged\n",
      "loading from test files\n",
      "found files :  5\n",
      "home_os_final.json\n",
      "home_sk_final.json\n",
      "test_data_light.json\n",
      "test_data_motion_2.json\n",
      "['button', 'colorTemperature', 'contact', 'level', 'lock', 'motion', 'ping', 'status', 'switch', 'temperature', 'unknown']\n",
      "(7850,)\n",
      "len x_TEst before predict 32511\n",
      "predicting ['button', 'colorTemperature', 'contact', 'level', 'lock', 'motion', 'ping', 'status', 'switch', 'temperature', 'unknown']\n",
      "['button', 'colorTemperature', 'contact', 'level', 'lock', 'motion', 'ping', 'status', 'switch', 'temperature', 'unknown']\n",
      "(24440,)\n"
     ]
    },
    {
     "name": "stderr",
     "output_type": "stream",
     "text": [
      "/opt/anaconda3/envs/omid/lib/python3.6/site-packages/sklearn/multiclass.py:75: UserWarning: Label not 2 is present in all training examples.\n",
      "  str(classes[c]))\n",
      "/opt/anaconda3/envs/omid/lib/python3.6/site-packages/sklearn/multiclass.py:75: UserWarning: Label not 7 is present in all training examples.\n",
      "  str(classes[c]))\n"
     ]
    },
    {
     "name": "stdout",
     "output_type": "stream",
     "text": [
      "==================HOME Case : Omid =============\n"
     ]
    },
    {
     "name": "stderr",
     "output_type": "stream",
     "text": [
      "/opt/anaconda3/envs/omid/lib/python3.6/site-packages/ipykernel_launcher.py:10: RuntimeWarning: invalid value encountered in double_scalars\n",
      "  # Remove the CWD from sys.path while we load stuff.\n"
     ]
    },
    {
     "name": "stdout",
     "output_type": "stream",
     "text": [
      "------------------------------------------------------------------------\n",
      "in load from merged\n",
      "loading from test files\n",
      "found files :  5\n",
      "home_os_final.json\n",
      "home_sk_final.json\n",
      "test_data_light.json\n",
      "test_data_motion_2.json\n",
      "['button', 'colorTemperature', 'contact', 'level', 'lock', 'motion', 'ping', 'status', 'switch', 'temperature', 'unknown']\n",
      "(8050,)\n",
      "len x_TEst before predict 32511\n",
      "predicting ['button', 'colorTemperature', 'contact', 'level', 'lock', 'motion', 'ping', 'status', 'switch', 'temperature', 'unknown']\n",
      "['button', 'colorTemperature', 'contact', 'level', 'lock', 'motion', 'ping', 'status', 'switch', 'temperature', 'unknown']\n",
      "(24440,)\n"
     ]
    },
    {
     "name": "stderr",
     "output_type": "stream",
     "text": [
      "/opt/anaconda3/envs/omid/lib/python3.6/site-packages/sklearn/multiclass.py:75: UserWarning: Label not 2 is present in all training examples.\n",
      "  str(classes[c]))\n",
      "/opt/anaconda3/envs/omid/lib/python3.6/site-packages/sklearn/multiclass.py:75: UserWarning: Label not 7 is present in all training examples.\n",
      "  str(classes[c]))\n"
     ]
    },
    {
     "name": "stdout",
     "output_type": "stream",
     "text": [
      "==================HOME Case : Omid =============\n"
     ]
    },
    {
     "name": "stderr",
     "output_type": "stream",
     "text": [
      "/opt/anaconda3/envs/omid/lib/python3.6/site-packages/ipykernel_launcher.py:10: RuntimeWarning: invalid value encountered in double_scalars\n",
      "  # Remove the CWD from sys.path while we load stuff.\n"
     ]
    },
    {
     "name": "stdout",
     "output_type": "stream",
     "text": [
      "------------------------------------------------------------------------\n",
      "in load from merged\n",
      "loading from test files\n",
      "found files :  5\n",
      "home_os_final.json\n",
      "home_sk_final.json\n",
      "test_data_light.json\n",
      "test_data_motion_2.json\n",
      "['button', 'colorTemperature', 'contact', 'level', 'lock', 'motion', 'ping', 'status', 'switch', 'temperature', 'unknown']\n",
      "(8250,)\n",
      "len x_TEst before predict 32511\n",
      "predicting ['button', 'colorTemperature', 'contact', 'level', 'lock', 'motion', 'ping', 'status', 'switch', 'temperature', 'unknown']\n",
      "['button', 'colorTemperature', 'contact', 'level', 'lock', 'motion', 'ping', 'status', 'switch', 'temperature', 'unknown']\n",
      "(24440,)\n"
     ]
    },
    {
     "name": "stderr",
     "output_type": "stream",
     "text": [
      "/opt/anaconda3/envs/omid/lib/python3.6/site-packages/sklearn/multiclass.py:75: UserWarning: Label not 2 is present in all training examples.\n",
      "  str(classes[c]))\n",
      "/opt/anaconda3/envs/omid/lib/python3.6/site-packages/sklearn/multiclass.py:75: UserWarning: Label not 7 is present in all training examples.\n",
      "  str(classes[c]))\n"
     ]
    },
    {
     "name": "stdout",
     "output_type": "stream",
     "text": [
      "==================HOME Case : Omid =============\n"
     ]
    },
    {
     "name": "stderr",
     "output_type": "stream",
     "text": [
      "/opt/anaconda3/envs/omid/lib/python3.6/site-packages/ipykernel_launcher.py:10: RuntimeWarning: invalid value encountered in double_scalars\n",
      "  # Remove the CWD from sys.path while we load stuff.\n"
     ]
    },
    {
     "name": "stdout",
     "output_type": "stream",
     "text": [
      "------------------------------------------------------------------------\n",
      "in load from merged\n",
      "loading from test files\n",
      "found files :  5\n",
      "home_os_final.json\n",
      "home_sk_final.json\n",
      "test_data_light.json\n",
      "test_data_motion_2.json\n",
      "['button', 'colorTemperature', 'contact', 'level', 'lock', 'motion', 'ping', 'status', 'switch', 'temperature', 'unknown']\n",
      "(8450,)\n",
      "len x_TEst before predict 32511\n",
      "predicting ['button', 'colorTemperature', 'contact', 'level', 'lock', 'motion', 'ping', 'status', 'switch', 'temperature', 'unknown']\n",
      "['button', 'colorTemperature', 'contact', 'level', 'lock', 'motion', 'ping', 'status', 'switch', 'temperature', 'unknown']\n",
      "(24440,)\n"
     ]
    },
    {
     "name": "stderr",
     "output_type": "stream",
     "text": [
      "/opt/anaconda3/envs/omid/lib/python3.6/site-packages/sklearn/multiclass.py:75: UserWarning: Label not 2 is present in all training examples.\n",
      "  str(classes[c]))\n",
      "/opt/anaconda3/envs/omid/lib/python3.6/site-packages/sklearn/multiclass.py:75: UserWarning: Label not 7 is present in all training examples.\n",
      "  str(classes[c]))\n"
     ]
    },
    {
     "name": "stdout",
     "output_type": "stream",
     "text": [
      "==================HOME Case : Omid =============\n"
     ]
    },
    {
     "name": "stderr",
     "output_type": "stream",
     "text": [
      "/opt/anaconda3/envs/omid/lib/python3.6/site-packages/ipykernel_launcher.py:10: RuntimeWarning: invalid value encountered in double_scalars\n",
      "  # Remove the CWD from sys.path while we load stuff.\n"
     ]
    },
    {
     "name": "stdout",
     "output_type": "stream",
     "text": [
      "------------------------------------------------------------------------\n",
      "in load from merged\n",
      "loading from test files\n",
      "found files :  5\n",
      "home_os_final.json\n",
      "home_sk_final.json\n",
      "test_data_light.json\n",
      "test_data_motion_2.json\n",
      "['button', 'colorTemperature', 'contact', 'level', 'lock', 'motion', 'ping', 'status', 'switch', 'temperature', 'unknown']\n",
      "(8650,)\n",
      "len x_TEst before predict 32511\n",
      "predicting ['button', 'colorTemperature', 'contact', 'level', 'lock', 'motion', 'ping', 'status', 'switch', 'temperature', 'unknown']\n",
      "['button', 'colorTemperature', 'contact', 'level', 'lock', 'motion', 'ping', 'status', 'switch', 'temperature', 'unknown']\n",
      "(24440,)\n"
     ]
    },
    {
     "name": "stderr",
     "output_type": "stream",
     "text": [
      "/opt/anaconda3/envs/omid/lib/python3.6/site-packages/sklearn/multiclass.py:75: UserWarning: Label not 2 is present in all training examples.\n",
      "  str(classes[c]))\n",
      "/opt/anaconda3/envs/omid/lib/python3.6/site-packages/sklearn/multiclass.py:75: UserWarning: Label not 7 is present in all training examples.\n",
      "  str(classes[c]))\n"
     ]
    },
    {
     "name": "stdout",
     "output_type": "stream",
     "text": [
      "==================HOME Case : Omid =============\n"
     ]
    },
    {
     "name": "stderr",
     "output_type": "stream",
     "text": [
      "/opt/anaconda3/envs/omid/lib/python3.6/site-packages/ipykernel_launcher.py:10: RuntimeWarning: invalid value encountered in double_scalars\n",
      "  # Remove the CWD from sys.path while we load stuff.\n"
     ]
    },
    {
     "name": "stdout",
     "output_type": "stream",
     "text": [
      "------------------------------------------------------------------------\n",
      "in load from merged\n",
      "loading from test files\n",
      "found files :  5\n",
      "home_os_final.json\n",
      "home_sk_final.json\n",
      "test_data_light.json\n",
      "test_data_motion_2.json\n",
      "['button', 'colorTemperature', 'contact', 'level', 'lock', 'motion', 'ping', 'status', 'switch', 'temperature', 'unknown']\n",
      "(8850,)\n",
      "len x_TEst before predict 32511\n",
      "predicting ['button', 'colorTemperature', 'contact', 'level', 'lock', 'motion', 'ping', 'status', 'switch', 'temperature', 'unknown']\n",
      "['button', 'colorTemperature', 'contact', 'level', 'lock', 'motion', 'ping', 'status', 'switch', 'temperature', 'unknown']\n",
      "(24440,)\n"
     ]
    },
    {
     "name": "stderr",
     "output_type": "stream",
     "text": [
      "/opt/anaconda3/envs/omid/lib/python3.6/site-packages/sklearn/multiclass.py:75: UserWarning: Label not 2 is present in all training examples.\n",
      "  str(classes[c]))\n",
      "/opt/anaconda3/envs/omid/lib/python3.6/site-packages/sklearn/multiclass.py:75: UserWarning: Label not 7 is present in all training examples.\n",
      "  str(classes[c]))\n"
     ]
    },
    {
     "name": "stdout",
     "output_type": "stream",
     "text": [
      "==================HOME Case : Omid =============\n"
     ]
    },
    {
     "name": "stderr",
     "output_type": "stream",
     "text": [
      "/opt/anaconda3/envs/omid/lib/python3.6/site-packages/ipykernel_launcher.py:10: RuntimeWarning: invalid value encountered in double_scalars\n",
      "  # Remove the CWD from sys.path while we load stuff.\n"
     ]
    },
    {
     "name": "stdout",
     "output_type": "stream",
     "text": [
      "------------------------------------------------------------------------\n",
      "in load from merged\n",
      "loading from test files\n",
      "found files :  5\n",
      "home_os_final.json\n",
      "home_sk_final.json\n",
      "test_data_light.json\n",
      "test_data_motion_2.json\n",
      "['button', 'colorTemperature', 'contact', 'level', 'lock', 'motion', 'ping', 'status', 'switch', 'temperature', 'unknown']\n",
      "(9050,)\n",
      "len x_TEst before predict 32511\n",
      "predicting ['button', 'colorTemperature', 'contact', 'level', 'lock', 'motion', 'ping', 'status', 'switch', 'temperature', 'unknown']\n",
      "['button', 'colorTemperature', 'contact', 'level', 'lock', 'motion', 'ping', 'status', 'switch', 'temperature', 'unknown']\n",
      "(24440,)\n"
     ]
    },
    {
     "name": "stderr",
     "output_type": "stream",
     "text": [
      "/opt/anaconda3/envs/omid/lib/python3.6/site-packages/sklearn/multiclass.py:75: UserWarning: Label not 2 is present in all training examples.\n",
      "  str(classes[c]))\n",
      "/opt/anaconda3/envs/omid/lib/python3.6/site-packages/sklearn/multiclass.py:75: UserWarning: Label not 7 is present in all training examples.\n",
      "  str(classes[c]))\n"
     ]
    },
    {
     "name": "stdout",
     "output_type": "stream",
     "text": [
      "==================HOME Case : Omid =============\n"
     ]
    },
    {
     "name": "stderr",
     "output_type": "stream",
     "text": [
      "/opt/anaconda3/envs/omid/lib/python3.6/site-packages/ipykernel_launcher.py:10: RuntimeWarning: invalid value encountered in double_scalars\n",
      "  # Remove the CWD from sys.path while we load stuff.\n"
     ]
    },
    {
     "name": "stdout",
     "output_type": "stream",
     "text": [
      "------------------------------------------------------------------------\n",
      "in load from merged\n",
      "loading from test files\n",
      "found files :  5\n",
      "home_os_final.json\n",
      "home_sk_final.json\n",
      "test_data_light.json\n",
      "test_data_motion_2.json\n",
      "['button', 'colorTemperature', 'contact', 'level', 'lock', 'motion', 'ping', 'status', 'switch', 'temperature', 'unknown']\n",
      "(9250,)\n",
      "len x_TEst before predict 32511\n",
      "predicting ['button', 'colorTemperature', 'contact', 'level', 'lock', 'motion', 'ping', 'status', 'switch', 'temperature', 'unknown']\n",
      "['button', 'colorTemperature', 'contact', 'level', 'lock', 'motion', 'ping', 'status', 'switch', 'temperature', 'unknown']\n",
      "(24440,)\n"
     ]
    },
    {
     "name": "stderr",
     "output_type": "stream",
     "text": [
      "/opt/anaconda3/envs/omid/lib/python3.6/site-packages/sklearn/multiclass.py:75: UserWarning: Label not 2 is present in all training examples.\n",
      "  str(classes[c]))\n",
      "/opt/anaconda3/envs/omid/lib/python3.6/site-packages/sklearn/multiclass.py:75: UserWarning: Label not 7 is present in all training examples.\n",
      "  str(classes[c]))\n"
     ]
    },
    {
     "name": "stdout",
     "output_type": "stream",
     "text": [
      "==================HOME Case : Omid =============\n"
     ]
    },
    {
     "name": "stderr",
     "output_type": "stream",
     "text": [
      "/opt/anaconda3/envs/omid/lib/python3.6/site-packages/ipykernel_launcher.py:10: RuntimeWarning: invalid value encountered in double_scalars\n",
      "  # Remove the CWD from sys.path while we load stuff.\n"
     ]
    },
    {
     "name": "stdout",
     "output_type": "stream",
     "text": [
      "------------------------------------------------------------------------\n",
      "in load from merged\n",
      "loading from test files\n",
      "found files :  5\n",
      "home_os_final.json\n",
      "home_sk_final.json\n",
      "test_data_light.json\n",
      "test_data_motion_2.json\n",
      "['button', 'colorTemperature', 'contact', 'level', 'lock', 'motion', 'ping', 'status', 'switch', 'temperature', 'unknown']\n",
      "(9450,)\n",
      "len x_TEst before predict 32511\n",
      "predicting ['button', 'colorTemperature', 'contact', 'level', 'lock', 'motion', 'ping', 'status', 'switch', 'temperature', 'unknown']\n",
      "['button', 'colorTemperature', 'contact', 'level', 'lock', 'motion', 'ping', 'status', 'switch', 'temperature', 'unknown']\n",
      "(24440,)\n"
     ]
    },
    {
     "name": "stderr",
     "output_type": "stream",
     "text": [
      "/opt/anaconda3/envs/omid/lib/python3.6/site-packages/sklearn/multiclass.py:75: UserWarning: Label not 2 is present in all training examples.\n",
      "  str(classes[c]))\n",
      "/opt/anaconda3/envs/omid/lib/python3.6/site-packages/sklearn/multiclass.py:75: UserWarning: Label not 7 is present in all training examples.\n",
      "  str(classes[c]))\n"
     ]
    },
    {
     "name": "stdout",
     "output_type": "stream",
     "text": [
      "==================HOME Case : Omid =============\n"
     ]
    },
    {
     "name": "stderr",
     "output_type": "stream",
     "text": [
      "/opt/anaconda3/envs/omid/lib/python3.6/site-packages/ipykernel_launcher.py:10: RuntimeWarning: invalid value encountered in double_scalars\n",
      "  # Remove the CWD from sys.path while we load stuff.\n"
     ]
    },
    {
     "name": "stdout",
     "output_type": "stream",
     "text": [
      "------------------------------------------------------------------------\n",
      "in load from merged\n",
      "loading from test files\n",
      "found files :  5\n",
      "home_os_final.json\n",
      "home_sk_final.json\n",
      "test_data_light.json\n",
      "test_data_motion_2.json\n",
      "['button', 'colorTemperature', 'contact', 'level', 'lock', 'motion', 'ping', 'status', 'switch', 'temperature', 'unknown']\n",
      "(9650,)\n",
      "len x_TEst before predict 32511\n",
      "predicting ['button', 'colorTemperature', 'contact', 'level', 'lock', 'motion', 'ping', 'status', 'switch', 'temperature', 'unknown']\n",
      "['button', 'colorTemperature', 'contact', 'level', 'lock', 'motion', 'ping', 'status', 'switch', 'temperature', 'unknown']\n",
      "(24440,)\n"
     ]
    },
    {
     "name": "stderr",
     "output_type": "stream",
     "text": [
      "/opt/anaconda3/envs/omid/lib/python3.6/site-packages/sklearn/multiclass.py:75: UserWarning: Label not 2 is present in all training examples.\n",
      "  str(classes[c]))\n",
      "/opt/anaconda3/envs/omid/lib/python3.6/site-packages/sklearn/multiclass.py:75: UserWarning: Label not 7 is present in all training examples.\n",
      "  str(classes[c]))\n"
     ]
    },
    {
     "name": "stdout",
     "output_type": "stream",
     "text": [
      "==================HOME Case : Omid =============\n"
     ]
    },
    {
     "name": "stderr",
     "output_type": "stream",
     "text": [
      "/opt/anaconda3/envs/omid/lib/python3.6/site-packages/ipykernel_launcher.py:10: RuntimeWarning: invalid value encountered in double_scalars\n",
      "  # Remove the CWD from sys.path while we load stuff.\n"
     ]
    },
    {
     "name": "stdout",
     "output_type": "stream",
     "text": [
      "------------------------------------------------------------------------\n",
      "in load from merged\n",
      "loading from test files\n",
      "found files :  5\n",
      "home_os_final.json\n",
      "home_sk_final.json\n",
      "test_data_light.json\n",
      "test_data_motion_2.json\n",
      "['button', 'colorTemperature', 'contact', 'level', 'lock', 'motion', 'ping', 'status', 'switch', 'temperature', 'unknown']\n",
      "(9850,)\n",
      "len x_TEst before predict 32511\n",
      "predicting ['button', 'colorTemperature', 'contact', 'level', 'lock', 'motion', 'ping', 'status', 'switch', 'temperature', 'unknown']\n",
      "['button', 'colorTemperature', 'contact', 'level', 'lock', 'motion', 'ping', 'status', 'switch', 'temperature', 'unknown']\n",
      "(24440,)\n"
     ]
    },
    {
     "name": "stderr",
     "output_type": "stream",
     "text": [
      "/opt/anaconda3/envs/omid/lib/python3.6/site-packages/sklearn/multiclass.py:75: UserWarning: Label not 2 is present in all training examples.\n",
      "  str(classes[c]))\n",
      "/opt/anaconda3/envs/omid/lib/python3.6/site-packages/sklearn/multiclass.py:75: UserWarning: Label not 7 is present in all training examples.\n",
      "  str(classes[c]))\n"
     ]
    },
    {
     "name": "stdout",
     "output_type": "stream",
     "text": [
      "==================HOME Case : Omid =============\n"
     ]
    },
    {
     "name": "stderr",
     "output_type": "stream",
     "text": [
      "/opt/anaconda3/envs/omid/lib/python3.6/site-packages/ipykernel_launcher.py:10: RuntimeWarning: invalid value encountered in double_scalars\n",
      "  # Remove the CWD from sys.path while we load stuff.\n"
     ]
    },
    {
     "name": "stdout",
     "output_type": "stream",
     "text": [
      "------------------------------------------------------------------------\n",
      "in load from merged\n",
      "loading from test files\n",
      "found files :  5\n",
      "home_os_final.json\n",
      "home_sk_final.json\n",
      "test_data_light.json\n",
      "test_data_motion_2.json\n",
      "['button', 'colorTemperature', 'contact', 'level', 'lock', 'motion', 'ping', 'status', 'switch', 'temperature', 'unknown']\n",
      "(10050,)\n",
      "len x_TEst before predict 32511\n",
      "predicting ['button', 'colorTemperature', 'contact', 'level', 'lock', 'motion', 'ping', 'status', 'switch', 'temperature', 'unknown']\n",
      "['button', 'colorTemperature', 'contact', 'level', 'lock', 'motion', 'ping', 'status', 'switch', 'temperature', 'unknown']\n",
      "(24440,)\n"
     ]
    },
    {
     "name": "stderr",
     "output_type": "stream",
     "text": [
      "/opt/anaconda3/envs/omid/lib/python3.6/site-packages/sklearn/multiclass.py:75: UserWarning: Label not 2 is present in all training examples.\n",
      "  str(classes[c]))\n",
      "/opt/anaconda3/envs/omid/lib/python3.6/site-packages/sklearn/multiclass.py:75: UserWarning: Label not 7 is present in all training examples.\n",
      "  str(classes[c]))\n"
     ]
    },
    {
     "name": "stdout",
     "output_type": "stream",
     "text": [
      "==================HOME Case : Omid =============\n"
     ]
    },
    {
     "name": "stderr",
     "output_type": "stream",
     "text": [
      "/opt/anaconda3/envs/omid/lib/python3.6/site-packages/ipykernel_launcher.py:10: RuntimeWarning: invalid value encountered in double_scalars\n",
      "  # Remove the CWD from sys.path while we load stuff.\n"
     ]
    },
    {
     "name": "stdout",
     "output_type": "stream",
     "text": [
      "------------------------------------------------------------------------\n",
      "in load from merged\n",
      "loading from test files\n",
      "found files :  5\n",
      "home_os_final.json\n",
      "home_sk_final.json\n",
      "test_data_light.json\n",
      "test_data_motion_2.json\n",
      "['button', 'colorTemperature', 'contact', 'level', 'lock', 'motion', 'ping', 'status', 'switch', 'temperature', 'unknown']\n",
      "(10250,)\n",
      "len x_TEst before predict 32511\n",
      "predicting ['button', 'colorTemperature', 'contact', 'level', 'lock', 'motion', 'ping', 'status', 'switch', 'temperature', 'unknown']\n",
      "['button', 'colorTemperature', 'contact', 'level', 'lock', 'motion', 'ping', 'status', 'switch', 'temperature', 'unknown']\n",
      "(24440,)\n"
     ]
    },
    {
     "name": "stderr",
     "output_type": "stream",
     "text": [
      "/opt/anaconda3/envs/omid/lib/python3.6/site-packages/sklearn/multiclass.py:75: UserWarning: Label not 2 is present in all training examples.\n",
      "  str(classes[c]))\n",
      "/opt/anaconda3/envs/omid/lib/python3.6/site-packages/sklearn/multiclass.py:75: UserWarning: Label not 7 is present in all training examples.\n",
      "  str(classes[c]))\n"
     ]
    },
    {
     "name": "stdout",
     "output_type": "stream",
     "text": [
      "==================HOME Case : Omid =============\n"
     ]
    },
    {
     "name": "stderr",
     "output_type": "stream",
     "text": [
      "/opt/anaconda3/envs/omid/lib/python3.6/site-packages/ipykernel_launcher.py:10: RuntimeWarning: invalid value encountered in double_scalars\n",
      "  # Remove the CWD from sys.path while we load stuff.\n"
     ]
    },
    {
     "name": "stdout",
     "output_type": "stream",
     "text": [
      "------------------------------------------------------------------------\n",
      "in load from merged\n",
      "loading from test files\n",
      "found files :  5\n",
      "home_os_final.json\n",
      "home_sk_final.json\n",
      "test_data_light.json\n",
      "test_data_motion_2.json\n",
      "['button', 'colorTemperature', 'contact', 'level', 'lock', 'motion', 'ping', 'status', 'switch', 'temperature', 'unknown']\n",
      "(10450,)\n",
      "len x_TEst before predict 32511\n",
      "predicting ['button', 'colorTemperature', 'contact', 'level', 'lock', 'motion', 'ping', 'status', 'switch', 'temperature', 'unknown']\n",
      "['button', 'colorTemperature', 'contact', 'level', 'lock', 'motion', 'ping', 'status', 'switch', 'temperature', 'unknown']\n",
      "(24440,)\n"
     ]
    },
    {
     "name": "stderr",
     "output_type": "stream",
     "text": [
      "/opt/anaconda3/envs/omid/lib/python3.6/site-packages/sklearn/multiclass.py:75: UserWarning: Label not 2 is present in all training examples.\n",
      "  str(classes[c]))\n",
      "/opt/anaconda3/envs/omid/lib/python3.6/site-packages/sklearn/multiclass.py:75: UserWarning: Label not 7 is present in all training examples.\n",
      "  str(classes[c]))\n"
     ]
    },
    {
     "name": "stdout",
     "output_type": "stream",
     "text": [
      "==================HOME Case : Omid =============\n"
     ]
    },
    {
     "name": "stderr",
     "output_type": "stream",
     "text": [
      "/opt/anaconda3/envs/omid/lib/python3.6/site-packages/ipykernel_launcher.py:10: RuntimeWarning: invalid value encountered in double_scalars\n",
      "  # Remove the CWD from sys.path while we load stuff.\n"
     ]
    },
    {
     "name": "stdout",
     "output_type": "stream",
     "text": [
      "------------------------------------------------------------------------\n",
      "in load from merged\n",
      "loading from test files\n",
      "found files :  5\n",
      "home_os_final.json\n",
      "home_sk_final.json\n",
      "test_data_light.json\n",
      "test_data_motion_2.json\n",
      "['button', 'colorTemperature', 'contact', 'level', 'lock', 'motion', 'ping', 'status', 'switch', 'temperature', 'unknown']\n",
      "(10650,)\n",
      "len x_TEst before predict 32511\n",
      "predicting ['button', 'colorTemperature', 'contact', 'level', 'lock', 'motion', 'ping', 'status', 'switch', 'temperature', 'unknown']\n",
      "['button', 'colorTemperature', 'contact', 'level', 'lock', 'motion', 'ping', 'status', 'switch', 'temperature', 'unknown']\n",
      "(24440,)\n"
     ]
    },
    {
     "name": "stderr",
     "output_type": "stream",
     "text": [
      "/opt/anaconda3/envs/omid/lib/python3.6/site-packages/sklearn/multiclass.py:75: UserWarning: Label not 2 is present in all training examples.\n",
      "  str(classes[c]))\n",
      "/opt/anaconda3/envs/omid/lib/python3.6/site-packages/sklearn/multiclass.py:75: UserWarning: Label not 7 is present in all training examples.\n",
      "  str(classes[c]))\n"
     ]
    },
    {
     "name": "stdout",
     "output_type": "stream",
     "text": [
      "==================HOME Case : Omid =============\n"
     ]
    },
    {
     "name": "stderr",
     "output_type": "stream",
     "text": [
      "/opt/anaconda3/envs/omid/lib/python3.6/site-packages/ipykernel_launcher.py:10: RuntimeWarning: invalid value encountered in double_scalars\n",
      "  # Remove the CWD from sys.path while we load stuff.\n"
     ]
    },
    {
     "name": "stdout",
     "output_type": "stream",
     "text": [
      "------------------------------------------------------------------------\n",
      "in load from merged\n",
      "loading from test files\n",
      "found files :  5\n",
      "home_os_final.json\n",
      "home_sk_final.json\n",
      "test_data_light.json\n",
      "test_data_motion_2.json\n",
      "['button', 'colorTemperature', 'contact', 'level', 'lock', 'motion', 'ping', 'status', 'switch', 'temperature', 'unknown']\n",
      "(10850,)\n",
      "len x_TEst before predict 32511\n",
      "predicting ['button', 'colorTemperature', 'contact', 'level', 'lock', 'motion', 'ping', 'status', 'switch', 'temperature', 'unknown']\n",
      "['button', 'colorTemperature', 'contact', 'level', 'lock', 'motion', 'ping', 'status', 'switch', 'temperature', 'unknown']\n",
      "(24440,)\n"
     ]
    },
    {
     "name": "stderr",
     "output_type": "stream",
     "text": [
      "/opt/anaconda3/envs/omid/lib/python3.6/site-packages/sklearn/multiclass.py:75: UserWarning: Label not 2 is present in all training examples.\n",
      "  str(classes[c]))\n",
      "/opt/anaconda3/envs/omid/lib/python3.6/site-packages/sklearn/multiclass.py:75: UserWarning: Label not 7 is present in all training examples.\n",
      "  str(classes[c]))\n"
     ]
    },
    {
     "name": "stdout",
     "output_type": "stream",
     "text": [
      "==================HOME Case : Omid =============\n"
     ]
    },
    {
     "name": "stderr",
     "output_type": "stream",
     "text": [
      "/opt/anaconda3/envs/omid/lib/python3.6/site-packages/ipykernel_launcher.py:10: RuntimeWarning: invalid value encountered in double_scalars\n",
      "  # Remove the CWD from sys.path while we load stuff.\n"
     ]
    },
    {
     "name": "stdout",
     "output_type": "stream",
     "text": [
      "------------------------------------------------------------------------\n",
      "in load from merged\n",
      "loading from test files\n",
      "found files :  5\n",
      "home_os_final.json\n",
      "home_sk_final.json\n",
      "test_data_light.json\n",
      "test_data_motion_2.json\n",
      "['button', 'colorTemperature', 'contact', 'level', 'lock', 'motion', 'ping', 'status', 'switch', 'temperature', 'unknown']\n",
      "(11050,)\n",
      "len x_TEst before predict 32511\n",
      "predicting ['button', 'colorTemperature', 'contact', 'level', 'lock', 'motion', 'ping', 'status', 'switch', 'temperature', 'unknown']\n",
      "['button', 'colorTemperature', 'contact', 'level', 'lock', 'motion', 'ping', 'status', 'switch', 'temperature', 'unknown']\n",
      "(24440,)\n"
     ]
    },
    {
     "name": "stderr",
     "output_type": "stream",
     "text": [
      "/opt/anaconda3/envs/omid/lib/python3.6/site-packages/sklearn/multiclass.py:75: UserWarning: Label not 2 is present in all training examples.\n",
      "  str(classes[c]))\n",
      "/opt/anaconda3/envs/omid/lib/python3.6/site-packages/sklearn/multiclass.py:75: UserWarning: Label not 7 is present in all training examples.\n",
      "  str(classes[c]))\n"
     ]
    },
    {
     "name": "stdout",
     "output_type": "stream",
     "text": [
      "==================HOME Case : Omid =============\n"
     ]
    },
    {
     "name": "stderr",
     "output_type": "stream",
     "text": [
      "/opt/anaconda3/envs/omid/lib/python3.6/site-packages/ipykernel_launcher.py:10: RuntimeWarning: invalid value encountered in double_scalars\n",
      "  # Remove the CWD from sys.path while we load stuff.\n"
     ]
    },
    {
     "name": "stdout",
     "output_type": "stream",
     "text": [
      "------------------------------------------------------------------------\n",
      "in load from merged\n",
      "loading from test files\n",
      "found files :  5\n",
      "home_os_final.json\n",
      "home_sk_final.json\n",
      "test_data_light.json\n",
      "test_data_motion_2.json\n",
      "['button', 'colorTemperature', 'contact', 'level', 'lock', 'motion', 'ping', 'status', 'switch', 'temperature', 'unknown']\n",
      "(11250,)\n",
      "len x_TEst before predict 32511\n",
      "predicting ['button', 'colorTemperature', 'contact', 'level', 'lock', 'motion', 'ping', 'status', 'switch', 'temperature', 'unknown']\n",
      "['button', 'colorTemperature', 'contact', 'level', 'lock', 'motion', 'ping', 'status', 'switch', 'temperature', 'unknown']\n",
      "(24440,)\n"
     ]
    },
    {
     "name": "stderr",
     "output_type": "stream",
     "text": [
      "/opt/anaconda3/envs/omid/lib/python3.6/site-packages/sklearn/multiclass.py:75: UserWarning: Label not 2 is present in all training examples.\n",
      "  str(classes[c]))\n",
      "/opt/anaconda3/envs/omid/lib/python3.6/site-packages/sklearn/multiclass.py:75: UserWarning: Label not 7 is present in all training examples.\n",
      "  str(classes[c]))\n"
     ]
    },
    {
     "name": "stdout",
     "output_type": "stream",
     "text": [
      "==================HOME Case : Omid =============\n"
     ]
    },
    {
     "name": "stderr",
     "output_type": "stream",
     "text": [
      "/opt/anaconda3/envs/omid/lib/python3.6/site-packages/ipykernel_launcher.py:10: RuntimeWarning: invalid value encountered in double_scalars\n",
      "  # Remove the CWD from sys.path while we load stuff.\n"
     ]
    },
    {
     "name": "stdout",
     "output_type": "stream",
     "text": [
      "------------------------------------------------------------------------\n",
      "in load from merged\n",
      "loading from test files\n",
      "found files :  5\n",
      "home_os_final.json\n",
      "home_sk_final.json\n",
      "test_data_light.json\n",
      "test_data_motion_2.json\n",
      "['button', 'colorTemperature', 'contact', 'level', 'lock', 'motion', 'ping', 'status', 'switch', 'temperature', 'unknown']\n",
      "(11450,)\n",
      "len x_TEst before predict 32511\n",
      "predicting ['button', 'colorTemperature', 'contact', 'level', 'lock', 'motion', 'ping', 'status', 'switch', 'temperature', 'unknown']\n",
      "['button', 'colorTemperature', 'contact', 'level', 'lock', 'motion', 'ping', 'status', 'switch', 'temperature', 'unknown']\n",
      "(24440,)\n"
     ]
    },
    {
     "name": "stderr",
     "output_type": "stream",
     "text": [
      "/opt/anaconda3/envs/omid/lib/python3.6/site-packages/sklearn/multiclass.py:75: UserWarning: Label not 2 is present in all training examples.\n",
      "  str(classes[c]))\n",
      "/opt/anaconda3/envs/omid/lib/python3.6/site-packages/sklearn/multiclass.py:75: UserWarning: Label not 7 is present in all training examples.\n",
      "  str(classes[c]))\n"
     ]
    },
    {
     "name": "stdout",
     "output_type": "stream",
     "text": [
      "==================HOME Case : Omid =============\n"
     ]
    },
    {
     "name": "stderr",
     "output_type": "stream",
     "text": [
      "/opt/anaconda3/envs/omid/lib/python3.6/site-packages/ipykernel_launcher.py:10: RuntimeWarning: invalid value encountered in double_scalars\n",
      "  # Remove the CWD from sys.path while we load stuff.\n"
     ]
    },
    {
     "name": "stdout",
     "output_type": "stream",
     "text": [
      "------------------------------------------------------------------------\n",
      "in load from merged\n",
      "loading from test files\n",
      "found files :  5\n",
      "home_os_final.json\n",
      "home_sk_final.json\n",
      "test_data_light.json\n",
      "test_data_motion_2.json\n",
      "['button', 'colorTemperature', 'contact', 'level', 'lock', 'motion', 'ping', 'status', 'switch', 'temperature', 'unknown']\n",
      "(11650,)\n",
      "len x_TEst before predict 32511\n",
      "predicting ['button', 'colorTemperature', 'contact', 'level', 'lock', 'motion', 'ping', 'status', 'switch', 'temperature', 'unknown']\n",
      "['button', 'colorTemperature', 'contact', 'level', 'lock', 'motion', 'ping', 'status', 'switch', 'temperature', 'unknown']\n",
      "(24440,)\n"
     ]
    },
    {
     "name": "stderr",
     "output_type": "stream",
     "text": [
      "/opt/anaconda3/envs/omid/lib/python3.6/site-packages/sklearn/multiclass.py:75: UserWarning: Label not 2 is present in all training examples.\n",
      "  str(classes[c]))\n",
      "/opt/anaconda3/envs/omid/lib/python3.6/site-packages/sklearn/multiclass.py:75: UserWarning: Label not 7 is present in all training examples.\n",
      "  str(classes[c]))\n"
     ]
    },
    {
     "name": "stdout",
     "output_type": "stream",
     "text": [
      "==================HOME Case : Omid =============\n"
     ]
    },
    {
     "name": "stderr",
     "output_type": "stream",
     "text": [
      "/opt/anaconda3/envs/omid/lib/python3.6/site-packages/ipykernel_launcher.py:10: RuntimeWarning: invalid value encountered in double_scalars\n",
      "  # Remove the CWD from sys.path while we load stuff.\n"
     ]
    },
    {
     "name": "stdout",
     "output_type": "stream",
     "text": [
      "------------------------------------------------------------------------\n",
      "in load from merged\n",
      "loading from test files\n",
      "found files :  5\n",
      "home_os_final.json\n",
      "home_sk_final.json\n",
      "test_data_light.json\n",
      "test_data_motion_2.json\n",
      "['button', 'colorTemperature', 'contact', 'level', 'lock', 'motion', 'ping', 'status', 'switch', 'temperature', 'unknown']\n",
      "(11850,)\n",
      "len x_TEst before predict 32511\n",
      "predicting ['button', 'colorTemperature', 'contact', 'level', 'lock', 'motion', 'ping', 'status', 'switch', 'temperature', 'unknown']\n",
      "['button', 'colorTemperature', 'contact', 'level', 'lock', 'motion', 'ping', 'status', 'switch', 'temperature', 'unknown']\n",
      "(24440,)\n"
     ]
    },
    {
     "name": "stderr",
     "output_type": "stream",
     "text": [
      "/opt/anaconda3/envs/omid/lib/python3.6/site-packages/sklearn/multiclass.py:75: UserWarning: Label not 2 is present in all training examples.\n",
      "  str(classes[c]))\n",
      "/opt/anaconda3/envs/omid/lib/python3.6/site-packages/sklearn/multiclass.py:75: UserWarning: Label not 7 is present in all training examples.\n",
      "  str(classes[c]))\n"
     ]
    },
    {
     "name": "stdout",
     "output_type": "stream",
     "text": [
      "==================HOME Case : Omid =============\n"
     ]
    },
    {
     "name": "stderr",
     "output_type": "stream",
     "text": [
      "/opt/anaconda3/envs/omid/lib/python3.6/site-packages/ipykernel_launcher.py:10: RuntimeWarning: invalid value encountered in double_scalars\n",
      "  # Remove the CWD from sys.path while we load stuff.\n"
     ]
    },
    {
     "name": "stdout",
     "output_type": "stream",
     "text": [
      "------------------------------------------------------------------------\n",
      "in load from merged\n",
      "loading from test files\n",
      "found files :  5\n",
      "home_os_final.json\n",
      "home_sk_final.json\n",
      "test_data_light.json\n",
      "test_data_motion_2.json\n",
      "['button', 'colorTemperature', 'contact', 'level', 'lock', 'motion', 'ping', 'status', 'switch', 'temperature', 'unknown']\n",
      "(12050,)\n",
      "len x_TEst before predict 32511\n",
      "predicting ['button', 'colorTemperature', 'contact', 'level', 'lock', 'motion', 'ping', 'status', 'switch', 'temperature', 'unknown']\n",
      "['button', 'colorTemperature', 'contact', 'level', 'lock', 'motion', 'ping', 'status', 'switch', 'temperature', 'unknown']\n",
      "(24440,)\n"
     ]
    },
    {
     "name": "stderr",
     "output_type": "stream",
     "text": [
      "/opt/anaconda3/envs/omid/lib/python3.6/site-packages/sklearn/multiclass.py:75: UserWarning: Label not 2 is present in all training examples.\n",
      "  str(classes[c]))\n",
      "/opt/anaconda3/envs/omid/lib/python3.6/site-packages/sklearn/multiclass.py:75: UserWarning: Label not 7 is present in all training examples.\n",
      "  str(classes[c]))\n"
     ]
    },
    {
     "name": "stdout",
     "output_type": "stream",
     "text": [
      "==================HOME Case : Omid =============\n"
     ]
    },
    {
     "name": "stderr",
     "output_type": "stream",
     "text": [
      "/opt/anaconda3/envs/omid/lib/python3.6/site-packages/ipykernel_launcher.py:10: RuntimeWarning: invalid value encountered in double_scalars\n",
      "  # Remove the CWD from sys.path while we load stuff.\n"
     ]
    },
    {
     "name": "stdout",
     "output_type": "stream",
     "text": [
      "------------------------------------------------------------------------\n",
      "in load from merged\n",
      "loading from test files\n",
      "found files :  5\n",
      "home_os_final.json\n",
      "home_sk_final.json\n",
      "test_data_light.json\n",
      "test_data_motion_2.json\n",
      "['button', 'colorTemperature', 'contact', 'level', 'lock', 'motion', 'ping', 'status', 'switch', 'temperature', 'unknown']\n",
      "(12250,)\n",
      "len x_TEst before predict 32511\n",
      "predicting ['button', 'colorTemperature', 'contact', 'level', 'lock', 'motion', 'ping', 'status', 'switch', 'temperature', 'unknown']\n",
      "['button', 'colorTemperature', 'contact', 'level', 'lock', 'motion', 'ping', 'status', 'switch', 'temperature', 'unknown']\n",
      "(24440,)\n",
      "==================HOME Case : Omid =============\n",
      "------------------------------------------------------------------------\n",
      "in load from merged\n",
      "loading from test files\n",
      "found files :  5\n",
      "home_os_final.json\n",
      "home_sk_final.json\n",
      "test_data_light.json\n",
      "test_data_motion_2.json\n",
      "['button', 'colorTemperature', 'contact', 'level', 'lock', 'motion', 'ping', 'status', 'switch', 'temperature', 'unknown']\n",
      "(12450,)\n",
      "len x_TEst before predict 32511\n",
      "predicting ['button', 'colorTemperature', 'contact', 'level', 'lock', 'motion', 'ping', 'status', 'switch', 'temperature', 'unknown']\n",
      "['button', 'colorTemperature', 'contact', 'level', 'lock', 'motion', 'ping', 'status', 'switch', 'temperature', 'unknown']\n",
      "(24440,)\n",
      "==================HOME Case : Omid =============\n",
      "------------------------------------------------------------------------\n",
      "in load from merged\n",
      "loading from test files\n",
      "found files :  5\n",
      "home_os_final.json\n",
      "home_sk_final.json\n",
      "test_data_light.json\n",
      "test_data_motion_2.json\n",
      "['button', 'colorTemperature', 'contact', 'level', 'lock', 'motion', 'ping', 'status', 'switch', 'temperature', 'unknown']\n",
      "(12650,)\n",
      "len x_TEst before predict 32511\n",
      "predicting ['button', 'colorTemperature', 'contact', 'level', 'lock', 'motion', 'ping', 'status', 'switch', 'temperature', 'unknown']\n",
      "['button', 'colorTemperature', 'contact', 'level', 'lock', 'motion', 'ping', 'status', 'switch', 'temperature', 'unknown']\n",
      "(24440,)\n",
      "==================HOME Case : Omid =============\n",
      "------------------------------------------------------------------------\n",
      "in load from merged\n",
      "loading from test files\n",
      "found files :  5\n",
      "home_os_final.json\n",
      "home_sk_final.json\n",
      "test_data_light.json\n",
      "test_data_motion_2.json\n",
      "['button', 'colorTemperature', 'contact', 'level', 'lock', 'motion', 'ping', 'status', 'switch', 'temperature', 'unknown']\n",
      "(12850,)\n",
      "len x_TEst before predict 32511\n",
      "predicting ['button', 'colorTemperature', 'contact', 'level', 'lock', 'motion', 'ping', 'status', 'switch', 'temperature', 'unknown']\n",
      "['button', 'colorTemperature', 'contact', 'level', 'lock', 'motion', 'ping', 'status', 'switch', 'temperature', 'unknown']\n",
      "(24440,)\n",
      "==================HOME Case : Omid =============\n",
      "------------------------------------------------------------------------\n",
      "in load from merged\n",
      "loading from test files\n",
      "found files :  5\n",
      "home_os_final.json\n",
      "home_sk_final.json\n",
      "test_data_light.json\n",
      "test_data_motion_2.json\n",
      "['button', 'colorTemperature', 'contact', 'level', 'lock', 'motion', 'ping', 'status', 'switch', 'temperature', 'unknown']\n",
      "(13050,)\n",
      "len x_TEst before predict 32511\n",
      "predicting ['button', 'colorTemperature', 'contact', 'level', 'lock', 'motion', 'ping', 'status', 'switch', 'temperature', 'unknown']\n",
      "['button', 'colorTemperature', 'contact', 'level', 'lock', 'motion', 'ping', 'status', 'switch', 'temperature', 'unknown']\n",
      "(24440,)\n",
      "==================HOME Case : Omid =============\n",
      "------------------------------------------------------------------------\n",
      "in load from merged\n",
      "loading from test files\n",
      "found files :  5\n",
      "home_os_final.json\n",
      "home_sk_final.json\n",
      "test_data_light.json\n",
      "test_data_motion_2.json\n",
      "['button', 'colorTemperature', 'contact', 'level', 'lock', 'motion', 'ping', 'status', 'switch', 'temperature', 'unknown']\n",
      "(13250,)\n",
      "len x_TEst before predict 32511\n",
      "predicting ['button', 'colorTemperature', 'contact', 'level', 'lock', 'motion', 'ping', 'status', 'switch', 'temperature', 'unknown']\n",
      "['button', 'colorTemperature', 'contact', 'level', 'lock', 'motion', 'ping', 'status', 'switch', 'temperature', 'unknown']\n",
      "(24440,)\n",
      "==================HOME Case : Omid =============\n",
      "------------------------------------------------------------------------\n",
      "in load from merged\n",
      "loading from test files\n",
      "found files :  5\n",
      "home_os_final.json\n",
      "home_sk_final.json\n",
      "test_data_light.json\n",
      "test_data_motion_2.json\n",
      "['button', 'colorTemperature', 'contact', 'level', 'lock', 'motion', 'ping', 'status', 'switch', 'temperature', 'unknown']\n",
      "(13450,)\n",
      "len x_TEst before predict 32511\n",
      "predicting ['button', 'colorTemperature', 'contact', 'level', 'lock', 'motion', 'ping', 'status', 'switch', 'temperature', 'unknown']\n",
      "['button', 'colorTemperature', 'contact', 'level', 'lock', 'motion', 'ping', 'status', 'switch', 'temperature', 'unknown']\n",
      "(24440,)\n",
      "==================HOME Case : Omid =============\n",
      "------------------------------------------------------------------------\n",
      "in load from merged\n",
      "loading from test files\n",
      "found files :  5\n",
      "home_os_final.json\n",
      "home_sk_final.json\n",
      "test_data_light.json\n",
      "test_data_motion_2.json\n",
      "['button', 'colorTemperature', 'contact', 'level', 'lock', 'motion', 'ping', 'status', 'switch', 'temperature', 'unknown']\n",
      "(13650,)\n",
      "len x_TEst before predict 32511\n",
      "predicting ['button', 'colorTemperature', 'contact', 'level', 'lock', 'motion', 'ping', 'status', 'switch', 'temperature', 'unknown']\n",
      "['button', 'colorTemperature', 'contact', 'level', 'lock', 'motion', 'ping', 'status', 'switch', 'temperature', 'unknown']\n",
      "(24440,)\n",
      "==================HOME Case : Omid =============\n",
      "------------------------------------------------------------------------\n",
      "in load from merged\n",
      "loading from test files\n",
      "found files :  5\n",
      "home_os_final.json\n",
      "home_sk_final.json\n",
      "test_data_light.json\n",
      "test_data_motion_2.json\n",
      "['button', 'colorTemperature', 'contact', 'level', 'lock', 'motion', 'ping', 'status', 'switch', 'temperature', 'unknown']\n",
      "(13850,)\n",
      "len x_TEst before predict 32511\n",
      "predicting ['button', 'colorTemperature', 'contact', 'level', 'lock', 'motion', 'ping', 'status', 'switch', 'temperature', 'unknown']\n",
      "['button', 'colorTemperature', 'contact', 'level', 'lock', 'motion', 'ping', 'status', 'switch', 'temperature', 'unknown']\n",
      "(24440,)\n",
      "==================HOME Case : Omid =============\n",
      "------------------------------------------------------------------------\n",
      "in load from merged\n",
      "loading from test files\n",
      "found files :  5\n",
      "home_os_final.json\n",
      "home_sk_final.json\n",
      "test_data_light.json\n",
      "test_data_motion_2.json\n",
      "['button', 'colorTemperature', 'contact', 'level', 'lock', 'motion', 'ping', 'status', 'switch', 'temperature', 'unknown']\n",
      "(14050,)\n",
      "len x_TEst before predict 32511\n",
      "predicting ['button', 'colorTemperature', 'contact', 'level', 'lock', 'motion', 'ping', 'status', 'switch', 'temperature', 'unknown']\n",
      "['button', 'colorTemperature', 'contact', 'level', 'lock', 'motion', 'ping', 'status', 'switch', 'temperature', 'unknown']\n",
      "(24440,)\n",
      "==================HOME Case : Omid =============\n",
      "------------------------------------------------------------------------\n",
      "in load from merged\n",
      "loading from test files\n",
      "found files :  5\n",
      "home_os_final.json\n",
      "home_sk_final.json\n",
      "test_data_light.json\n",
      "test_data_motion_2.json\n",
      "['button', 'colorTemperature', 'contact', 'level', 'lock', 'motion', 'ping', 'status', 'switch', 'temperature', 'unknown']\n",
      "(14250,)\n",
      "len x_TEst before predict 32511\n",
      "predicting ['button', 'colorTemperature', 'contact', 'level', 'lock', 'motion', 'ping', 'status', 'switch', 'temperature', 'unknown']\n",
      "['button', 'colorTemperature', 'contact', 'level', 'lock', 'motion', 'ping', 'status', 'switch', 'temperature', 'unknown']\n",
      "(24440,)\n",
      "==================HOME Case : Omid =============\n",
      "------------------------------------------------------------------------\n",
      "in load from merged\n",
      "loading from test files\n",
      "found files :  5\n",
      "home_os_final.json\n",
      "home_sk_final.json\n",
      "test_data_light.json\n",
      "test_data_motion_2.json\n",
      "['button', 'colorTemperature', 'contact', 'level', 'lock', 'motion', 'ping', 'status', 'switch', 'temperature', 'unknown']\n",
      "(14450,)\n",
      "len x_TEst before predict 32511\n",
      "predicting ['button', 'colorTemperature', 'contact', 'level', 'lock', 'motion', 'ping', 'status', 'switch', 'temperature', 'unknown']\n",
      "['button', 'colorTemperature', 'contact', 'level', 'lock', 'motion', 'ping', 'status', 'switch', 'temperature', 'unknown']\n"
     ]
    },
    {
     "name": "stdout",
     "output_type": "stream",
     "text": [
      "(24440,)\n",
      "==================HOME Case : Omid =============\n",
      "------------------------------------------------------------------------\n",
      "in load from merged\n",
      "loading from test files\n",
      "found files :  5\n",
      "home_os_final.json\n",
      "home_sk_final.json\n",
      "test_data_light.json\n",
      "test_data_motion_2.json\n",
      "['button', 'colorTemperature', 'contact', 'level', 'lock', 'motion', 'ping', 'status', 'switch', 'temperature', 'unknown']\n",
      "(14650,)\n",
      "len x_TEst before predict 32511\n",
      "predicting ['button', 'colorTemperature', 'contact', 'level', 'lock', 'motion', 'ping', 'status', 'switch', 'temperature', 'unknown']\n",
      "['button', 'colorTemperature', 'contact', 'level', 'lock', 'motion', 'ping', 'status', 'switch', 'temperature', 'unknown']\n",
      "(24440,)\n",
      "==================HOME Case : Omid =============\n",
      "------------------------------------------------------------------------\n",
      "in load from merged\n",
      "loading from test files\n",
      "found files :  5\n",
      "home_os_final.json\n",
      "home_sk_final.json\n",
      "test_data_light.json\n",
      "test_data_motion_2.json\n",
      "['button', 'colorTemperature', 'contact', 'level', 'lock', 'motion', 'ping', 'status', 'switch', 'temperature', 'unknown']\n",
      "(14850,)\n",
      "len x_TEst before predict 32511\n",
      "predicting ['button', 'colorTemperature', 'contact', 'level', 'lock', 'motion', 'ping', 'status', 'switch', 'temperature', 'unknown']\n",
      "['button', 'colorTemperature', 'contact', 'level', 'lock', 'motion', 'ping', 'status', 'switch', 'temperature', 'unknown']\n",
      "(24440,)\n",
      "==================HOME Case : Omid =============\n",
      "------------------------------------------------------------------------\n",
      "in load from merged\n",
      "loading from test files\n",
      "found files :  5\n",
      "home_os_final.json\n",
      "home_sk_final.json\n",
      "test_data_light.json\n",
      "test_data_motion_2.json\n",
      "['button', 'colorTemperature', 'contact', 'level', 'lock', 'motion', 'ping', 'status', 'switch', 'temperature', 'unknown']\n",
      "(15050,)\n",
      "len x_TEst before predict 32511\n",
      "predicting ['button', 'colorTemperature', 'contact', 'level', 'lock', 'motion', 'ping', 'status', 'switch', 'temperature', 'unknown']\n",
      "['button', 'colorTemperature', 'contact', 'level', 'lock', 'motion', 'ping', 'status', 'switch', 'temperature', 'unknown']\n",
      "(24440,)\n",
      "==================HOME Case : Omid =============\n",
      "------------------------------------------------------------------------\n",
      "in load from merged\n",
      "loading from test files\n",
      "found files :  5\n",
      "home_os_final.json\n",
      "home_sk_final.json\n",
      "test_data_light.json\n",
      "test_data_motion_2.json\n",
      "['button', 'colorTemperature', 'contact', 'level', 'lock', 'motion', 'ping', 'status', 'switch', 'temperature', 'unknown']\n",
      "(15250,)\n",
      "len x_TEst before predict 32511\n",
      "predicting ['button', 'colorTemperature', 'contact', 'level', 'lock', 'motion', 'ping', 'status', 'switch', 'temperature', 'unknown']\n",
      "['button', 'colorTemperature', 'contact', 'level', 'lock', 'motion', 'ping', 'status', 'switch', 'temperature', 'unknown']\n",
      "(24440,)\n",
      "==================HOME Case : Omid =============\n",
      "------------------------------------------------------------------------\n",
      "in load from merged\n",
      "loading from test files\n",
      "found files :  5\n",
      "home_os_final.json\n",
      "home_sk_final.json\n",
      "test_data_light.json\n",
      "test_data_motion_2.json\n",
      "['button', 'colorTemperature', 'contact', 'level', 'lock', 'motion', 'ping', 'status', 'switch', 'temperature', 'unknown']\n",
      "(15450,)\n",
      "len x_TEst before predict 32511\n",
      "predicting ['button', 'colorTemperature', 'contact', 'level', 'lock', 'motion', 'ping', 'status', 'switch', 'temperature', 'unknown']\n",
      "['button', 'colorTemperature', 'contact', 'level', 'lock', 'motion', 'ping', 'status', 'switch', 'temperature', 'unknown']\n",
      "(24440,)\n",
      "==================HOME Case : Omid =============\n",
      "------------------------------------------------------------------------\n",
      "in load from merged\n",
      "loading from test files\n",
      "found files :  5\n",
      "home_os_final.json\n",
      "home_sk_final.json\n",
      "test_data_light.json\n",
      "test_data_motion_2.json\n",
      "['button', 'colorTemperature', 'contact', 'level', 'lock', 'motion', 'ping', 'status', 'switch', 'temperature', 'unknown']\n",
      "(15650,)\n",
      "len x_TEst before predict 32511\n",
      "predicting ['button', 'colorTemperature', 'contact', 'level', 'lock', 'motion', 'ping', 'status', 'switch', 'temperature', 'unknown']\n",
      "['button', 'colorTemperature', 'contact', 'level', 'lock', 'motion', 'ping', 'status', 'switch', 'temperature', 'unknown']\n",
      "(24440,)\n",
      "==================HOME Case : Omid =============\n",
      "------------------------------------------------------------------------\n",
      "in load from merged\n",
      "loading from test files\n",
      "found files :  5\n",
      "home_os_final.json\n",
      "home_sk_final.json\n",
      "test_data_light.json\n",
      "test_data_motion_2.json\n",
      "['button', 'colorTemperature', 'contact', 'level', 'lock', 'motion', 'ping', 'status', 'switch', 'temperature', 'unknown']\n",
      "(15850,)\n",
      "len x_TEst before predict 32511\n",
      "predicting ['button', 'colorTemperature', 'contact', 'level', 'lock', 'motion', 'ping', 'status', 'switch', 'temperature', 'unknown']\n",
      "['button', 'colorTemperature', 'contact', 'level', 'lock', 'motion', 'ping', 'status', 'switch', 'temperature', 'unknown']\n",
      "(24440,)\n",
      "==================HOME Case : Omid =============\n",
      "------------------------------------------------------------------------\n",
      "in load from merged\n",
      "loading from test files\n",
      "found files :  5\n",
      "home_os_final.json\n",
      "home_sk_final.json\n",
      "test_data_light.json\n",
      "test_data_motion_2.json\n",
      "['button', 'colorTemperature', 'contact', 'level', 'lock', 'motion', 'ping', 'status', 'switch', 'temperature', 'unknown']\n",
      "(16050,)\n",
      "len x_TEst before predict 32511\n",
      "predicting ['button', 'colorTemperature', 'contact', 'level', 'lock', 'motion', 'ping', 'status', 'switch', 'temperature', 'unknown']\n",
      "['button', 'colorTemperature', 'contact', 'level', 'lock', 'motion', 'ping', 'status', 'switch', 'temperature', 'unknown']\n",
      "(24440,)\n",
      "==================HOME Case : Omid =============\n",
      "------------------------------------------------------------------------\n",
      "in load from merged\n",
      "loading from test files\n",
      "found files :  5\n",
      "home_os_final.json\n",
      "home_sk_final.json\n",
      "test_data_light.json\n",
      "test_data_motion_2.json\n",
      "['button', 'colorTemperature', 'contact', 'level', 'lock', 'motion', 'ping', 'status', 'switch', 'temperature', 'unknown']\n",
      "(16250,)\n",
      "len x_TEst before predict 32511\n",
      "predicting ['button', 'colorTemperature', 'contact', 'level', 'lock', 'motion', 'ping', 'status', 'switch', 'temperature', 'unknown']\n",
      "['button', 'colorTemperature', 'contact', 'level', 'lock', 'motion', 'ping', 'status', 'switch', 'temperature', 'unknown']\n",
      "(24440,)\n",
      "==================HOME Case : Omid =============\n",
      "------------------------------------------------------------------------\n",
      "in load from merged\n",
      "loading from test files\n",
      "found files :  5\n",
      "home_os_final.json\n",
      "home_sk_final.json\n",
      "test_data_light.json\n",
      "test_data_motion_2.json\n",
      "['button', 'colorTemperature', 'contact', 'level', 'lock', 'motion', 'ping', 'status', 'switch', 'temperature', 'unknown']\n",
      "(16450,)\n",
      "len x_TEst before predict 32511\n",
      "predicting ['button', 'colorTemperature', 'contact', 'level', 'lock', 'motion', 'ping', 'status', 'switch', 'temperature', 'unknown']\n",
      "['button', 'colorTemperature', 'contact', 'level', 'lock', 'motion', 'ping', 'status', 'switch', 'temperature', 'unknown']\n",
      "(24440,)\n",
      "==================HOME Case : Omid =============\n",
      "------------------------------------------------------------------------\n",
      "in load from merged\n",
      "loading from test files\n",
      "found files :  5\n",
      "home_os_final.json\n",
      "home_sk_final.json\n",
      "test_data_light.json\n",
      "test_data_motion_2.json\n",
      "['button', 'colorTemperature', 'contact', 'level', 'lock', 'motion', 'ping', 'status', 'switch', 'temperature', 'unknown']\n",
      "(16650,)\n",
      "len x_TEst before predict 32511\n",
      "predicting ['button', 'colorTemperature', 'contact', 'level', 'lock', 'motion', 'ping', 'status', 'switch', 'temperature', 'unknown']\n",
      "['button', 'colorTemperature', 'contact', 'level', 'lock', 'motion', 'ping', 'status', 'switch', 'temperature', 'unknown']\n",
      "(24440,)\n",
      "==================HOME Case : Omid =============\n",
      "------------------------------------------------------------------------\n",
      "in load from merged\n",
      "loading from test files\n",
      "found files :  5\n",
      "home_os_final.json\n",
      "home_sk_final.json\n",
      "test_data_light.json\n",
      "test_data_motion_2.json\n",
      "['button', 'colorTemperature', 'contact', 'level', 'lock', 'motion', 'ping', 'status', 'switch', 'temperature', 'unknown']\n",
      "(16850,)\n",
      "len x_TEst before predict 32511\n",
      "predicting ['button', 'colorTemperature', 'contact', 'level', 'lock', 'motion', 'ping', 'status', 'switch', 'temperature', 'unknown']\n",
      "['button', 'colorTemperature', 'contact', 'level', 'lock', 'motion', 'ping', 'status', 'switch', 'temperature', 'unknown']\n"
     ]
    },
    {
     "name": "stdout",
     "output_type": "stream",
     "text": [
      "(24440,)\n",
      "==================HOME Case : Omid =============\n",
      "------------------------------------------------------------------------\n",
      "in load from merged\n",
      "loading from test files\n",
      "found files :  5\n",
      "home_os_final.json\n",
      "home_sk_final.json\n",
      "test_data_light.json\n",
      "test_data_motion_2.json\n",
      "['button', 'colorTemperature', 'contact', 'level', 'lock', 'motion', 'ping', 'status', 'switch', 'temperature', 'unknown']\n",
      "(17050,)\n",
      "len x_TEst before predict 32511\n",
      "predicting ['button', 'colorTemperature', 'contact', 'level', 'lock', 'motion', 'ping', 'status', 'switch', 'temperature', 'unknown']\n",
      "['button', 'colorTemperature', 'contact', 'level', 'lock', 'motion', 'ping', 'status', 'switch', 'temperature', 'unknown']\n",
      "(24440,)\n",
      "==================HOME Case : Omid =============\n",
      "------------------------------------------------------------------------\n",
      "in load from merged\n",
      "loading from test files\n",
      "found files :  5\n",
      "home_os_final.json\n",
      "home_sk_final.json\n",
      "test_data_light.json\n",
      "test_data_motion_2.json\n",
      "['button', 'colorTemperature', 'contact', 'level', 'lock', 'motion', 'ping', 'status', 'switch', 'temperature', 'unknown']\n",
      "(17250,)\n",
      "len x_TEst before predict 32511\n",
      "predicting ['button', 'colorTemperature', 'contact', 'level', 'lock', 'motion', 'ping', 'status', 'switch', 'temperature', 'unknown']\n",
      "['button', 'colorTemperature', 'contact', 'level', 'lock', 'motion', 'ping', 'status', 'switch', 'temperature', 'unknown']\n",
      "(24440,)\n",
      "==================HOME Case : Omid =============\n",
      "------------------------------------------------------------------------\n",
      "in load from merged\n",
      "loading from test files\n",
      "found files :  5\n",
      "home_os_final.json\n",
      "home_sk_final.json\n",
      "test_data_light.json\n",
      "test_data_motion_2.json\n",
      "['button', 'colorTemperature', 'contact', 'level', 'lock', 'motion', 'ping', 'status', 'switch', 'temperature', 'unknown']\n",
      "(17450,)\n",
      "len x_TEst before predict 32511\n",
      "predicting ['button', 'colorTemperature', 'contact', 'level', 'lock', 'motion', 'ping', 'status', 'switch', 'temperature', 'unknown']\n",
      "['button', 'colorTemperature', 'contact', 'level', 'lock', 'motion', 'ping', 'status', 'switch', 'temperature', 'unknown']\n",
      "(24440,)\n",
      "==================HOME Case : Omid =============\n",
      "------------------------------------------------------------------------\n",
      "in load from merged\n",
      "loading from test files\n",
      "found files :  5\n",
      "home_os_final.json\n",
      "home_sk_final.json\n",
      "test_data_light.json\n",
      "test_data_motion_2.json\n",
      "['button', 'colorTemperature', 'contact', 'level', 'lock', 'motion', 'ping', 'status', 'switch', 'temperature', 'unknown']\n",
      "(17650,)\n",
      "len x_TEst before predict 32511\n",
      "predicting ['button', 'colorTemperature', 'contact', 'level', 'lock', 'motion', 'ping', 'status', 'switch', 'temperature', 'unknown']\n",
      "['button', 'colorTemperature', 'contact', 'level', 'lock', 'motion', 'ping', 'status', 'switch', 'temperature', 'unknown']\n",
      "(24440,)\n",
      "==================HOME Case : Omid =============\n",
      "------------------------------------------------------------------------\n",
      "in load from merged\n",
      "loading from test files\n",
      "found files :  5\n",
      "home_os_final.json\n",
      "home_sk_final.json\n",
      "test_data_light.json\n",
      "test_data_motion_2.json\n",
      "['button', 'colorTemperature', 'contact', 'level', 'lock', 'motion', 'ping', 'status', 'switch', 'temperature', 'unknown']\n",
      "(17850,)\n",
      "len x_TEst before predict 32511\n",
      "predicting ['button', 'colorTemperature', 'contact', 'level', 'lock', 'motion', 'ping', 'status', 'switch', 'temperature', 'unknown']\n",
      "['button', 'colorTemperature', 'contact', 'level', 'lock', 'motion', 'ping', 'status', 'switch', 'temperature', 'unknown']\n",
      "(24440,)\n",
      "==================HOME Case : Omid =============\n",
      "------------------------------------------------------------------------\n",
      "in load from merged\n",
      "loading from test files\n",
      "found files :  5\n",
      "home_os_final.json\n",
      "home_sk_final.json\n",
      "test_data_light.json\n",
      "test_data_motion_2.json\n",
      "['button', 'colorTemperature', 'contact', 'level', 'lock', 'motion', 'ping', 'status', 'switch', 'temperature', 'unknown']\n",
      "(18050,)\n",
      "len x_TEst before predict 32511\n",
      "predicting ['button', 'colorTemperature', 'contact', 'level', 'lock', 'motion', 'ping', 'status', 'switch', 'temperature', 'unknown']\n",
      "['button', 'colorTemperature', 'contact', 'level', 'lock', 'motion', 'ping', 'status', 'switch', 'temperature', 'unknown']\n",
      "(24440,)\n",
      "==================HOME Case : Omid =============\n",
      "------------------------------------------------------------------------\n",
      "in load from merged\n",
      "loading from test files\n",
      "found files :  5\n",
      "home_os_final.json\n",
      "home_sk_final.json\n",
      "test_data_light.json\n",
      "test_data_motion_2.json\n",
      "['button', 'colorTemperature', 'contact', 'level', 'lock', 'motion', 'ping', 'status', 'switch', 'temperature', 'unknown']\n",
      "(18250,)\n",
      "len x_TEst before predict 32511\n",
      "predicting ['button', 'colorTemperature', 'contact', 'level', 'lock', 'motion', 'ping', 'status', 'switch', 'temperature', 'unknown']\n",
      "['button', 'colorTemperature', 'contact', 'level', 'lock', 'motion', 'ping', 'status', 'switch', 'temperature', 'unknown']\n",
      "(24440,)\n",
      "==================HOME Case : Omid =============\n",
      "------------------------------------------------------------------------\n",
      "in load from merged\n",
      "loading from test files\n",
      "found files :  5\n",
      "home_os_final.json\n",
      "home_sk_final.json\n",
      "test_data_light.json\n",
      "test_data_motion_2.json\n",
      "['button', 'colorTemperature', 'contact', 'level', 'lock', 'motion', 'ping', 'status', 'switch', 'temperature', 'unknown']\n",
      "(18450,)\n",
      "len x_TEst before predict 32511\n",
      "predicting ['button', 'colorTemperature', 'contact', 'level', 'lock', 'motion', 'ping', 'status', 'switch', 'temperature', 'unknown']\n",
      "['button', 'colorTemperature', 'contact', 'level', 'lock', 'motion', 'ping', 'status', 'switch', 'temperature', 'unknown']\n",
      "(24440,)\n",
      "==================HOME Case : Omid =============\n",
      "------------------------------------------------------------------------\n",
      "in load from merged\n",
      "loading from test files\n",
      "found files :  5\n",
      "home_os_final.json\n",
      "home_sk_final.json\n",
      "test_data_light.json\n",
      "test_data_motion_2.json\n",
      "['button', 'colorTemperature', 'contact', 'level', 'lock', 'motion', 'ping', 'status', 'switch', 'temperature', 'unknown']\n",
      "(18650,)\n",
      "len x_TEst before predict 32511\n",
      "predicting ['button', 'colorTemperature', 'contact', 'level', 'lock', 'motion', 'ping', 'status', 'switch', 'temperature', 'unknown']\n",
      "['button', 'colorTemperature', 'contact', 'level', 'lock', 'motion', 'ping', 'status', 'switch', 'temperature', 'unknown']\n",
      "(24440,)\n",
      "==================HOME Case : Omid =============\n",
      "------------------------------------------------------------------------\n",
      "in load from merged\n",
      "loading from test files\n",
      "found files :  5\n",
      "home_os_final.json\n",
      "home_sk_final.json\n",
      "test_data_light.json\n",
      "test_data_motion_2.json\n",
      "['button', 'colorTemperature', 'contact', 'level', 'lock', 'motion', 'ping', 'status', 'switch', 'temperature', 'unknown']\n",
      "(18850,)\n",
      "len x_TEst before predict 32511\n",
      "predicting ['button', 'colorTemperature', 'contact', 'level', 'lock', 'motion', 'ping', 'status', 'switch', 'temperature', 'unknown']\n",
      "['button', 'colorTemperature', 'contact', 'level', 'lock', 'motion', 'ping', 'status', 'switch', 'temperature', 'unknown']\n",
      "(24440,)\n",
      "==================HOME Case : Omid =============\n",
      "------------------------------------------------------------------------\n",
      "in load from merged\n",
      "loading from test files\n",
      "found files :  5\n",
      "home_os_final.json\n",
      "home_sk_final.json\n",
      "test_data_light.json\n",
      "test_data_motion_2.json\n",
      "['button', 'colorTemperature', 'contact', 'level', 'lock', 'motion', 'ping', 'status', 'switch', 'temperature', 'unknown']\n",
      "(19050,)\n",
      "len x_TEst before predict 32511\n",
      "predicting ['button', 'colorTemperature', 'contact', 'level', 'lock', 'motion', 'ping', 'status', 'switch', 'temperature', 'unknown']\n",
      "['button', 'colorTemperature', 'contact', 'level', 'lock', 'motion', 'ping', 'status', 'switch', 'temperature', 'unknown']\n",
      "(24440,)\n",
      "==================HOME Case : Omid =============\n",
      "------------------------------------------------------------------------\n",
      "in load from merged\n",
      "loading from test files\n",
      "found files :  5\n",
      "home_os_final.json\n",
      "home_sk_final.json\n",
      "test_data_light.json\n",
      "test_data_motion_2.json\n",
      "['button', 'colorTemperature', 'contact', 'level', 'lock', 'motion', 'ping', 'status', 'switch', 'temperature', 'unknown']\n",
      "(19250,)\n",
      "len x_TEst before predict 32511\n",
      "predicting ['button', 'colorTemperature', 'contact', 'level', 'lock', 'motion', 'ping', 'status', 'switch', 'temperature', 'unknown']\n",
      "['button', 'colorTemperature', 'contact', 'level', 'lock', 'motion', 'ping', 'status', 'switch', 'temperature', 'unknown']\n"
     ]
    },
    {
     "name": "stdout",
     "output_type": "stream",
     "text": [
      "(24440,)\n",
      "==================HOME Case : Omid =============\n",
      "------------------------------------------------------------------------\n",
      "in load from merged\n",
      "loading from test files\n",
      "found files :  5\n",
      "home_os_final.json\n",
      "home_sk_final.json\n",
      "test_data_light.json\n",
      "test_data_motion_2.json\n",
      "['button', 'colorTemperature', 'contact', 'level', 'lock', 'motion', 'ping', 'status', 'switch', 'temperature', 'unknown']\n",
      "(19450,)\n",
      "len x_TEst before predict 32511\n",
      "predicting ['button', 'colorTemperature', 'contact', 'level', 'lock', 'motion', 'ping', 'status', 'switch', 'temperature', 'unknown']\n",
      "['button', 'colorTemperature', 'contact', 'level', 'lock', 'motion', 'ping', 'status', 'switch', 'temperature', 'unknown']\n",
      "(24440,)\n",
      "==================HOME Case : Omid =============\n",
      "------------------------------------------------------------------------\n",
      "in load from merged\n",
      "loading from test files\n",
      "found files :  5\n",
      "home_os_final.json\n",
      "home_sk_final.json\n",
      "test_data_light.json\n",
      "test_data_motion_2.json\n",
      "['button', 'colorTemperature', 'contact', 'level', 'lock', 'motion', 'ping', 'status', 'switch', 'temperature', 'unknown']\n",
      "(19650,)\n",
      "len x_TEst before predict 32511\n",
      "predicting ['button', 'colorTemperature', 'contact', 'level', 'lock', 'motion', 'ping', 'status', 'switch', 'temperature', 'unknown']\n",
      "['button', 'colorTemperature', 'contact', 'level', 'lock', 'motion', 'ping', 'status', 'switch', 'temperature', 'unknown']\n",
      "(24440,)\n",
      "==================HOME Case : Omid =============\n",
      "------------------------------------------------------------------------\n",
      "in load from merged\n",
      "loading from test files\n",
      "found files :  5\n",
      "home_os_final.json\n",
      "home_sk_final.json\n",
      "test_data_light.json\n",
      "test_data_motion_2.json\n",
      "['button', 'colorTemperature', 'contact', 'level', 'lock', 'motion', 'ping', 'status', 'switch', 'temperature', 'unknown']\n",
      "(19850,)\n",
      "len x_TEst before predict 32511\n",
      "predicting ['button', 'colorTemperature', 'contact', 'level', 'lock', 'motion', 'ping', 'status', 'switch', 'temperature', 'unknown']\n",
      "['button', 'colorTemperature', 'contact', 'level', 'lock', 'motion', 'ping', 'status', 'switch', 'temperature', 'unknown']\n",
      "(24440,)\n",
      "==================HOME Case : Omid =============\n",
      "------------------------------------------------------------------------\n",
      "in load from merged\n",
      "loading from test files\n",
      "found files :  5\n",
      "home_os_final.json\n",
      "home_sk_final.json\n",
      "test_data_light.json\n",
      "test_data_motion_2.json\n",
      "['button', 'colorTemperature', 'contact', 'level', 'lock', 'motion', 'ping', 'status', 'switch', 'temperature', 'unknown']\n",
      "(20050,)\n",
      "len x_TEst before predict 32511\n",
      "predicting ['button', 'colorTemperature', 'contact', 'level', 'lock', 'motion', 'ping', 'status', 'switch', 'temperature', 'unknown']\n",
      "['button', 'colorTemperature', 'contact', 'level', 'lock', 'motion', 'ping', 'status', 'switch', 'temperature', 'unknown']\n",
      "(24440,)\n",
      "==================HOME Case : Omid =============\n",
      "------------------------------------------------------------------------\n",
      "in load from merged\n",
      "loading from test files\n",
      "found files :  5\n",
      "home_os_final.json\n",
      "home_sk_final.json\n",
      "test_data_light.json\n",
      "test_data_motion_2.json\n",
      "['button', 'colorTemperature', 'contact', 'level', 'lock', 'motion', 'ping', 'status', 'switch', 'temperature', 'unknown']\n",
      "(20250,)\n",
      "len x_TEst before predict 32511\n",
      "predicting ['button', 'colorTemperature', 'contact', 'level', 'lock', 'motion', 'ping', 'status', 'switch', 'temperature', 'unknown']\n",
      "['button', 'colorTemperature', 'contact', 'level', 'lock', 'motion', 'ping', 'status', 'switch', 'temperature', 'unknown']\n",
      "(24440,)\n",
      "==================HOME Case : Omid =============\n",
      "------------------------------------------------------------------------\n",
      "in load from merged\n",
      "loading from test files\n",
      "found files :  5\n",
      "home_os_final.json\n",
      "home_sk_final.json\n",
      "test_data_light.json\n",
      "test_data_motion_2.json\n",
      "['button', 'colorTemperature', 'contact', 'level', 'lock', 'motion', 'ping', 'status', 'switch', 'temperature', 'unknown']\n",
      "(20450,)\n",
      "len x_TEst before predict 32511\n",
      "predicting ['button', 'colorTemperature', 'contact', 'level', 'lock', 'motion', 'ping', 'status', 'switch', 'temperature', 'unknown']\n",
      "['button', 'colorTemperature', 'contact', 'level', 'lock', 'motion', 'ping', 'status', 'switch', 'temperature', 'unknown']\n",
      "(24440,)\n",
      "==================HOME Case : Omid =============\n",
      "------------------------------------------------------------------------\n",
      "in load from merged\n",
      "loading from test files\n",
      "found files :  5\n",
      "home_os_final.json\n",
      "home_sk_final.json\n",
      "test_data_light.json\n",
      "test_data_motion_2.json\n",
      "['button', 'colorTemperature', 'contact', 'level', 'lock', 'motion', 'ping', 'status', 'switch', 'temperature', 'unknown']\n",
      "(20650,)\n",
      "len x_TEst before predict 32511\n",
      "predicting ['button', 'colorTemperature', 'contact', 'level', 'lock', 'motion', 'ping', 'status', 'switch', 'temperature', 'unknown']\n",
      "['button', 'colorTemperature', 'contact', 'level', 'lock', 'motion', 'ping', 'status', 'switch', 'temperature', 'unknown']\n",
      "(24440,)\n",
      "==================HOME Case : Omid =============\n",
      "------------------------------------------------------------------------\n",
      "in load from merged\n",
      "loading from test files\n",
      "found files :  5\n",
      "home_os_final.json\n",
      "home_sk_final.json\n",
      "test_data_light.json\n",
      "test_data_motion_2.json\n",
      "['button', 'colorTemperature', 'contact', 'level', 'lock', 'motion', 'ping', 'status', 'switch', 'temperature', 'unknown']\n",
      "(20850,)\n",
      "len x_TEst before predict 32511\n",
      "predicting ['button', 'colorTemperature', 'contact', 'level', 'lock', 'motion', 'ping', 'status', 'switch', 'temperature', 'unknown']\n",
      "['button', 'colorTemperature', 'contact', 'level', 'lock', 'motion', 'ping', 'status', 'switch', 'temperature', 'unknown']\n",
      "(24440,)\n",
      "==================HOME Case : Omid =============\n",
      "------------------------------------------------------------------------\n",
      "in load from merged\n",
      "loading from test files\n",
      "found files :  5\n",
      "home_os_final.json\n",
      "home_sk_final.json\n",
      "test_data_light.json\n",
      "test_data_motion_2.json\n",
      "['button', 'colorTemperature', 'contact', 'level', 'lock', 'motion', 'ping', 'status', 'switch', 'temperature', 'unknown']\n",
      "(21050,)\n",
      "len x_TEst before predict 32511\n",
      "predicting ['button', 'colorTemperature', 'contact', 'level', 'lock', 'motion', 'ping', 'status', 'switch', 'temperature', 'unknown']\n",
      "['button', 'colorTemperature', 'contact', 'level', 'lock', 'motion', 'ping', 'status', 'switch', 'temperature', 'unknown']\n",
      "(24440,)\n",
      "==================HOME Case : Omid =============\n",
      "------------------------------------------------------------------------\n",
      "in load from merged\n",
      "loading from test files\n",
      "found files :  5\n",
      "home_os_final.json\n",
      "home_sk_final.json\n",
      "test_data_light.json\n",
      "test_data_motion_2.json\n",
      "['button', 'colorTemperature', 'contact', 'level', 'lock', 'motion', 'ping', 'status', 'switch', 'temperature', 'unknown']\n",
      "(21250,)\n",
      "len x_TEst before predict 32511\n",
      "predicting ['button', 'colorTemperature', 'contact', 'level', 'lock', 'motion', 'ping', 'status', 'switch', 'temperature', 'unknown']\n",
      "['button', 'colorTemperature', 'contact', 'level', 'lock', 'motion', 'ping', 'status', 'switch', 'temperature', 'unknown']\n",
      "(24440,)\n",
      "==================HOME Case : Omid =============\n",
      "------------------------------------------------------------------------\n",
      "in load from merged\n",
      "loading from test files\n",
      "found files :  5\n",
      "home_os_final.json\n",
      "home_sk_final.json\n",
      "test_data_light.json\n",
      "test_data_motion_2.json\n",
      "['button', 'colorTemperature', 'contact', 'level', 'lock', 'motion', 'ping', 'status', 'switch', 'temperature', 'unknown']\n",
      "(21450,)\n",
      "len x_TEst before predict 32511\n",
      "predicting ['button', 'colorTemperature', 'contact', 'level', 'lock', 'motion', 'ping', 'status', 'switch', 'temperature', 'unknown']\n",
      "['button', 'colorTemperature', 'contact', 'level', 'lock', 'motion', 'ping', 'status', 'switch', 'temperature', 'unknown']\n",
      "(24440,)\n",
      "==================HOME Case : Omid =============\n",
      "------------------------------------------------------------------------\n",
      "in load from merged\n",
      "loading from test files\n",
      "found files :  5\n",
      "home_os_final.json\n",
      "home_sk_final.json\n",
      "test_data_light.json\n",
      "test_data_motion_2.json\n",
      "['button', 'colorTemperature', 'contact', 'level', 'lock', 'motion', 'ping', 'status', 'switch', 'temperature', 'unknown']\n",
      "(21650,)\n",
      "len x_TEst before predict 32511\n",
      "predicting ['button', 'colorTemperature', 'contact', 'level', 'lock', 'motion', 'ping', 'status', 'switch', 'temperature', 'unknown']\n",
      "['button', 'colorTemperature', 'contact', 'level', 'lock', 'motion', 'ping', 'status', 'switch', 'temperature', 'unknown']\n"
     ]
    },
    {
     "name": "stdout",
     "output_type": "stream",
     "text": [
      "(24440,)\n",
      "==================HOME Case : Omid =============\n",
      "------------------------------------------------------------------------\n",
      "in load from merged\n",
      "loading from test files\n",
      "found files :  5\n",
      "home_os_final.json\n",
      "home_sk_final.json\n",
      "test_data_light.json\n",
      "test_data_motion_2.json\n",
      "['button', 'colorTemperature', 'contact', 'level', 'lock', 'motion', 'ping', 'status', 'switch', 'temperature', 'unknown']\n",
      "(21850,)\n",
      "len x_TEst before predict 32511\n",
      "predicting ['button', 'colorTemperature', 'contact', 'level', 'lock', 'motion', 'ping', 'status', 'switch', 'temperature', 'unknown']\n",
      "['button', 'colorTemperature', 'contact', 'level', 'lock', 'motion', 'ping', 'status', 'switch', 'temperature', 'unknown']\n",
      "(24440,)\n",
      "==================HOME Case : Omid =============\n",
      "------------------------------------------------------------------------\n",
      "in load from merged\n",
      "loading from test files\n",
      "found files :  5\n",
      "home_os_final.json\n",
      "home_sk_final.json\n",
      "test_data_light.json\n",
      "test_data_motion_2.json\n",
      "['button', 'colorTemperature', 'contact', 'level', 'lock', 'motion', 'ping', 'status', 'switch', 'temperature', 'unknown']\n",
      "(22050,)\n",
      "len x_TEst before predict 32511\n",
      "predicting ['button', 'colorTemperature', 'contact', 'level', 'lock', 'motion', 'ping', 'status', 'switch', 'temperature', 'unknown']\n",
      "['button', 'colorTemperature', 'contact', 'level', 'lock', 'motion', 'ping', 'status', 'switch', 'temperature', 'unknown']\n",
      "(24440,)\n",
      "==================HOME Case : Omid =============\n",
      "------------------------------------------------------------------------\n",
      "in load from merged\n",
      "loading from test files\n",
      "found files :  5\n",
      "home_os_final.json\n",
      "home_sk_final.json\n",
      "test_data_light.json\n",
      "test_data_motion_2.json\n",
      "['button', 'colorTemperature', 'contact', 'level', 'lock', 'motion', 'ping', 'status', 'switch', 'temperature', 'unknown']\n",
      "(22250,)\n",
      "len x_TEst before predict 32511\n",
      "predicting ['button', 'colorTemperature', 'contact', 'level', 'lock', 'motion', 'ping', 'status', 'switch', 'temperature', 'unknown']\n",
      "['button', 'colorTemperature', 'contact', 'level', 'lock', 'motion', 'ping', 'status', 'switch', 'temperature', 'unknown']\n",
      "(24440,)\n",
      "==================HOME Case : Omid =============\n",
      "------------------------------------------------------------------------\n",
      "in load from merged\n",
      "loading from test files\n",
      "found files :  5\n",
      "home_os_final.json\n",
      "home_sk_final.json\n",
      "test_data_light.json\n",
      "test_data_motion_2.json\n",
      "['button', 'colorTemperature', 'contact', 'level', 'lock', 'motion', 'ping', 'status', 'switch', 'temperature', 'unknown']\n",
      "(22450,)\n",
      "len x_TEst before predict 32511\n",
      "predicting ['button', 'colorTemperature', 'contact', 'level', 'lock', 'motion', 'ping', 'status', 'switch', 'temperature', 'unknown']\n",
      "['button', 'colorTemperature', 'contact', 'level', 'lock', 'motion', 'ping', 'status', 'switch', 'temperature', 'unknown']\n",
      "(24440,)\n",
      "==================HOME Case : Omid =============\n",
      "------------------------------------------------------------------------\n",
      "in load from merged\n",
      "loading from test files\n",
      "found files :  5\n",
      "home_os_final.json\n",
      "home_sk_final.json\n",
      "test_data_light.json\n",
      "test_data_motion_2.json\n",
      "['button', 'colorTemperature', 'contact', 'level', 'lock', 'motion', 'ping', 'status', 'switch', 'temperature', 'unknown']\n",
      "(22650,)\n",
      "len x_TEst before predict 32511\n",
      "predicting ['button', 'colorTemperature', 'contact', 'level', 'lock', 'motion', 'ping', 'status', 'switch', 'temperature', 'unknown']\n",
      "['button', 'colorTemperature', 'contact', 'level', 'lock', 'motion', 'ping', 'status', 'switch', 'temperature', 'unknown']\n",
      "(24440,)\n",
      "==================HOME Case : Omid =============\n",
      "------------------------------------------------------------------------\n",
      "in load from merged\n",
      "loading from test files\n",
      "found files :  5\n",
      "home_os_final.json\n",
      "home_sk_final.json\n",
      "test_data_light.json\n",
      "test_data_motion_2.json\n",
      "['button', 'colorTemperature', 'contact', 'level', 'lock', 'motion', 'ping', 'status', 'switch', 'temperature', 'unknown']\n",
      "(22850,)\n",
      "len x_TEst before predict 32511\n",
      "predicting ['button', 'colorTemperature', 'contact', 'level', 'lock', 'motion', 'ping', 'status', 'switch', 'temperature', 'unknown']\n",
      "['button', 'colorTemperature', 'contact', 'level', 'lock', 'motion', 'ping', 'status', 'switch', 'temperature', 'unknown']\n",
      "(24440,)\n",
      "==================HOME Case : Omid =============\n",
      "------------------------------------------------------------------------\n",
      "in load from merged\n",
      "loading from test files\n",
      "found files :  5\n",
      "home_os_final.json\n",
      "home_sk_final.json\n",
      "test_data_light.json\n",
      "test_data_motion_2.json\n",
      "['button', 'colorTemperature', 'contact', 'level', 'lock', 'motion', 'ping', 'status', 'switch', 'temperature', 'unknown']\n",
      "(23050,)\n",
      "len x_TEst before predict 32511\n",
      "predicting ['button', 'colorTemperature', 'contact', 'level', 'lock', 'motion', 'ping', 'status', 'switch', 'temperature', 'unknown']\n",
      "['button', 'colorTemperature', 'contact', 'level', 'lock', 'motion', 'ping', 'status', 'switch', 'temperature', 'unknown']\n",
      "(24440,)\n",
      "==================HOME Case : Omid =============\n",
      "------------------------------------------------------------------------\n",
      "in load from merged\n",
      "loading from test files\n",
      "found files :  5\n",
      "home_os_final.json\n",
      "home_sk_final.json\n",
      "test_data_light.json\n",
      "test_data_motion_2.json\n",
      "['button', 'colorTemperature', 'contact', 'level', 'lock', 'motion', 'ping', 'status', 'switch', 'temperature', 'unknown']\n",
      "(23250,)\n",
      "len x_TEst before predict 32511\n",
      "predicting ['button', 'colorTemperature', 'contact', 'level', 'lock', 'motion', 'ping', 'status', 'switch', 'temperature', 'unknown']\n",
      "['button', 'colorTemperature', 'contact', 'level', 'lock', 'motion', 'ping', 'status', 'switch', 'temperature', 'unknown']\n",
      "(24440,)\n",
      "==================HOME Case : Omid =============\n",
      "------------------------------------------------------------------------\n",
      "in load from merged\n",
      "loading from test files\n",
      "found files :  5\n",
      "home_os_final.json\n",
      "home_sk_final.json\n",
      "test_data_light.json\n",
      "test_data_motion_2.json\n",
      "['button', 'colorTemperature', 'contact', 'level', 'lock', 'motion', 'ping', 'status', 'switch', 'temperature', 'unknown']\n",
      "(23450,)\n",
      "len x_TEst before predict 32511\n",
      "predicting ['button', 'colorTemperature', 'contact', 'level', 'lock', 'motion', 'ping', 'status', 'switch', 'temperature', 'unknown']\n",
      "['button', 'colorTemperature', 'contact', 'level', 'lock', 'motion', 'ping', 'status', 'switch', 'temperature', 'unknown']\n",
      "(24440,)\n",
      "==================HOME Case : Omid =============\n",
      "------------------------------------------------------------------------\n",
      "in load from merged\n",
      "loading from test files\n",
      "found files :  5\n",
      "home_os_final.json\n",
      "home_sk_final.json\n",
      "test_data_light.json\n",
      "test_data_motion_2.json\n",
      "['button', 'colorTemperature', 'contact', 'level', 'lock', 'motion', 'ping', 'status', 'switch', 'temperature', 'unknown']\n",
      "(23650,)\n",
      "len x_TEst before predict 32511\n",
      "predicting ['button', 'colorTemperature', 'contact', 'level', 'lock', 'motion', 'ping', 'status', 'switch', 'temperature', 'unknown']\n",
      "['button', 'colorTemperature', 'contact', 'level', 'lock', 'motion', 'ping', 'status', 'switch', 'temperature', 'unknown']\n",
      "(24440,)\n",
      "==================HOME Case : Omid =============\n",
      "------------------------------------------------------------------------\n",
      "in load from merged\n",
      "loading from test files\n",
      "found files :  5\n",
      "home_os_final.json\n",
      "home_sk_final.json\n",
      "test_data_light.json\n",
      "test_data_motion_2.json\n",
      "['button', 'colorTemperature', 'contact', 'level', 'lock', 'motion', 'ping', 'status', 'switch', 'temperature', 'unknown']\n",
      "(23850,)\n",
      "len x_TEst before predict 32511\n",
      "predicting ['button', 'colorTemperature', 'contact', 'level', 'lock', 'motion', 'ping', 'status', 'switch', 'temperature', 'unknown']\n",
      "['button', 'colorTemperature', 'contact', 'level', 'lock', 'motion', 'ping', 'status', 'switch', 'temperature', 'unknown']\n",
      "(24440,)\n",
      "==================HOME Case : Omid =============\n",
      "------------------------------------------------------------------------\n",
      "in load from merged\n",
      "loading from test files\n",
      "found files :  5\n",
      "home_os_final.json\n",
      "home_sk_final.json\n",
      "test_data_light.json\n",
      "test_data_motion_2.json\n",
      "['button', 'colorTemperature', 'contact', 'level', 'lock', 'motion', 'ping', 'status', 'switch', 'temperature', 'unknown']\n",
      "(24050,)\n",
      "len x_TEst before predict 32511\n",
      "predicting ['button', 'colorTemperature', 'contact', 'level', 'lock', 'motion', 'ping', 'status', 'switch', 'temperature', 'unknown']\n",
      "['button', 'colorTemperature', 'contact', 'level', 'lock', 'motion', 'ping', 'status', 'switch', 'temperature', 'unknown']\n"
     ]
    },
    {
     "name": "stdout",
     "output_type": "stream",
     "text": [
      "(24440,)\n",
      "==================HOME Case : Omid =============\n",
      "------------------------------------------------------------------------\n",
      "in load from merged\n",
      "loading from test files\n",
      "found files :  5\n",
      "home_os_final.json\n",
      "home_sk_final.json\n",
      "test_data_light.json\n",
      "test_data_motion_2.json\n",
      "['button', 'colorTemperature', 'contact', 'level', 'lock', 'motion', 'ping', 'status', 'switch', 'temperature', 'unknown']\n",
      "(24173,)\n",
      "len x_TEst before predict 32511\n",
      "predicting ['button', 'colorTemperature', 'contact', 'level', 'lock', 'motion', 'ping', 'status', 'switch', 'temperature', 'unknown']\n",
      "['button', 'colorTemperature', 'contact', 'level', 'lock', 'motion', 'ping', 'status', 'switch', 'temperature', 'unknown']\n",
      "(24440,)\n",
      "==================HOME Case : Omid =============\n",
      "------------------------------------------------------------------------\n",
      "in load from merged\n",
      "loading from test files\n",
      "found files :  5\n",
      "home_os_final.json\n",
      "home_sk_final.json\n",
      "test_data_light.json\n",
      "test_data_motion_2.json\n",
      "['button', 'colorTemperature', 'contact', 'level', 'lock', 'motion', 'ping', 'status', 'switch', 'temperature', 'unknown']\n",
      "(24173,)\n",
      "len x_TEst before predict 32511\n",
      "predicting ['button', 'colorTemperature', 'contact', 'level', 'lock', 'motion', 'ping', 'status', 'switch', 'temperature', 'unknown']\n",
      "['button', 'colorTemperature', 'contact', 'level', 'lock', 'motion', 'ping', 'status', 'switch', 'temperature', 'unknown']\n",
      "(24440,)\n",
      "==================HOME Case : Omid =============\n",
      "------------------------------------------------------------------------\n",
      "in load from merged\n",
      "loading from test files\n",
      "found files :  5\n",
      "home_os_final.json\n",
      "home_sk_final.json\n",
      "test_data_light.json\n",
      "test_data_motion_2.json\n",
      "['button', 'colorTemperature', 'contact', 'level', 'lock', 'motion', 'ping', 'status', 'switch', 'temperature', 'unknown']\n",
      "(24173,)\n",
      "len x_TEst before predict 32511\n",
      "predicting ['button', 'colorTemperature', 'contact', 'level', 'lock', 'motion', 'ping', 'status', 'switch', 'temperature', 'unknown']\n",
      "['button', 'colorTemperature', 'contact', 'level', 'lock', 'motion', 'ping', 'status', 'switch', 'temperature', 'unknown']\n",
      "(24440,)\n",
      "==================HOME Case : Omid =============\n",
      "------------------------------------------------------------------------\n",
      "in load from merged\n",
      "loading from test files\n",
      "found files :  5\n",
      "home_os_final.json\n",
      "home_sk_final.json\n",
      "test_data_light.json\n",
      "test_data_motion_2.json\n",
      "['button', 'colorTemperature', 'contact', 'level', 'lock', 'motion', 'ping', 'status', 'switch', 'temperature', 'unknown']\n",
      "(24173,)\n",
      "len x_TEst before predict 32511\n",
      "predicting ['button', 'colorTemperature', 'contact', 'level', 'lock', 'motion', 'ping', 'status', 'switch', 'temperature', 'unknown']\n",
      "['button', 'colorTemperature', 'contact', 'level', 'lock', 'motion', 'ping', 'status', 'switch', 'temperature', 'unknown']\n",
      "(24440,)\n",
      "==================HOME Case : Omid =============\n",
      "------------------------------------------------------------------------\n",
      "in load from merged\n",
      "loading from test files\n",
      "found files :  5\n",
      "home_os_final.json\n",
      "home_sk_final.json\n",
      "test_data_light.json\n",
      "test_data_motion_2.json\n",
      "['button', 'colorTemperature', 'contact', 'level', 'lock', 'motion', 'ping', 'status', 'switch', 'temperature', 'unknown']\n",
      "(24173,)\n",
      "len x_TEst before predict 32511\n",
      "predicting ['button', 'colorTemperature', 'contact', 'level', 'lock', 'motion', 'ping', 'status', 'switch', 'temperature', 'unknown']\n",
      "['button', 'colorTemperature', 'contact', 'level', 'lock', 'motion', 'ping', 'status', 'switch', 'temperature', 'unknown']\n",
      "(24440,)\n",
      "==================HOME Case : Omid =============\n",
      "------------------------------------------------------------------------\n",
      "in load from merged\n",
      "loading from test files\n",
      "found files :  5\n",
      "home_os_final.json\n",
      "home_sk_final.json\n",
      "test_data_light.json\n",
      "test_data_motion_2.json\n",
      "['button', 'colorTemperature', 'contact', 'level', 'lock', 'motion', 'ping', 'status', 'switch', 'temperature', 'unknown']\n",
      "(24173,)\n",
      "len x_TEst before predict 32511\n",
      "predicting ['button', 'colorTemperature', 'contact', 'level', 'lock', 'motion', 'ping', 'status', 'switch', 'temperature', 'unknown']\n",
      "['button', 'colorTemperature', 'contact', 'level', 'lock', 'motion', 'ping', 'status', 'switch', 'temperature', 'unknown']\n",
      "(24440,)\n",
      "==================HOME Case : Omid =============\n",
      "------------------------------------------------------------------------\n",
      "in load from merged\n",
      "loading from test files\n",
      "found files :  5\n",
      "home_os_final.json\n",
      "home_sk_final.json\n",
      "test_data_light.json\n",
      "test_data_motion_2.json\n",
      "['button', 'colorTemperature', 'contact', 'level', 'lock', 'motion', 'ping', 'status', 'switch', 'temperature', 'unknown']\n",
      "(24173,)\n",
      "len x_TEst before predict 32511\n",
      "predicting ['button', 'colorTemperature', 'contact', 'level', 'lock', 'motion', 'ping', 'status', 'switch', 'temperature', 'unknown']\n",
      "['button', 'colorTemperature', 'contact', 'level', 'lock', 'motion', 'ping', 'status', 'switch', 'temperature', 'unknown']\n",
      "(24440,)\n",
      "==================HOME Case : Omid =============\n",
      "------------------------------------------------------------------------\n",
      "in load from merged\n",
      "loading from test files\n",
      "found files :  5\n",
      "home_os_final.json\n",
      "home_sk_final.json\n",
      "test_data_light.json\n",
      "test_data_motion_2.json\n",
      "['button', 'colorTemperature', 'contact', 'level', 'lock', 'motion', 'ping', 'status', 'switch', 'temperature', 'unknown']\n",
      "(24173,)\n",
      "len x_TEst before predict 32511\n",
      "predicting ['button', 'colorTemperature', 'contact', 'level', 'lock', 'motion', 'ping', 'status', 'switch', 'temperature', 'unknown']\n",
      "['button', 'colorTemperature', 'contact', 'level', 'lock', 'motion', 'ping', 'status', 'switch', 'temperature', 'unknown']\n",
      "(24440,)\n",
      "==================HOME Case : Omid =============\n",
      "------------------------------------------------------------------------\n",
      "in load from merged\n",
      "loading from test files\n",
      "found files :  5\n",
      "home_os_final.json\n",
      "home_sk_final.json\n",
      "test_data_light.json\n",
      "test_data_motion_2.json\n",
      "['button', 'colorTemperature', 'contact', 'level', 'lock', 'motion', 'ping', 'status', 'switch', 'temperature', 'unknown']\n",
      "(24173,)\n",
      "len x_TEst before predict 32511\n",
      "predicting ['button', 'colorTemperature', 'contact', 'level', 'lock', 'motion', 'ping', 'status', 'switch', 'temperature', 'unknown']\n",
      "['button', 'colorTemperature', 'contact', 'level', 'lock', 'motion', 'ping', 'status', 'switch', 'temperature', 'unknown']\n",
      "(24440,)\n",
      "==================HOME Case : Omid =============\n",
      "------------------------------------------------------------------------\n"
     ]
    }
   ],
   "source": [
    "count_eval_results = []\n",
    "for t_len in range(50, 26000, 200):\n",
    "    x_data= []\n",
    "    y_data= []\n",
    "    x_test = []\n",
    "    y_test = []\n",
    "    y_test_service= []\n",
    "    x_train = []\n",
    "    y_train = []\n",
    "    test_names = []\n",
    "    y_train_service=[]\n",
    "    y_train_process_encoded=[]\n",
    "\n",
    "    test_names = []\n",
    "\n",
    "    add_to_trainig = [0,2]\n",
    "\n",
    "    if loadFromMerged:\n",
    "        print(\"in load from merged\")\n",
    "        for pick in sorted(glob.glob( '../files/iot_data_2020/train/hub_segments/*.json' )):\n",
    "            fname  = os.path.basename(pick)\n",
    "    #             test_names.append( fname )\n",
    "            with open( os.path.join( '../files/iot_data_2020/train/hub_segments/', fname) ) as f:\n",
    "                y_data = json.load(f)\n",
    "\n",
    "            with open( os.path.join('../files/iot_data_2020/train/pcap_segments/', fname) ) as f:\n",
    "                x_data = json.load(f)\n",
    "\n",
    "            if len( y_data ) != len(x_data) :\n",
    "                print( pick )\n",
    "                continue\n",
    "\n",
    "            x_t,y_t, y_t_s= clean_data( x_data, y_data, IgnoreEmpty , \n",
    "                                                     Mapping=Mapper )\n",
    "\n",
    "            x_train.extend(x_t)\n",
    "            y_train.extend(y_t)\n",
    "            y_train_service.extend(y_t_s)\n",
    "\n",
    "        print(\"loading from test files\")\n",
    "        files_path =  '../files/iot_data_2020/usecases/pcap_segments_final/*.json'\n",
    "        test_y_dir = '../files/iot_data_2020/usecases/hub_segments_final/'\n",
    "        test_x_dir =  '../files/iot_data_2020/usecases/pcap_segments_final/'\n",
    "\n",
    "        test_files = sorted(glob.glob(files_path))\n",
    "        print( \"found files : \" , len(test_files) )\n",
    "\n",
    "\n",
    "    for pick  in test_files:\n",
    "        if 'lock' in pick:\n",
    "            continue\n",
    "        fname  = os.path.basename(pick)\n",
    "        test_names.append( fname )\n",
    "        print(fname)\n",
    "        with open( os.path.join(test_y_dir , fname) ) as f:\n",
    "            y_data_test = json.load(f)\n",
    "\n",
    "        with open( os.path.join(test_x_dir, fname) ) as f:\n",
    "            x_data_test = json.load(f)\n",
    "\n",
    "\n",
    "        t_x,t_y, t_z= clean_data( x_data_test, y_data_test, False , Mapping=Mapper)\n",
    "\n",
    "\n",
    "        x_test.extend(t_x)\n",
    "        y_test.extend(t_y)\n",
    "        y_test_service.extend(t_z)\n",
    "    x_train= x_train[:t_len]\n",
    "    y_train= y_train[:t_len]\n",
    "    \n",
    "   # --------------------------------------------\n",
    "       \n",
    "        \n",
    "        \n",
    "    \n",
    "\n",
    "    def predict_labels(classes,x_test_new,y_test_new,confidence):\n",
    "        is_string=True\n",
    "        print('predicting', classes)\n",
    "        x_test_processed,y_test_processed_encoded, y_test_processed = pre_process_raw( x_test_new,\n",
    "         y_test_new , dim_size, \n",
    "        test=True, normalize=False, classes=classes, string=is_string)\n",
    "\n",
    "        def draw_xgb_tree():\n",
    "            xgb = XGBClassifier()\n",
    "            y = [labels.split(' ')[0] for labels in y_train_processed]\n",
    "            # x_train_array = [map(int,x.split(' ')) for x in x_train_processed]      \n",
    "\n",
    "            xgb.fit(x_train_processed, y)   \n",
    "            # plot single tree\n",
    "            plot_importance(xgb)\n",
    "            plot_tree(xgb)\n",
    "            plt.show()\n",
    "\n",
    "        # draw_xgb_tree()\n",
    "        def classify_xgb(x_test_processed):\n",
    "            xgb_classifier = OneVsRestClassifier(XGBClassifier())\n",
    "            if is_string:\n",
    "                vectorizer = CountVectorizer(analyzer='word', ngram_range=(1,4))\n",
    "                x_train_str = vectorizer.fit_transform(x_train_processed)            \n",
    "                x_test_str = vectorizer.transform(x_test_processed)        \n",
    "                xgb_classifier.fit(x_train_str, y_train_processed_encoded)\n",
    "\n",
    "            else:\n",
    "                xgb_classifier.fit(x_train_processed, y_train_processed_encoded)\n",
    "\n",
    "            known_x_data=[]\n",
    "            known_y_data=[]\n",
    "            print( \"==================HOME Case : Omid =============\"  )\n",
    "            rf_pred= xgb_classifier.predict_proba(x_test_str)\n",
    "            #print(rf_pred)\n",
    "            temp = print_info(y_test_processed_encoded, rf_pred, classes, confidence, size= t_len)\n",
    "\n",
    "            for ind,y_true in enumerate(y_test_processed):     \n",
    "\n",
    "                y_pred_class = [classes[i] for i,x in enumerate(rf_pred[ind]) if x>=confidence]\n",
    "    #             if 'known' not in classes: \n",
    "    #                 print(y_true, y_pred_class)\n",
    "    #                 # if not y_true and y_pred_class and 'unknown' not in y_pred_class:\n",
    "    #                 if 'contact' in y_pred_class or 'contact' in y_true:\n",
    "    #                     print(\"True: \", y_true,\"\\n Pred: \",y_pred_class )\n",
    "    #                     # print(\"Last 5 true: \",y_test_processed[ind-10:ind])\n",
    "    #                     print(x_test_processed[ind])\n",
    "\n",
    "                y_pred_class = y_pred_class if y_pred_class else ['none']\n",
    "                if 'known' in classes and 'known' in y_pred_class:\n",
    "                    # print(x_test_processed[ind],\"\\nTrue: \",y_true, \"\\nPrediction: \", ' '.join(y_pred_class))\n",
    "                    known_x_data.append(x_test_processed[ind].split(' '))\n",
    "                    known_y_data.append(y_true.split(' '))\n",
    "                else:\n",
    "                    known_x_data.append(x_test_processed[ind].split(' '))\n",
    "                    known_y_data.append(y_pred_class)\n",
    "            # for item in zip(known_y_data,known_x_data):\n",
    "            #     print(item)\n",
    "            return temp #known_x_data,known_y_data\n",
    "        # classify_RandomForest()\n",
    "        return classify_xgb(x_test_processed)\n",
    "\n",
    "\n",
    "\n",
    "\n",
    "\n",
    "    dim_size= 15\n",
    "    is_string =True\n",
    "    services_to_keep = ['unknown','known']\n",
    "\n",
    "    classes=None\n",
    "    terms_dic = {}\n",
    "\n",
    "\n",
    "    if Mapper == 'SE':\n",
    "        services_to_keep =['button-held',\n",
    "         'button-pushed',\n",
    "                \"colorTemperature-XXX\",\n",
    "        \"contact-closed\",\n",
    "        \"contact-open\",\n",
    "        \"level-XXX\",\n",
    "        \"lock-locked\",\n",
    "        \"lock-unlocked\",\n",
    "        \"motion-active\",\n",
    "        \"motion-inactive\",\n",
    "        \"ping-ping\",\n",
    "        \"status-closed\",\n",
    "        \"status-open\",\n",
    "        \"switch-off\",\n",
    "        \"switch-on\",\n",
    "        \"temperature-XXX\"\n",
    "            ] \n",
    "    else:\n",
    "        services_to_keep= ['unknown','colorTemperature','level','switch','ping','temperature','motion' ,'lock','contact','status','button']\n",
    "\n",
    "    classes = sorted(services_to_keep)\n",
    "\n",
    "    x_train_processed,y_train_processed_encoded, y_train_processed = pre_process_raw( x_train, y_train , dim_size, test=False, normalize=False, classes=classes, string=is_string)\n",
    "\n",
    "    classes = sorted(services_to_keep)\n",
    "    if classes is None:\n",
    "        classes  = sorted(list(np.unique(  np.concatenate( y_train  ))))\n",
    "    else :\n",
    "        classes = sorted(classes)\n",
    "    if classes and 'unknown' not in classes:\n",
    "        classes.append('unknown') \n",
    "    print(\"len x_TEst before predict %d\" %len(x_test))\n",
    "    count_eval_results.append( predict_labels(classes,x_test,y_test,0.2))"
   ]
  },
  {
   "cell_type": "code",
   "execution_count": 8,
   "metadata": {},
   "outputs": [
    {
     "data": {
      "text/plain": [
       "130"
      ]
     },
     "execution_count": 8,
     "metadata": {},
     "output_type": "execute_result"
    }
   ],
   "source": [
    "len(count_eval_results)"
   ]
  },
  {
   "cell_type": "code",
   "execution_count": 12,
   "metadata": {},
   "outputs": [
    {
     "data": {
      "text/plain": [
       "<matplotlib.legend.Legend at 0x7f3d706e4b38>"
      ]
     },
     "execution_count": 12,
     "metadata": {},
     "output_type": "execute_result"
    },
    {
     "data": {
      "image/png": "[encoded data removed]",
      "text/plain": [
       "<Figure size 1080x288 with 1 Axes>"
      ]
     },
     "metadata": {
      "needs_background": "light"
     },
     "output_type": "display_data"
    },
    {
     "data": {
      "image/png": "[encoded data removed]",
      "text/plain": [
       "<Figure size 1080x288 with 1 Axes>"
      ]
     },
     "metadata": {
      "needs_background": "light"
     },
     "output_type": "display_data"
    },
    {
     "data": {
      "image/png": "[encoded data removed]",
      "text/plain": [
       "<Figure size 1080x288 with 1 Axes>"
      ]
     },
     "metadata": {
      "needs_background": "light"
     },
     "output_type": "display_data"
    }
   ],
   "source": [
    "\n",
    "counts = [x[0] for x in count_eval_results]\n",
    "known_f1 = [x[2][-1] for x in count_eval_results]\n",
    "all_f1 = [x[1][-1] for x in count_eval_results]\n",
    "\n",
    "known_recall = [x[2][1] for x in count_eval_results]\n",
    "all_recall = [x[1][1] for x in count_eval_results]\n",
    "\n",
    "known_pres = [x[2][-2] for x in count_eval_results]\n",
    "all_pres = [x[1][-2] for x in count_eval_results]\n",
    "\n",
    "plt.figure(figsize=(15,4))\n",
    "plt.title('xgb - Test average F1 change by the change in size of training')\n",
    "plt.xlabel('number of records in training set')\n",
    "plt.plot(counts, known_f1, c='red',  label='knwon F1')\n",
    "plt.plot(counts, all_f1, c='blue',  label='total F1')\n",
    "\n",
    "plt.legend()\n",
    "\n",
    "plt.figure(figsize=(15,4))\n",
    "plt.title('xgb - Test average recall change by the change in size of training')\n",
    "plt.xlabel('number of records in training set')\n",
    "\n",
    "plt.plot(counts, known_recall, c='red',  label='knwon recall')\n",
    "plt.plot(counts, all_recall, c='blue',  label='total recall')\n",
    "\n",
    "plt.legend()\n",
    "\n",
    "plt.figure(figsize=(15,4))\n",
    "plt.title('xgb - Test average precision change by the change in size of training')\n",
    "plt.xlabel('number of records in training set')\n",
    "\n",
    "plt.plot(counts, known_pres, c='red',  label='knwon precision')\n",
    "plt.plot(counts, all_pres, c='blue',  label='total precision')\n",
    "\n",
    "plt.legend()\n",
    "\n"
   ]
  },
  {
   "cell_type": "code",
   "execution_count": 10,
   "metadata": {},
   "outputs": [],
   "source": [
    "def flatter(inp):\n",
    "    ret = [inp[0]]\n",
    "    ret.extend(inp[1])\n",
    "    ret.extend(inp[2])\n",
    "    \n",
    "    return ret\n",
    "\n",
    "csv_ready = [flatter(x) for x in count_eval_results]\n",
    "\n",
    "    "
   ]
  },
  {
   "cell_type": "code",
   "execution_count": 11,
   "metadata": {},
   "outputs": [],
   "source": [
    "import csv \n",
    "\n",
    "with open('./outputs/xgb_training_by_row_evaluation-%s.csv' % Mapper, 'w') as csvfile:\n",
    "    writer = csv.writer(csvfile, delimiter=',',\n",
    "                            quotechar='|', quoting=csv.QUOTE_MINIMAL)\n",
    "    writer.writerow(['#training','acc','recall','precision','f1','known_acc','knwon_recall', 'known_precision','known_f1'])\n",
    "    writer.writerows(csv_ready)"
   ]
  },
  {
   "cell_type": "code",
   "execution_count": null,
   "metadata": {},
   "outputs": [],
   "source": []
  }
 ],
 "metadata": {
  "kernelspec": {
   "display_name": "Python3.6(omid)",
   "language": "python",
   "name": "omid"
  },
  "language_info": {
   "codemirror_mode": {
    "name": "ipython",
    "version": 3
   },
   "file_extension": ".py",
   "mimetype": "text/x-python",
   "name": "python",
   "nbconvert_exporter": "python",
   "pygments_lexer": "ipython3",
   "version": "3.6.10"
  }
 },
 "nbformat": 4,
 "nbformat_minor": 4
}
